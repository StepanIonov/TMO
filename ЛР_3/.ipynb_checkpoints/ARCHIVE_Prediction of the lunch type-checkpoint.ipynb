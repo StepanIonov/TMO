{
 "cells": [
  {
   "cell_type": "code",
   "execution_count": 1,
   "metadata": {},
   "outputs": [],
   "source": [
    "import numpy as np\n",
    "import pandas as pd\n",
    "import seaborn as sns\n",
    "import matplotlib.pyplot as plt\n",
    "%matplotlib inline \n",
    "sns.set(style=\"ticks\")\n",
    "\n",
    "from sklearn.preprocessing import LabelEncoder\n",
    "from sklearn.preprocessing import MinMaxScaler\n",
    "\n",
    "from sklearn.model_selection import train_test_split\n",
    "\n",
    "from sklearn.neighbors import KNeighborsClassifier\n",
    "\n",
    "from typing import Dict, Tuple\n",
    "\n",
    "from sklearn.metrics import accuracy_score, balanced_accuracy_score\n",
    "from sklearn.metrics import confusion_matrix\n",
    "from sklearn.metrics import classification_report\n",
    "from sklearn.metrics import plot_roc_curve, plot_precision_recall_curve\n",
    "\n",
    "from sklearn.model_selection import cross_validate, KFold, RepeatedKFold, ShuffleSplit\n",
    "from sklearn.model_selection import StratifiedKFold, RepeatedStratifiedKFold, StratifiedShuffleSplit\n",
    "from sklearn.model_selection import GridSearchCV, RandomizedSearchCV\n",
    "\n",
    "from scipy.stats import randint"
   ]
  },
  {
   "cell_type": "markdown",
   "metadata": {},
   "source": [
    "Будем использовать [датасет из первой лабораторной работы](https://www.kaggle.com/spscientist/students-performance-in-exams). Выполняя первую лабораторную работу, мы выяснили, что между признаками **math_score**, **reading_score**, **writing_score** существует корреляция, поэтому мы будем использовать агрегированное значение: среднее арифметическое от оценок - **Average_score**."
   ]
  },
  {
   "cell_type": "markdown",
   "metadata": {},
   "source": [
    "# 0. Подготовка"
   ]
  },
  {
   "cell_type": "code",
   "execution_count": 2,
   "metadata": {},
   "outputs": [],
   "source": [
    "data = pd.read_csv('data/StudentsPerformance.csv', sep=\",\")"
   ]
  },
  {
   "cell_type": "code",
   "execution_count": 3,
   "metadata": {},
   "outputs": [
    {
     "data": {
      "text/html": [
       "<div>\n",
       "<style scoped>\n",
       "    .dataframe tbody tr th:only-of-type {\n",
       "        vertical-align: middle;\n",
       "    }\n",
       "\n",
       "    .dataframe tbody tr th {\n",
       "        vertical-align: top;\n",
       "    }\n",
       "\n",
       "    .dataframe thead th {\n",
       "        text-align: right;\n",
       "    }\n",
       "</style>\n",
       "<table border=\"1\" class=\"dataframe\">\n",
       "  <thead>\n",
       "    <tr style=\"text-align: right;\">\n",
       "      <th></th>\n",
       "      <th>gender</th>\n",
       "      <th>race/ethnicity</th>\n",
       "      <th>parental level of education</th>\n",
       "      <th>lunch</th>\n",
       "      <th>test preparation course</th>\n",
       "      <th>math score</th>\n",
       "      <th>reading score</th>\n",
       "      <th>writing score</th>\n",
       "    </tr>\n",
       "  </thead>\n",
       "  <tbody>\n",
       "    <tr>\n",
       "      <th>0</th>\n",
       "      <td>female</td>\n",
       "      <td>group B</td>\n",
       "      <td>bachelor's degree</td>\n",
       "      <td>standard</td>\n",
       "      <td>none</td>\n",
       "      <td>72</td>\n",
       "      <td>72</td>\n",
       "      <td>74</td>\n",
       "    </tr>\n",
       "    <tr>\n",
       "      <th>1</th>\n",
       "      <td>female</td>\n",
       "      <td>group C</td>\n",
       "      <td>some college</td>\n",
       "      <td>standard</td>\n",
       "      <td>completed</td>\n",
       "      <td>69</td>\n",
       "      <td>90</td>\n",
       "      <td>88</td>\n",
       "    </tr>\n",
       "    <tr>\n",
       "      <th>2</th>\n",
       "      <td>female</td>\n",
       "      <td>group B</td>\n",
       "      <td>master's degree</td>\n",
       "      <td>standard</td>\n",
       "      <td>none</td>\n",
       "      <td>90</td>\n",
       "      <td>95</td>\n",
       "      <td>93</td>\n",
       "    </tr>\n",
       "    <tr>\n",
       "      <th>3</th>\n",
       "      <td>male</td>\n",
       "      <td>group A</td>\n",
       "      <td>associate's degree</td>\n",
       "      <td>free/reduced</td>\n",
       "      <td>none</td>\n",
       "      <td>47</td>\n",
       "      <td>57</td>\n",
       "      <td>44</td>\n",
       "    </tr>\n",
       "    <tr>\n",
       "      <th>4</th>\n",
       "      <td>male</td>\n",
       "      <td>group C</td>\n",
       "      <td>some college</td>\n",
       "      <td>standard</td>\n",
       "      <td>none</td>\n",
       "      <td>76</td>\n",
       "      <td>78</td>\n",
       "      <td>75</td>\n",
       "    </tr>\n",
       "  </tbody>\n",
       "</table>\n",
       "</div>"
      ],
      "text/plain": [
       "   gender race/ethnicity parental level of education         lunch  \\\n",
       "0  female        group B           bachelor's degree      standard   \n",
       "1  female        group C                some college      standard   \n",
       "2  female        group B             master's degree      standard   \n",
       "3    male        group A          associate's degree  free/reduced   \n",
       "4    male        group C                some college      standard   \n",
       "\n",
       "  test preparation course  math score  reading score  writing score  \n",
       "0                    none          72             72             74  \n",
       "1               completed          69             90             88  \n",
       "2                    none          90             95             93  \n",
       "3                    none          47             57             44  \n",
       "4                    none          76             78             75  "
      ]
     },
     "execution_count": 3,
     "metadata": {},
     "output_type": "execute_result"
    }
   ],
   "source": [
    "data.head()"
   ]
  },
  {
   "cell_type": "code",
   "execution_count": 4,
   "metadata": {},
   "outputs": [
    {
     "data": {
      "text/html": [
       "<div>\n",
       "<style scoped>\n",
       "    .dataframe tbody tr th:only-of-type {\n",
       "        vertical-align: middle;\n",
       "    }\n",
       "\n",
       "    .dataframe tbody tr th {\n",
       "        vertical-align: top;\n",
       "    }\n",
       "\n",
       "    .dataframe thead th {\n",
       "        text-align: right;\n",
       "    }\n",
       "</style>\n",
       "<table border=\"1\" class=\"dataframe\">\n",
       "  <thead>\n",
       "    <tr style=\"text-align: right;\">\n",
       "      <th></th>\n",
       "      <th>gender</th>\n",
       "      <th>race/ethnicity</th>\n",
       "      <th>parental level of education</th>\n",
       "      <th>lunch</th>\n",
       "      <th>test preparation course</th>\n",
       "      <th>math score</th>\n",
       "      <th>reading score</th>\n",
       "      <th>writing score</th>\n",
       "    </tr>\n",
       "  </thead>\n",
       "  <tbody>\n",
       "  </tbody>\n",
       "</table>\n",
       "</div>"
      ],
      "text/plain": [
       "Empty DataFrame\n",
       "Columns: [gender, race/ethnicity, parental level of education, lunch, test preparation course, math score, reading score, writing score]\n",
       "Index: []"
      ]
     },
     "execution_count": 4,
     "metadata": {},
     "output_type": "execute_result"
    }
   ],
   "source": [
    "data[data.duplicated(keep=False)]"
   ]
  },
  {
   "cell_type": "code",
   "execution_count": 5,
   "metadata": {
    "scrolled": true
   },
   "outputs": [
    {
     "data": {
      "text/html": [
       "<div>\n",
       "<style scoped>\n",
       "    .dataframe tbody tr th:only-of-type {\n",
       "        vertical-align: middle;\n",
       "    }\n",
       "\n",
       "    .dataframe tbody tr th {\n",
       "        vertical-align: top;\n",
       "    }\n",
       "\n",
       "    .dataframe thead th {\n",
       "        text-align: right;\n",
       "    }\n",
       "</style>\n",
       "<table border=\"1\" class=\"dataframe\">\n",
       "  <thead>\n",
       "    <tr style=\"text-align: right;\">\n",
       "      <th></th>\n",
       "      <th>gender</th>\n",
       "      <th>race/ethnicity</th>\n",
       "      <th>parental level of education</th>\n",
       "      <th>lunch</th>\n",
       "      <th>test preparation course</th>\n",
       "      <th>math score</th>\n",
       "      <th>reading score</th>\n",
       "      <th>writing score</th>\n",
       "    </tr>\n",
       "  </thead>\n",
       "  <tbody>\n",
       "    <tr>\n",
       "      <th>0</th>\n",
       "      <td>female</td>\n",
       "      <td>group B</td>\n",
       "      <td>bachelor's degree</td>\n",
       "      <td>standard</td>\n",
       "      <td>none</td>\n",
       "      <td>72</td>\n",
       "      <td>72</td>\n",
       "      <td>74</td>\n",
       "    </tr>\n",
       "    <tr>\n",
       "      <th>1</th>\n",
       "      <td>female</td>\n",
       "      <td>group C</td>\n",
       "      <td>some college</td>\n",
       "      <td>standard</td>\n",
       "      <td>completed</td>\n",
       "      <td>69</td>\n",
       "      <td>90</td>\n",
       "      <td>88</td>\n",
       "    </tr>\n",
       "    <tr>\n",
       "      <th>2</th>\n",
       "      <td>female</td>\n",
       "      <td>group B</td>\n",
       "      <td>master's degree</td>\n",
       "      <td>standard</td>\n",
       "      <td>none</td>\n",
       "      <td>90</td>\n",
       "      <td>95</td>\n",
       "      <td>93</td>\n",
       "    </tr>\n",
       "    <tr>\n",
       "      <th>3</th>\n",
       "      <td>male</td>\n",
       "      <td>group A</td>\n",
       "      <td>associate's degree</td>\n",
       "      <td>free/reduced</td>\n",
       "      <td>none</td>\n",
       "      <td>47</td>\n",
       "      <td>57</td>\n",
       "      <td>44</td>\n",
       "    </tr>\n",
       "    <tr>\n",
       "      <th>4</th>\n",
       "      <td>male</td>\n",
       "      <td>group C</td>\n",
       "      <td>some college</td>\n",
       "      <td>standard</td>\n",
       "      <td>none</td>\n",
       "      <td>76</td>\n",
       "      <td>78</td>\n",
       "      <td>75</td>\n",
       "    </tr>\n",
       "  </tbody>\n",
       "</table>\n",
       "</div>"
      ],
      "text/plain": [
       "   gender race/ethnicity parental level of education         lunch  \\\n",
       "0  female        group B           bachelor's degree      standard   \n",
       "1  female        group C                some college      standard   \n",
       "2  female        group B             master's degree      standard   \n",
       "3    male        group A          associate's degree  free/reduced   \n",
       "4    male        group C                some college      standard   \n",
       "\n",
       "  test preparation course  math score  reading score  writing score  \n",
       "0                    none          72             72             74  \n",
       "1               completed          69             90             88  \n",
       "2                    none          90             95             93  \n",
       "3                    none          47             57             44  \n",
       "4                    none          76             78             75  "
      ]
     },
     "execution_count": 5,
     "metadata": {},
     "output_type": "execute_result"
    }
   ],
   "source": [
    "data.head()"
   ]
  },
  {
   "cell_type": "markdown",
   "metadata": {},
   "source": [
    "Выполняем шаги для обеспечения готовности датасета к подаче его на вход алгоритма, которые были изучены нами во второй лабораторной работе"
   ]
  },
  {
   "cell_type": "code",
   "execution_count": 6,
   "metadata": {
    "scrolled": false
   },
   "outputs": [
    {
     "name": "stdout",
     "output_type": "stream",
     "text": [
      "<class 'pandas.core.frame.DataFrame'>\n",
      "RangeIndex: 1000 entries, 0 to 999\n",
      "Data columns (total 8 columns):\n",
      " #   Column                       Non-Null Count  Dtype \n",
      "---  ------                       --------------  ----- \n",
      " 0   gender                       1000 non-null   object\n",
      " 1   race/ethnicity               1000 non-null   object\n",
      " 2   parental level of education  1000 non-null   object\n",
      " 3   lunch                        1000 non-null   object\n",
      " 4   test preparation course      1000 non-null   object\n",
      " 5   math score                   1000 non-null   int64 \n",
      " 6   reading score                1000 non-null   int64 \n",
      " 7   writing score                1000 non-null   int64 \n",
      "dtypes: int64(3), object(5)\n",
      "memory usage: 62.6+ KB\n"
     ]
    }
   ],
   "source": [
    "data.info()"
   ]
  },
  {
   "cell_type": "code",
   "execution_count": 7,
   "metadata": {},
   "outputs": [
    {
     "data": {
      "text/plain": [
       "gender                         0\n",
       "race/ethnicity                 0\n",
       "parental level of education    0\n",
       "lunch                          0\n",
       "test preparation course        0\n",
       "math score                     0\n",
       "reading score                  0\n",
       "writing score                  0\n",
       "dtype: int64"
      ]
     },
     "execution_count": 7,
     "metadata": {},
     "output_type": "execute_result"
    }
   ],
   "source": [
    "data.isna().sum()"
   ]
  },
  {
   "cell_type": "markdown",
   "metadata": {},
   "source": [
    "Наш целевой признак - lunch."
   ]
  },
  {
   "cell_type": "code",
   "execution_count": 8,
   "metadata": {},
   "outputs": [],
   "source": [
    "le = LabelEncoder()\n",
    "data['lunch'] = le.fit_transform(data['lunch'])"
   ]
  },
  {
   "cell_type": "markdown",
   "metadata": {},
   "source": [
    "Для остальных нечисловых признаков выполним преобразования в числовые."
   ]
  },
  {
   "cell_type": "markdown",
   "metadata": {},
   "source": [
    "### Gender"
   ]
  },
  {
   "cell_type": "code",
   "execution_count": 9,
   "metadata": {},
   "outputs": [
    {
     "data": {
      "text/plain": [
       "array(['female', 'male'], dtype=object)"
      ]
     },
     "execution_count": 9,
     "metadata": {},
     "output_type": "execute_result"
    }
   ],
   "source": [
    "data['gender'].unique()"
   ]
  },
  {
   "cell_type": "code",
   "execution_count": 10,
   "metadata": {},
   "outputs": [],
   "source": [
    "data['gender'] = le.fit_transform(data['gender'])"
   ]
  },
  {
   "cell_type": "markdown",
   "metadata": {},
   "source": [
    "### Race/Ethnicity"
   ]
  },
  {
   "cell_type": "code",
   "execution_count": 11,
   "metadata": {},
   "outputs": [
    {
     "data": {
      "text/plain": [
       "array(['group B', 'group C', 'group A', 'group D', 'group E'],\n",
       "      dtype=object)"
      ]
     },
     "execution_count": 11,
     "metadata": {},
     "output_type": "execute_result"
    }
   ],
   "source": [
    "data['race/ethnicity'].unique()"
   ]
  },
  {
   "cell_type": "code",
   "execution_count": 12,
   "metadata": {},
   "outputs": [],
   "source": [
    "data = pd.get_dummies(data, columns = ['race/ethnicity'])"
   ]
  },
  {
   "cell_type": "markdown",
   "metadata": {},
   "source": [
    "### Parental level of education"
   ]
  },
  {
   "cell_type": "code",
   "execution_count": 13,
   "metadata": {},
   "outputs": [
    {
     "data": {
      "text/plain": [
       "array([\"bachelor's degree\", 'some college', \"master's degree\",\n",
       "       \"associate's degree\", 'high school', 'some high school'],\n",
       "      dtype=object)"
      ]
     },
     "execution_count": 13,
     "metadata": {},
     "output_type": "execute_result"
    }
   ],
   "source": [
    "data['parental level of education'].unique()"
   ]
  },
  {
   "cell_type": "code",
   "execution_count": 14,
   "metadata": {},
   "outputs": [],
   "source": [
    "data = pd.get_dummies(data, columns = ['parental level of education'])"
   ]
  },
  {
   "cell_type": "markdown",
   "metadata": {},
   "source": [
    "### Test preparation course"
   ]
  },
  {
   "cell_type": "code",
   "execution_count": 15,
   "metadata": {},
   "outputs": [
    {
     "data": {
      "text/plain": [
       "array(['none', 'completed'], dtype=object)"
      ]
     },
     "execution_count": 15,
     "metadata": {},
     "output_type": "execute_result"
    }
   ],
   "source": [
    "data['test preparation course'].unique()"
   ]
  },
  {
   "cell_type": "code",
   "execution_count": 16,
   "metadata": {},
   "outputs": [],
   "source": [
    "data['test preparation course'] = le.fit_transform(data['test preparation course'])"
   ]
  },
  {
   "cell_type": "markdown",
   "metadata": {},
   "source": [
    "### Average score"
   ]
  },
  {
   "cell_type": "markdown",
   "metadata": {},
   "source": [
    "Из 1-й лабораторной работы известно, что существует сильная корреляция между количественными признаками. Поэтому создадим новый DataFrame со средними оценками. Признак Average score отмасштабируем."
   ]
  },
  {
   "cell_type": "code",
   "execution_count": 17,
   "metadata": {},
   "outputs": [],
   "source": [
    "dataAve = data.copy()\n",
    "dataAve['Average_score'] = dataAve[['math score', 'reading score', 'writing score']].mean(axis=1)\n",
    "dataAve.drop(columns=['math score', 'reading score', 'writing score'], inplace=True)"
   ]
  },
  {
   "cell_type": "code",
   "execution_count": 18,
   "metadata": {},
   "outputs": [],
   "source": [
    "sc = MinMaxScaler()\n",
    "dataAve['Average_score'] = sc.fit_transform(dataAve[['Average_score']])"
   ]
  },
  {
   "cell_type": "code",
   "execution_count": 19,
   "metadata": {},
   "outputs": [
    {
     "data": {
      "text/html": [
       "<div>\n",
       "<style scoped>\n",
       "    .dataframe tbody tr th:only-of-type {\n",
       "        vertical-align: middle;\n",
       "    }\n",
       "\n",
       "    .dataframe tbody tr th {\n",
       "        vertical-align: top;\n",
       "    }\n",
       "\n",
       "    .dataframe thead th {\n",
       "        text-align: right;\n",
       "    }\n",
       "</style>\n",
       "<table border=\"1\" class=\"dataframe\">\n",
       "  <thead>\n",
       "    <tr style=\"text-align: right;\">\n",
       "      <th></th>\n",
       "      <th>gender</th>\n",
       "      <th>lunch</th>\n",
       "      <th>test preparation course</th>\n",
       "      <th>race/ethnicity_group A</th>\n",
       "      <th>race/ethnicity_group B</th>\n",
       "      <th>race/ethnicity_group C</th>\n",
       "      <th>race/ethnicity_group D</th>\n",
       "      <th>race/ethnicity_group E</th>\n",
       "      <th>parental level of education_associate's degree</th>\n",
       "      <th>parental level of education_bachelor's degree</th>\n",
       "      <th>parental level of education_high school</th>\n",
       "      <th>parental level of education_master's degree</th>\n",
       "      <th>parental level of education_some college</th>\n",
       "      <th>parental level of education_some high school</th>\n",
       "      <th>Average_score</th>\n",
       "    </tr>\n",
       "  </thead>\n",
       "  <tbody>\n",
       "    <tr>\n",
       "      <th>0</th>\n",
       "      <td>0</td>\n",
       "      <td>1</td>\n",
       "      <td>1</td>\n",
       "      <td>0</td>\n",
       "      <td>1</td>\n",
       "      <td>0</td>\n",
       "      <td>0</td>\n",
       "      <td>0</td>\n",
       "      <td>0</td>\n",
       "      <td>1</td>\n",
       "      <td>0</td>\n",
       "      <td>0</td>\n",
       "      <td>0</td>\n",
       "      <td>0</td>\n",
       "      <td>0.699634</td>\n",
       "    </tr>\n",
       "    <tr>\n",
       "      <th>1</th>\n",
       "      <td>0</td>\n",
       "      <td>1</td>\n",
       "      <td>0</td>\n",
       "      <td>0</td>\n",
       "      <td>0</td>\n",
       "      <td>1</td>\n",
       "      <td>0</td>\n",
       "      <td>0</td>\n",
       "      <td>0</td>\n",
       "      <td>0</td>\n",
       "      <td>0</td>\n",
       "      <td>0</td>\n",
       "      <td>1</td>\n",
       "      <td>0</td>\n",
       "      <td>0.805861</td>\n",
       "    </tr>\n",
       "    <tr>\n",
       "      <th>2</th>\n",
       "      <td>0</td>\n",
       "      <td>1</td>\n",
       "      <td>1</td>\n",
       "      <td>0</td>\n",
       "      <td>1</td>\n",
       "      <td>0</td>\n",
       "      <td>0</td>\n",
       "      <td>0</td>\n",
       "      <td>0</td>\n",
       "      <td>0</td>\n",
       "      <td>0</td>\n",
       "      <td>1</td>\n",
       "      <td>0</td>\n",
       "      <td>0</td>\n",
       "      <td>0.919414</td>\n",
       "    </tr>\n",
       "    <tr>\n",
       "      <th>3</th>\n",
       "      <td>1</td>\n",
       "      <td>0</td>\n",
       "      <td>1</td>\n",
       "      <td>1</td>\n",
       "      <td>0</td>\n",
       "      <td>0</td>\n",
       "      <td>0</td>\n",
       "      <td>0</td>\n",
       "      <td>1</td>\n",
       "      <td>0</td>\n",
       "      <td>0</td>\n",
       "      <td>0</td>\n",
       "      <td>0</td>\n",
       "      <td>0</td>\n",
       "      <td>0.443223</td>\n",
       "    </tr>\n",
       "    <tr>\n",
       "      <th>4</th>\n",
       "      <td>1</td>\n",
       "      <td>1</td>\n",
       "      <td>1</td>\n",
       "      <td>0</td>\n",
       "      <td>0</td>\n",
       "      <td>1</td>\n",
       "      <td>0</td>\n",
       "      <td>0</td>\n",
       "      <td>0</td>\n",
       "      <td>0</td>\n",
       "      <td>0</td>\n",
       "      <td>0</td>\n",
       "      <td>1</td>\n",
       "      <td>0</td>\n",
       "      <td>0.739927</td>\n",
       "    </tr>\n",
       "  </tbody>\n",
       "</table>\n",
       "</div>"
      ],
      "text/plain": [
       "   gender  lunch  test preparation course  race/ethnicity_group A  \\\n",
       "0       0      1                        1                       0   \n",
       "1       0      1                        0                       0   \n",
       "2       0      1                        1                       0   \n",
       "3       1      0                        1                       1   \n",
       "4       1      1                        1                       0   \n",
       "\n",
       "   race/ethnicity_group B  race/ethnicity_group C  race/ethnicity_group D  \\\n",
       "0                       1                       0                       0   \n",
       "1                       0                       1                       0   \n",
       "2                       1                       0                       0   \n",
       "3                       0                       0                       0   \n",
       "4                       0                       1                       0   \n",
       "\n",
       "   race/ethnicity_group E  parental level of education_associate's degree  \\\n",
       "0                       0                                               0   \n",
       "1                       0                                               0   \n",
       "2                       0                                               0   \n",
       "3                       0                                               1   \n",
       "4                       0                                               0   \n",
       "\n",
       "   parental level of education_bachelor's degree  \\\n",
       "0                                              1   \n",
       "1                                              0   \n",
       "2                                              0   \n",
       "3                                              0   \n",
       "4                                              0   \n",
       "\n",
       "   parental level of education_high school  \\\n",
       "0                                        0   \n",
       "1                                        0   \n",
       "2                                        0   \n",
       "3                                        0   \n",
       "4                                        0   \n",
       "\n",
       "   parental level of education_master's degree  \\\n",
       "0                                            0   \n",
       "1                                            0   \n",
       "2                                            1   \n",
       "3                                            0   \n",
       "4                                            0   \n",
       "\n",
       "   parental level of education_some college  \\\n",
       "0                                         0   \n",
       "1                                         1   \n",
       "2                                         0   \n",
       "3                                         0   \n",
       "4                                         1   \n",
       "\n",
       "   parental level of education_some high school  Average_score  \n",
       "0                                             0       0.699634  \n",
       "1                                             0       0.805861  \n",
       "2                                             0       0.919414  \n",
       "3                                             0       0.443223  \n",
       "4                                             0       0.739927  "
      ]
     },
     "execution_count": 19,
     "metadata": {},
     "output_type": "execute_result"
    }
   ],
   "source": [
    "dataAve.head()"
   ]
  },
  {
   "cell_type": "code",
   "execution_count": 20,
   "metadata": {
    "scrolled": false
   },
   "outputs": [
    {
     "name": "stdout",
     "output_type": "stream",
     "text": [
      "<class 'pandas.core.frame.DataFrame'>\n",
      "RangeIndex: 1000 entries, 0 to 999\n",
      "Data columns (total 15 columns):\n",
      " #   Column                                          Non-Null Count  Dtype  \n",
      "---  ------                                          --------------  -----  \n",
      " 0   gender                                          1000 non-null   int32  \n",
      " 1   lunch                                           1000 non-null   int32  \n",
      " 2   test preparation course                         1000 non-null   int32  \n",
      " 3   race/ethnicity_group A                          1000 non-null   uint8  \n",
      " 4   race/ethnicity_group B                          1000 non-null   uint8  \n",
      " 5   race/ethnicity_group C                          1000 non-null   uint8  \n",
      " 6   race/ethnicity_group D                          1000 non-null   uint8  \n",
      " 7   race/ethnicity_group E                          1000 non-null   uint8  \n",
      " 8   parental level of education_associate's degree  1000 non-null   uint8  \n",
      " 9   parental level of education_bachelor's degree   1000 non-null   uint8  \n",
      " 10  parental level of education_high school         1000 non-null   uint8  \n",
      " 11  parental level of education_master's degree     1000 non-null   uint8  \n",
      " 12  parental level of education_some college        1000 non-null   uint8  \n",
      " 13  parental level of education_some high school    1000 non-null   uint8  \n",
      " 14  Average_score                                   1000 non-null   float64\n",
      "dtypes: float64(1), int32(3), uint8(11)\n",
      "memory usage: 30.4 KB\n"
     ]
    }
   ],
   "source": [
    "dataAve.info()"
   ]
  },
  {
   "cell_type": "markdown",
   "metadata": {},
   "source": [
    "## Разделение выборки на обучающую и тестовую"
   ]
  },
  {
   "cell_type": "code",
   "execution_count": 21,
   "metadata": {},
   "outputs": [],
   "source": [
    "TEST_SIZE = 0.2"
   ]
  },
  {
   "cell_type": "code",
   "execution_count": 22,
   "metadata": {},
   "outputs": [],
   "source": [
    "dataAve_X = dataAve.drop(columns='lunch')\n",
    "dataAve_Y = dataAve['lunch']"
   ]
  },
  {
   "cell_type": "code",
   "execution_count": 23,
   "metadata": {},
   "outputs": [],
   "source": [
    "dataAve_X_train, dataAve_X_test, \\\n",
    "dataAve_Y_train, dataAve_Y_test = train_test_split(dataAve_X, dataAve_Y, test_size=TEST_SIZE, random_state=0)"
   ]
  },
  {
   "cell_type": "code",
   "execution_count": 24,
   "metadata": {},
   "outputs": [],
   "source": [
    "def class_proportions(array: np.ndarray) -> Dict[int, Tuple[int, float]]:\n",
    "    \"\"\"\n",
    "    Вычисляет пропорции классов\n",
    "    array - массив, содержащий метки классов\n",
    "    \"\"\"\n",
    "    # Получение меток классов и количества меток каждого класса \n",
    "    labels, counts = np.unique(array, return_counts=True)\n",
    "    # Превращаем количество меток в процент их встречаемости\n",
    "    # делим количество меток каждого класса на общее количество меток\n",
    "    counts_perc = counts/array.size\n",
    "    # Теперь sum(counts_perc)==1.0\n",
    "    # Создаем результирующий словарь,\n",
    "    # ключом словаря явлется метка класса, \n",
    "    # а значением словаря процент встречаемости метки\n",
    "    res = dict()\n",
    "    for label, count2 in zip(labels, zip(counts, counts_perc)):\n",
    "        res[label] = count2\n",
    "    return res\n",
    "\n",
    "def print_class_proportions(array: np.ndarray):\n",
    "    \"\"\"\n",
    "    Вывод пропорций классов\n",
    "    \"\"\"\n",
    "    proportions = class_proportions(array)\n",
    "    if len(proportions)>0:\n",
    "        print('Метка \\t Количество \\t Процент встречаемости')\n",
    "    for i in proportions:\n",
    "        val, val_perc = proportions[i]\n",
    "        val_perc_100 = round(val_perc * 100, 2)\n",
    "        print('{} \\t {} \\t \\t {}%'.format(i, val, val_perc_100))"
   ]
  },
  {
   "cell_type": "code",
   "execution_count": 25,
   "metadata": {
    "scrolled": true
   },
   "outputs": [
    {
     "name": "stdout",
     "output_type": "stream",
     "text": [
      "Метка \t Количество \t Процент встречаемости\n",
      "0 \t 277 \t \t 34.62%\n",
      "1 \t 523 \t \t 65.38%\n"
     ]
    }
   ],
   "source": [
    "print_class_proportions(dataAve_Y_train)"
   ]
  },
  {
   "cell_type": "code",
   "execution_count": 26,
   "metadata": {},
   "outputs": [
    {
     "name": "stdout",
     "output_type": "stream",
     "text": [
      "Метка \t Количество \t Процент встречаемости\n",
      "0 \t 78 \t \t 39.0%\n",
      "1 \t 122 \t \t 61.0%\n"
     ]
    }
   ],
   "source": [
    "print_class_proportions(dataAve_Y_test)"
   ]
  },
  {
   "cell_type": "code",
   "execution_count": 27,
   "metadata": {},
   "outputs": [
    {
     "name": "stdout",
     "output_type": "stream",
     "text": [
      "Метка \t Количество \t Процент встречаемости\n",
      "0 \t 355 \t \t 35.5%\n",
      "1 \t 645 \t \t 64.5%\n"
     ]
    }
   ],
   "source": [
    "print_class_proportions(dataAve['lunch'])"
   ]
  },
  {
   "cell_type": "markdown",
   "metadata": {},
   "source": [
    "# 1. Обучение модели с Average и категориями"
   ]
  },
  {
   "cell_type": "markdown",
   "metadata": {},
   "source": [
    "## 1.1. Обучение с произвольным K"
   ]
  },
  {
   "cell_type": "code",
   "execution_count": 28,
   "metadata": {},
   "outputs": [],
   "source": [
    "N_DEFAULT = 5 # произвольное K"
   ]
  },
  {
   "cell_type": "code",
   "execution_count": 29,
   "metadata": {},
   "outputs": [],
   "source": [
    "def get_predict(X_train, Y_train, X_test, n=N_DEFAULT):\n",
    "    knc = KNeighborsClassifier(n_neighbors=n)\n",
    "    knc.fit(X_train, Y_train)\n",
    "    return knc.predict(X_test)"
   ]
  },
  {
   "cell_type": "code",
   "execution_count": 30,
   "metadata": {},
   "outputs": [],
   "source": [
    "def print_metrics(X_train, Y_train, X_test, Y_test, criteria='balanced_accuracy', K=N_DEFAULT):\n",
    "    ret = 0\n",
    "    clf = KNeighborsClassifier(n_neighbors=K)\n",
    "    clf.fit(X_train, Y_train)\n",
    "    target = clf.predict(X_test)\n",
    "    if criteria=='balanced_accuracy':\n",
    "        ret = balanced_accuracy_score(Y_test, target)\n",
    "        print(f'Сбалансированная оценка: {ret}')\n",
    "        plot_precision_recall_curve(clf, X_test, Y_test)\n",
    "    elif criteria=='accuracy':\n",
    "        ret = accuracy_score(Y_test, target)\n",
    "        print(f'Обычная оценка: {ret}')\n",
    "        plot_roc_curve(clf, X_test, Y_test)\n",
    "    else:\n",
    "        raise IOError('Неверный критерий. Ожидается \"balanced_accuracy\" или \"accuracy\"')\n",
    "    plt.show()\n",
    "    print(f'Матрица ошибок:\\n {confusion_matrix(Y_test, target)}')\n",
    "    print(classification_report(Y_test, target, target_names=['free/reduced', 'standard']))\n",
    "    return ret"
   ]
  },
  {
   "cell_type": "code",
   "execution_count": 31,
   "metadata": {
    "scrolled": false
   },
   "outputs": [
    {
     "name": "stdout",
     "output_type": "stream",
     "text": [
      "Сбалансированная оценка: 0.4708911307271963\n"
     ]
    },
    {
     "data": {
      "image/png": "[encoded data removed]",
      "text/plain": [
       "<Figure size 432x288 with 1 Axes>"
      ]
     },
     "metadata": {},
     "output_type": "display_data"
    },
    {
     "name": "stdout",
     "output_type": "stream",
     "text": [
      "Матрица ошибок:\n",
      " [[14 64]\n",
      " [29 93]]\n",
      "              precision    recall  f1-score   support\n",
      "\n",
      "free/reduced       0.33      0.18      0.23        78\n",
      "    standard       0.59      0.76      0.67       122\n",
      "\n",
      "    accuracy                           0.54       200\n",
      "   macro avg       0.46      0.47      0.45       200\n",
      "weighted avg       0.49      0.54      0.50       200\n",
      "\n"
     ]
    }
   ],
   "source": [
    "any_res_for_Ave = print_metrics(dataAve_X_train, dataAve_Y_train, dataAve_X_test, dataAve_Y_test)"
   ]
  },
  {
   "cell_type": "code",
   "execution_count": 32,
   "metadata": {},
   "outputs": [
    {
     "name": "stdout",
     "output_type": "stream",
     "text": [
      "Сбалансированная оценка: 0.6827108254930249\n"
     ]
    },
    {
     "data": {
      "image/png": "[encoded data removed]",
      "text/plain": [
       "<Figure size 432x288 with 1 Axes>"
      ]
     },
     "metadata": {},
     "output_type": "display_data"
    },
    {
     "name": "stdout",
     "output_type": "stream",
     "text": [
      "Матрица ошибок:\n",
      " [[133 144]\n",
      " [ 60 463]]\n",
      "              precision    recall  f1-score   support\n",
      "\n",
      "free/reduced       0.69      0.48      0.57       277\n",
      "    standard       0.76      0.89      0.82       523\n",
      "\n",
      "    accuracy                           0.74       800\n",
      "   macro avg       0.73      0.68      0.69       800\n",
      "weighted avg       0.74      0.74      0.73       800\n",
      "\n"
     ]
    }
   ],
   "source": [
    "t_any_res_for_Ave = print_metrics(dataAve_X_train, dataAve_Y_train, dataAve_X_train, dataAve_Y_train)"
   ]
  },
  {
   "cell_type": "markdown",
   "metadata": {},
   "source": [
    "## 1.2. Поиск оптимального K"
   ]
  },
  {
   "cell_type": "code",
   "execution_count": 33,
   "metadata": {},
   "outputs": [],
   "source": [
    "def search_K(X_train, Y_train, X_test, Y_test, criteria='balanced_accuracy'):\n",
    "    knc_dict = {'k':[], 'score_test':[], 'score_train':[]}\n",
    "    optimal_k = 1\n",
    "    bas_max = 0\n",
    "    if criteria == 'balanced_accuracy':\n",
    "        for i in range(1, 150):\n",
    "            knc = KNeighborsClassifier(n_neighbors=i)\n",
    "            knc.fit(X_train, Y_train)\n",
    "            knc_dict['k'].append(i)\n",
    "            bas_test = balanced_accuracy_score(Y_test, knc.predict(X_test))\n",
    "            if bas_test > bas_max:\n",
    "                bas_max = bas_test\n",
    "                optimal_k = i\n",
    "            knc_dict['score_test'].append(bas_test)\n",
    "            knc_dict['score_train'].append(balanced_accuracy_score(Y_train, knc.predict(X_train)))\n",
    "        estimate_K = pd.DataFrame(knc_dict)\n",
    "    elif criteria == 'accuracy':\n",
    "        for i in range(1, 150):\n",
    "            knc = KNeighborsClassifier(n_neighbors=i)\n",
    "            knc.fit(X_train, Y_train)\n",
    "            knc_dict['k'].append(i)\n",
    "            bas_test = accuracy_score(Y_test, knc.predict(X_test))\n",
    "            if bas_test > bas_max:\n",
    "                bas_max = bas_test\n",
    "                optimal_k = i\n",
    "            knc_dict['score_test'].append(bas_test)\n",
    "            knc_dict['score_train'].append(accuracy_score(Y_train, knc.predict(X_train)))\n",
    "        estimate_K = pd.DataFrame(knc_dict)\n",
    "    else:\n",
    "        raise IOError('Неверный критерий. Ожидается \"balanced_accuracy\" или \"accuracy\".')\n",
    "    \n",
    "    fig, ax = plt.subplots(2,1,figsize=(7,10))\n",
    "    ax[0].plot(estimate_K.k, estimate_K.score_test)\n",
    "    ax[0].title.set_text(f'{criteria} for test data')\n",
    "    ax[0].set_xlabel('k')\n",
    "    ax[0].set_ylabel('score_test')\n",
    "    ax[1].plot(estimate_K.k, estimate_K.score_train)\n",
    "    ax[1].title.set_text(f'{criteria} for train data')\n",
    "    ax[1].set_xlabel('k')\n",
    "    ax[1].set_ylabel('score_train')\n",
    "    plt.show()\n",
    "    return optimal_k"
   ]
  },
  {
   "cell_type": "code",
   "execution_count": 34,
   "metadata": {
    "scrolled": false
   },
   "outputs": [
    {
     "data": {
      "image/png": "[encoded data removed]",
      "text/plain": [
       "<Figure size 504x720 with 2 Axes>"
      ]
     },
     "metadata": {},
     "output_type": "display_data"
    }
   ],
   "source": [
    "k_for_Ave = search_K(dataAve_X_train, dataAve_Y_train, dataAve_X_test, dataAve_Y_test)"
   ]
  },
  {
   "cell_type": "code",
   "execution_count": 35,
   "metadata": {},
   "outputs": [
    {
     "name": "stdout",
     "output_type": "stream",
     "text": [
      "50\n"
     ]
    }
   ],
   "source": [
    "print(k_for_Ave)"
   ]
  },
  {
   "cell_type": "code",
   "execution_count": 36,
   "metadata": {},
   "outputs": [],
   "source": [
    "def print_metrics_for_neighbors(X_train, Y_train, X_test, Y_test, k, criteria='balanced_accuracy'):\n",
    "    print(f'ДЛЯ K = {k}')\n",
    "    res = print_metrics(X_train, Y_train, X_test, Y_test, criteria, k)\n",
    "    if k != 1:\n",
    "        print(f'\\nДЛЯ K = {k-1}')\n",
    "        print_metrics(X_train, Y_train, X_test, Y_test, criteria, k-1)\n",
    "    print(f'\\nДЛЯ K = {k+1}')\n",
    "    print_metrics(X_train, Y_train, X_test, Y_test, criteria, k+1)\n",
    "    return res"
   ]
  },
  {
   "cell_type": "code",
   "execution_count": 37,
   "metadata": {
    "scrolled": true
   },
   "outputs": [
    {
     "name": "stdout",
     "output_type": "stream",
     "text": [
      "ДЛЯ K = 50\n",
      "Сбалансированная оценка: 0.532051282051282\n"
     ]
    },
    {
     "data": {
      "image/png": "[encoded data removed]",
      "text/plain": [
       "<Figure size 432x288 with 1 Axes>"
      ]
     },
     "metadata": {},
     "output_type": "display_data"
    },
    {
     "name": "stdout",
     "output_type": "stream",
     "text": [
      "Матрица ошибок:\n",
      " [[  5  73]\n",
      " [  0 122]]\n",
      "              precision    recall  f1-score   support\n",
      "\n",
      "free/reduced       1.00      0.06      0.12        78\n",
      "    standard       0.63      1.00      0.77       122\n",
      "\n",
      "    accuracy                           0.64       200\n",
      "   macro avg       0.81      0.53      0.45       200\n",
      "weighted avg       0.77      0.64      0.52       200\n",
      "\n",
      "\n",
      "ДЛЯ K = 49\n",
      "Сбалансированная оценка: 0.5128205128205128\n"
     ]
    },
    {
     "data": {
      "image/png": "[encoded data removed]",
      "text/plain": [
       "<Figure size 432x288 with 1 Axes>"
      ]
     },
     "metadata": {},
     "output_type": "display_data"
    },
    {
     "name": "stdout",
     "output_type": "stream",
     "text": [
      "Матрица ошибок:\n",
      " [[  2  76]\n",
      " [  0 122]]\n",
      "              precision    recall  f1-score   support\n",
      "\n",
      "free/reduced       1.00      0.03      0.05        78\n",
      "    standard       0.62      1.00      0.76       122\n",
      "\n",
      "    accuracy                           0.62       200\n",
      "   macro avg       0.81      0.51      0.41       200\n",
      "weighted avg       0.77      0.62      0.48       200\n",
      "\n",
      "\n",
      "ДЛЯ K = 51\n",
      "Сбалансированная оценка: 0.5064102564102564\n"
     ]
    },
    {
     "data": {
      "image/png": "[encoded data removed]",
      "text/plain": [
       "<Figure size 432x288 with 1 Axes>"
      ]
     },
     "metadata": {},
     "output_type": "display_data"
    },
    {
     "name": "stdout",
     "output_type": "stream",
     "text": [
      "Матрица ошибок:\n",
      " [[  1  77]\n",
      " [  0 122]]\n",
      "              precision    recall  f1-score   support\n",
      "\n",
      "free/reduced       1.00      0.01      0.03        78\n",
      "    standard       0.61      1.00      0.76       122\n",
      "\n",
      "    accuracy                           0.61       200\n",
      "   macro avg       0.81      0.51      0.39       200\n",
      "weighted avg       0.76      0.61      0.47       200\n",
      "\n"
     ]
    }
   ],
   "source": [
    "res_for_Ave = print_metrics_for_neighbors(dataAve_X_train, dataAve_Y_train, dataAve_X_test, dataAve_Y_test, k_for_Ave)"
   ]
  },
  {
   "cell_type": "code",
   "execution_count": 38,
   "metadata": {},
   "outputs": [
    {
     "name": "stdout",
     "output_type": "stream",
     "text": [
      "Сбалансированная оценка: 0.5161384956271442\n"
     ]
    },
    {
     "data": {
      "image/png": "[encoded data removed]",
      "text/plain": [
       "<Figure size 432x288 with 1 Axes>"
      ]
     },
     "metadata": {},
     "output_type": "display_data"
    },
    {
     "name": "stdout",
     "output_type": "stream",
     "text": [
      "Матрица ошибок:\n",
      " [[ 10 267]\n",
      " [  2 521]]\n",
      "              precision    recall  f1-score   support\n",
      "\n",
      "free/reduced       0.83      0.04      0.07       277\n",
      "    standard       0.66      1.00      0.79       523\n",
      "\n",
      "    accuracy                           0.66       800\n",
      "   macro avg       0.75      0.52      0.43       800\n",
      "weighted avg       0.72      0.66      0.54       800\n",
      "\n"
     ]
    }
   ],
   "source": [
    "resTrain_for_Ave = print_metrics(dataAve_X_train, dataAve_Y_train, dataAve_X_train, dataAve_Y_train, K=k_for_Ave)"
   ]
  },
  {
   "cell_type": "markdown",
   "metadata": {},
   "source": [
    "## 1.3 Балансирование обучающего набора"
   ]
  },
  {
   "cell_type": "code",
   "execution_count": 6,
   "metadata": {},
   "outputs": [],
   "source": [
    "from imblearn.under_sampling import RandomUnderSampler\n",
    "from imblearn.over_sampling import RandomOverSampler"
   ]
  },
  {
   "cell_type": "code",
   "execution_count": 7,
   "metadata": {},
   "outputs": [],
   "source": [
    "def get_balance(X_train, Y_train, method, strategy):\n",
    "    if method=='under':\n",
    "        rus = RandomUnderSampler(random_state=0, sampling_strategy=strategy)\n",
    "        return rus.fit_resample(X_train, Y_train)\n",
    "    elif method=='over':\n",
    "        ros = RandomOverSampler(random_state=0, sampling_strategy=strategy)\n",
    "        return ros.fit_resample(X_train, Y_train)\n",
    "    else:\n",
    "        raise IOError('Неверный метод. Ожидается \"under\" или \"over\".')"
   ]
  },
  {
   "cell_type": "markdown",
   "metadata": {},
   "source": [
    "### 1.3.1. Undersampling"
   ]
  },
  {
   "cell_type": "code",
   "execution_count": 8,
   "metadata": {},
   "outputs": [
    {
     "ename": "NameError",
     "evalue": "name 'dataAve_X_train' is not defined",
     "output_type": "error",
     "traceback": [
      "\u001b[1;31m---------------------------------------------------------------------------\u001b[0m",
      "\u001b[1;31mNameError\u001b[0m                                 Traceback (most recent call last)",
      "\u001b[1;32m<ipython-input-8-f0d0af529896>\u001b[0m in \u001b[0;36m<module>\u001b[1;34m\u001b[0m\n\u001b[1;32m----> 1\u001b[1;33m \u001b[0mdataAveUnder_X_train\u001b[0m\u001b[1;33m,\u001b[0m \u001b[0mdataAveUnder_Y_train\u001b[0m \u001b[1;33m=\u001b[0m \u001b[0mget_balance\u001b[0m\u001b[1;33m(\u001b[0m\u001b[0mdataAve_X_train\u001b[0m\u001b[1;33m,\u001b[0m \u001b[0mdataAve_Y_train\u001b[0m\u001b[1;33m,\u001b[0m \u001b[1;34m'under'\u001b[0m\u001b[1;33m,\u001b[0m \u001b[1;36m1\u001b[0m\u001b[1;33m)\u001b[0m\u001b[1;33m\u001b[0m\u001b[1;33m\u001b[0m\u001b[0m\n\u001b[0m",
      "\u001b[1;31mNameError\u001b[0m: name 'dataAve_X_train' is not defined"
     ]
    }
   ],
   "source": [
    "dataAveUnder_X_train, dataAveUnder_Y_train = get_balance(dataAve_X_train, dataAve_Y_train, 'under', 1)"
   ]
  },
  {
   "cell_type": "code",
   "execution_count": null,
   "metadata": {
    "scrolled": true
   },
   "outputs": [],
   "source": [
    "print_class_proportions(dataAveUnder_Y_train)"
   ]
  },
  {
   "cell_type": "code",
   "execution_count": null,
   "metadata": {},
   "outputs": [],
   "source": [
    "print('Результат для произвольного K:')\n",
    "print_metrics(dataAveUnder_X_train, dataAveUnder_Y_train, dataAve_X_test, dataAve_Y_test, criteria='accuracy')"
   ]
  },
  {
   "cell_type": "code",
   "execution_count": null,
   "metadata": {},
   "outputs": [],
   "source": [
    "k_for_AveUnder = search_K(dataAveUnder_X_train, dataAveUnder_Y_train, dataAve_X_test, dataAve_Y_test, criteria='accuracy')"
   ]
  },
  {
   "cell_type": "code",
   "execution_count": null,
   "metadata": {},
   "outputs": [],
   "source": [
    "print(k_for_AveUnder)"
   ]
  },
  {
   "cell_type": "code",
   "execution_count": null,
   "metadata": {
    "scrolled": true
   },
   "outputs": [],
   "source": [
    "res_for_AveUnder = print_metrics_for_neighbors(dataAveUnder_X_train, dataAveUnder_Y_train, \\\n",
    "                            dataAve_X_test, dataAve_Y_test, k_for_AveUnder, criteria='accuracy')"
   ]
  },
  {
   "cell_type": "code",
   "execution_count": null,
   "metadata": {},
   "outputs": [],
   "source": [
    "resTrain_for_AveUnder = print_metrics(dataAveUnder_X_train, dataAveUnder_Y_train, \\\n",
    "                                      dataAveUnder_X_train, dataAveUnder_Y_train, 'accuracy', k_for_AveUnder)"
   ]
  },
  {
   "cell_type": "markdown",
   "metadata": {},
   "source": [
    "### 1.3.2. Oversampling"
   ]
  },
  {
   "cell_type": "code",
   "execution_count": null,
   "metadata": {},
   "outputs": [],
   "source": [
    "dataAveOver_X_train, dataAveOver_Y_train = get_balance(dataAve_X_train, dataAve_Y_train, 'over', 1)"
   ]
  },
  {
   "cell_type": "code",
   "execution_count": null,
   "metadata": {},
   "outputs": [],
   "source": [
    "print_class_proportions(dataAveOver_Y_train)"
   ]
  },
  {
   "cell_type": "code",
   "execution_count": null,
   "metadata": {},
   "outputs": [],
   "source": [
    "print('Результат для произвольного K:')\n",
    "print_metrics(dataAveOver_X_train, dataAveOver_Y_train, dataAve_X_test, dataAve_Y_test, criteria='accuracy')"
   ]
  },
  {
   "cell_type": "code",
   "execution_count": null,
   "metadata": {},
   "outputs": [],
   "source": [
    "k_for_AveOver = search_K(dataAveOver_X_train, dataAveOver_Y_train, dataAve_X_test, dataAve_Y_test, criteria='accuracy')"
   ]
  },
  {
   "cell_type": "code",
   "execution_count": null,
   "metadata": {},
   "outputs": [],
   "source": [
    "print(k_for_AveOver)"
   ]
  },
  {
   "cell_type": "code",
   "execution_count": null,
   "metadata": {
    "scrolled": true
   },
   "outputs": [],
   "source": [
    "res_for_AveOver = print_metrics_for_neighbors(dataAveOver_X_train, dataAveOver_Y_train,\\\n",
    "                            dataAve_X_test, dataAve_Y_test, k_for_AveOver, criteria='accuracy')"
   ]
  },
  {
   "cell_type": "code",
   "execution_count": null,
   "metadata": {},
   "outputs": [],
   "source": [
    "resTrain_for_AveOver = print_metrics(dataAveOver_X_train, dataAveOver_Y_train, dataAveOver_X_train, \\\n",
    "                                     dataAveOver_Y_train, 'accuracy', k_for_AveOver)"
   ]
  },
  {
   "cell_type": "markdown",
   "metadata": {},
   "source": [
    "# 2. Обучение модели только с Average"
   ]
  },
  {
   "cell_type": "markdown",
   "metadata": {},
   "source": [
    "## 2.0. Подготовка"
   ]
  },
  {
   "cell_type": "code",
   "execution_count": null,
   "metadata": {},
   "outputs": [],
   "source": [
    "dataOnlyAve_X = dataAve[['Average_score']]\n",
    "dataOnlyAve_Y = dataAve['lunch']\n",
    "dataOnlyAve_X_train, dataOnlyAve_X_test, \\\n",
    "dataOnlyAve_Y_train, dataOnlyAve_Y_test = train_test_split(dataOnlyAve_X, dataOnlyAve_Y, test_size=TEST_SIZE, random_state=0)"
   ]
  },
  {
   "cell_type": "markdown",
   "metadata": {},
   "source": [
    "## 2.1. Обучение с произвольным K"
   ]
  },
  {
   "cell_type": "code",
   "execution_count": null,
   "metadata": {},
   "outputs": [],
   "source": [
    "print_metrics(dataOnlyAve_X_train, dataOnlyAve_Y_train, dataOnlyAve_X_test, dataOnlyAve_Y_test)"
   ]
  },
  {
   "cell_type": "markdown",
   "metadata": {},
   "source": [
    "## 2.2. Поиск оптимального K"
   ]
  },
  {
   "cell_type": "code",
   "execution_count": null,
   "metadata": {
    "scrolled": false
   },
   "outputs": [],
   "source": [
    "k_for_OnlyAve = search_K(dataOnlyAve_X_train, dataOnlyAve_Y_train, dataOnlyAve_X_test, dataOnlyAve_Y_test)"
   ]
  },
  {
   "cell_type": "code",
   "execution_count": null,
   "metadata": {},
   "outputs": [],
   "source": [
    "print(k_for_OnlyAve)"
   ]
  },
  {
   "cell_type": "code",
   "execution_count": null,
   "metadata": {
    "scrolled": true
   },
   "outputs": [],
   "source": [
    "res_for_OnlyAve = print_metrics_for_neighbors(dataOnlyAve_X_train, dataOnlyAve_Y_train, \\\n",
    "                            dataOnlyAve_X_test, dataOnlyAve_Y_test, k_for_OnlyAve)"
   ]
  },
  {
   "cell_type": "code",
   "execution_count": null,
   "metadata": {},
   "outputs": [],
   "source": [
    "resTrain_for_OnlyAve = print_metrics(dataOnlyAve_X_train, dataOnlyAve_Y_train, dataOnlyAve_X_train, \\\n",
    "                                     dataOnlyAve_Y_train, K=k_for_OnlyAve)"
   ]
  },
  {
   "cell_type": "markdown",
   "metadata": {},
   "source": [
    "## 2.3 Балансирование обучающего набора"
   ]
  },
  {
   "cell_type": "markdown",
   "metadata": {},
   "source": [
    "### 2.3.1. Undersampling"
   ]
  },
  {
   "cell_type": "code",
   "execution_count": null,
   "metadata": {},
   "outputs": [],
   "source": [
    "dataOnlyAveUnder_X_train, dataOnlyAveUnder_Y_train = get_balance(dataOnlyAve_X_train, dataOnlyAve_Y_train, 'under', 1)"
   ]
  },
  {
   "cell_type": "code",
   "execution_count": null,
   "metadata": {},
   "outputs": [],
   "source": [
    "print_class_proportions(dataOnlyAveUnder_Y_train)"
   ]
  },
  {
   "cell_type": "code",
   "execution_count": null,
   "metadata": {},
   "outputs": [],
   "source": [
    "print('Результат для произвольного K:')\n",
    "print_metrics(dataOnlyAveUnder_X_train, dataOnlyAveUnder_Y_train, dataOnlyAve_X_test, dataOnlyAve_Y_test, criteria='accuracy')"
   ]
  },
  {
   "cell_type": "code",
   "execution_count": null,
   "metadata": {},
   "outputs": [],
   "source": [
    "k_for_OnlyAveUnder = search_K(dataOnlyAveUnder_X_train, dataOnlyAveUnder_Y_train, dataOnlyAve_X_test, \\\n",
    "                              dataOnlyAve_Y_test, criteria='accuracy')"
   ]
  },
  {
   "cell_type": "code",
   "execution_count": null,
   "metadata": {},
   "outputs": [],
   "source": [
    "print(k_for_OnlyAveUnder)"
   ]
  },
  {
   "cell_type": "code",
   "execution_count": null,
   "metadata": {
    "scrolled": true
   },
   "outputs": [],
   "source": [
    "res_for_OnlyAveUnder = print_metrics_for_neighbors(dataOnlyAveUnder_X_train, dataOnlyAveUnder_Y_train, \\\n",
    "                            dataOnlyAve_X_test, dataOnlyAve_Y_test, k_for_OnlyAveUnder, criteria='accuracy')"
   ]
  },
  {
   "cell_type": "code",
   "execution_count": null,
   "metadata": {},
   "outputs": [],
   "source": [
    "resTrain_for_OnlyAveUnder = print_metrics(dataOnlyAveUnder_X_train, dataOnlyAveUnder_Y_train, dataOnlyAveUnder_X_train, \\\n",
    "                                          dataOnlyAveUnder_Y_train, 'accuracy', k_for_OnlyAveUnder)"
   ]
  },
  {
   "cell_type": "markdown",
   "metadata": {},
   "source": [
    "### 2.3.2. Oversampling"
   ]
  },
  {
   "cell_type": "code",
   "execution_count": null,
   "metadata": {},
   "outputs": [],
   "source": [
    "dataOnlyAveOver_X_train, dataOnlyAveOver_Y_train = get_balance(dataOnlyAve_X_train, dataOnlyAve_Y_train, 'over', 1)"
   ]
  },
  {
   "cell_type": "code",
   "execution_count": null,
   "metadata": {},
   "outputs": [],
   "source": [
    "print_class_proportions(dataOnlyAveOver_Y_train)"
   ]
  },
  {
   "cell_type": "code",
   "execution_count": null,
   "metadata": {},
   "outputs": [],
   "source": [
    "print('Результат для произвольного K:')\n",
    "print_metrics(dataOnlyAveOver_X_train, dataOnlyAveOver_Y_train, dataOnlyAve_X_test, dataOnlyAve_Y_test, criteria='accuracy')"
   ]
  },
  {
   "cell_type": "code",
   "execution_count": null,
   "metadata": {},
   "outputs": [],
   "source": [
    "k_for_OnlyAveOver = search_K(dataOnlyAveOver_X_train, dataOnlyAveOver_Y_train, dataOnlyAve_X_test,\\\n",
    "                             dataOnlyAve_Y_test, criteria='accuracy')"
   ]
  },
  {
   "cell_type": "code",
   "execution_count": null,
   "metadata": {},
   "outputs": [],
   "source": [
    "print(k_for_OnlyAveOver)"
   ]
  },
  {
   "cell_type": "code",
   "execution_count": null,
   "metadata": {
    "scrolled": false
   },
   "outputs": [],
   "source": [
    "res_for_OnlyAveOver = print_metrics_for_neighbors(dataOnlyAveOver_X_train, dataOnlyAveOver_Y_train,\\\n",
    "                            dataOnlyAve_X_test, dataOnlyAve_Y_test, k_for_OnlyAveOver, criteria='accuracy')"
   ]
  },
  {
   "cell_type": "code",
   "execution_count": null,
   "metadata": {},
   "outputs": [],
   "source": [
    "resTrain_for_OnlyAveOver = print_metrics(dataOnlyAveOver_X_train, dataOnlyAveOver_Y_train, dataOnlyAveOver_X_train, \\\n",
    "                                         dataOnlyAveOver_Y_train, 'accuracy', k_for_OnlyAveOver)"
   ]
  },
  {
   "cell_type": "markdown",
   "metadata": {},
   "source": [
    "# 3. Обучение модели с \"3 marks\" и категориями"
   ]
  },
  {
   "cell_type": "markdown",
   "metadata": {},
   "source": [
    "## 3.0. Подготовка"
   ]
  },
  {
   "cell_type": "code",
   "execution_count": null,
   "metadata": {},
   "outputs": [],
   "source": [
    "dataSc = data.copy()\n",
    "dataSc['math score'] = sc.fit_transform(dataSc[['math score']])\n",
    "dataSc['reading score'] = sc.fit_transform(dataSc[['reading score']])\n",
    "dataSc['writing score'] = sc.fit_transform(dataSc[['writing score']])\n",
    "dataSc_X = dataSc.drop(columns='lunch')\n",
    "dataSc_Y = dataSc['lunch']\n",
    "dataSc_X_train, dataSc_X_test, \\\n",
    "dataSc_Y_train, dataSc_Y_test = train_test_split(dataSc_X, dataSc_Y, test_size=TEST_SIZE, random_state=0)"
   ]
  },
  {
   "cell_type": "markdown",
   "metadata": {},
   "source": [
    "## 3.1. Обучение с произвольным K"
   ]
  },
  {
   "cell_type": "code",
   "execution_count": null,
   "metadata": {},
   "outputs": [],
   "source": [
    "print_metrics(dataSc_X_train, dataSc_Y_train, dataSc_X_test, dataSc_Y_test)"
   ]
  },
  {
   "cell_type": "markdown",
   "metadata": {},
   "source": [
    "## 3.2. Поиск оптимального K"
   ]
  },
  {
   "cell_type": "code",
   "execution_count": null,
   "metadata": {
    "scrolled": false
   },
   "outputs": [],
   "source": [
    "k_for_Sc = search_K(dataSc_X_train, dataSc_Y_train, dataSc_X_test, dataSc_Y_test)"
   ]
  },
  {
   "cell_type": "code",
   "execution_count": null,
   "metadata": {},
   "outputs": [],
   "source": [
    "print(k_for_Sc)"
   ]
  },
  {
   "cell_type": "code",
   "execution_count": null,
   "metadata": {
    "scrolled": true
   },
   "outputs": [],
   "source": [
    "res_for_Sc = print_metrics_for_neighbors(dataSc_X_train, dataSc_Y_train, \\\n",
    "                            dataSc_X_test, dataSc_Y_test, k_for_Sc)"
   ]
  },
  {
   "cell_type": "code",
   "execution_count": null,
   "metadata": {},
   "outputs": [],
   "source": [
    "resTrain_for_Sc = print_metrics(dataSc_X_train, dataSc_Y_train, dataSc_X_train, dataSc_Y_train, K=k_for_Sc)"
   ]
  },
  {
   "cell_type": "markdown",
   "metadata": {},
   "source": [
    "## 3.3 Балансирование обучающего набора"
   ]
  },
  {
   "cell_type": "markdown",
   "metadata": {},
   "source": [
    "### 3.3.1. Undersampling"
   ]
  },
  {
   "cell_type": "code",
   "execution_count": null,
   "metadata": {},
   "outputs": [],
   "source": [
    "dataScUnder_X_train, dataScUnder_Y_train = get_balance(dataSc_X_train, dataSc_Y_train, 'under', 1)"
   ]
  },
  {
   "cell_type": "code",
   "execution_count": null,
   "metadata": {},
   "outputs": [],
   "source": [
    "print_class_proportions(dataScUnder_Y_train)"
   ]
  },
  {
   "cell_type": "code",
   "execution_count": null,
   "metadata": {},
   "outputs": [],
   "source": [
    "print('Результат для произвольного K:')\n",
    "print_metrics(dataScUnder_X_train, dataScUnder_Y_train, dataSc_X_test, dataSc_Y_test, criteria='accuracy')"
   ]
  },
  {
   "cell_type": "code",
   "execution_count": null,
   "metadata": {},
   "outputs": [],
   "source": [
    "k_for_ScUnder = search_K(dataScUnder_X_train, dataScUnder_Y_train, dataSc_X_test, \\\n",
    "                              dataSc_Y_test, criteria='accuracy')"
   ]
  },
  {
   "cell_type": "code",
   "execution_count": null,
   "metadata": {},
   "outputs": [],
   "source": [
    "print(k_for_ScUnder)"
   ]
  },
  {
   "cell_type": "code",
   "execution_count": null,
   "metadata": {
    "scrolled": true
   },
   "outputs": [],
   "source": [
    "res_for_ScUnder = print_metrics_for_neighbors(dataScUnder_X_train, dataScUnder_Y_train, \\\n",
    "                            dataSc_X_test, dataSc_Y_test, k_for_ScUnder, criteria='accuracy')"
   ]
  },
  {
   "cell_type": "code",
   "execution_count": null,
   "metadata": {},
   "outputs": [],
   "source": [
    "resTrain_for_ScUnder = print_metrics(dataScUnder_X_train, dataScUnder_Y_train, dataScUnder_X_train, \\\n",
    "                                     dataScUnder_Y_train, 'accuracy', k_for_ScUnder)"
   ]
  },
  {
   "cell_type": "markdown",
   "metadata": {},
   "source": [
    "### 3.3.2. Oversampling"
   ]
  },
  {
   "cell_type": "code",
   "execution_count": null,
   "metadata": {},
   "outputs": [],
   "source": [
    "dataScOver_X_train, dataScOver_Y_train = get_balance(dataSc_X_train, dataSc_Y_train, 'over', 1)"
   ]
  },
  {
   "cell_type": "code",
   "execution_count": null,
   "metadata": {},
   "outputs": [],
   "source": [
    "print_class_proportions(dataScOver_Y_train)"
   ]
  },
  {
   "cell_type": "code",
   "execution_count": null,
   "metadata": {},
   "outputs": [],
   "source": [
    "print('Результат для произвольного K:')\n",
    "print_metrics(dataScOver_X_train, dataScOver_Y_train, dataSc_X_test, dataSc_Y_test, criteria='accuracy')"
   ]
  },
  {
   "cell_type": "code",
   "execution_count": null,
   "metadata": {},
   "outputs": [],
   "source": [
    "k_for_ScOver = search_K(dataScOver_X_train, dataScOver_Y_train, dataSc_X_test,\\\n",
    "                             dataSc_Y_test, criteria='accuracy')"
   ]
  },
  {
   "cell_type": "code",
   "execution_count": null,
   "metadata": {},
   "outputs": [],
   "source": [
    "print(k_for_ScOver)"
   ]
  },
  {
   "cell_type": "code",
   "execution_count": null,
   "metadata": {
    "scrolled": true
   },
   "outputs": [],
   "source": [
    "res_for_ScOver = print_metrics_for_neighbors(dataScOver_X_train, dataScOver_Y_train,\\\n",
    "                            dataSc_X_test, dataSc_Y_test, k_for_ScOver, criteria='accuracy')"
   ]
  },
  {
   "cell_type": "code",
   "execution_count": null,
   "metadata": {},
   "outputs": [],
   "source": [
    "resTrain_for_ScOver = print_metrics(dataScOver_X_train, dataScOver_Y_train, dataScOver_X_train, dataScOver_Y_train, \\\n",
    "                                    'accuracy', k_for_ScOver)"
   ]
  },
  {
   "cell_type": "markdown",
   "metadata": {},
   "source": [
    "# 4. Обучение модели только с \"3 marks\""
   ]
  },
  {
   "cell_type": "markdown",
   "metadata": {},
   "source": [
    "## 4.0. Подготовка"
   ]
  },
  {
   "cell_type": "code",
   "execution_count": null,
   "metadata": {},
   "outputs": [],
   "source": [
    "dataOnlySc_X = dataSc[['math score', 'reading score', 'writing score']]\n",
    "dataOnlySc_Y = dataSc['lunch']\n",
    "dataOnlySc_X_train, dataOnlySc_X_test, \\\n",
    "dataOnlySc_Y_train, dataOnlySc_Y_test = train_test_split(dataOnlySc_X, dataOnlySc_Y, test_size=TEST_SIZE, random_state=0)"
   ]
  },
  {
   "cell_type": "markdown",
   "metadata": {},
   "source": [
    "## 4.1. Обучение с произвольным K"
   ]
  },
  {
   "cell_type": "code",
   "execution_count": null,
   "metadata": {},
   "outputs": [],
   "source": [
    "print_metrics(dataOnlySc_X_train, dataOnlySc_Y_train, dataOnlySc_X_test, dataOnlySc_Y_test)"
   ]
  },
  {
   "cell_type": "markdown",
   "metadata": {},
   "source": [
    "## 4.2. Поиск оптимального K"
   ]
  },
  {
   "cell_type": "code",
   "execution_count": null,
   "metadata": {
    "scrolled": false
   },
   "outputs": [],
   "source": [
    "k_for_OnlySc = search_K(dataOnlySc_X_train, dataOnlySc_Y_train, dataOnlySc_X_test, dataOnlySc_Y_test)"
   ]
  },
  {
   "cell_type": "code",
   "execution_count": null,
   "metadata": {},
   "outputs": [],
   "source": [
    "print(k_for_OnlySc)"
   ]
  },
  {
   "cell_type": "code",
   "execution_count": null,
   "metadata": {
    "scrolled": true
   },
   "outputs": [],
   "source": [
    "res_for_OnlySc = print_metrics_for_neighbors(dataOnlySc_X_train, dataOnlySc_Y_train, \\\n",
    "                            dataOnlySc_X_test, dataOnlySc_Y_test, k_for_OnlySc)"
   ]
  },
  {
   "cell_type": "code",
   "execution_count": null,
   "metadata": {},
   "outputs": [],
   "source": [
    "resTrain_for_OnlySc = print_metrics(dataOnlySc_X_train, dataOnlySc_Y_train, dataOnlySc_X_train, dataOnlySc_Y_train, \\\n",
    "                                    K=k_for_OnlySc)"
   ]
  },
  {
   "cell_type": "markdown",
   "metadata": {},
   "source": [
    "## 4.3 Балансирование обучающего набора"
   ]
  },
  {
   "cell_type": "markdown",
   "metadata": {},
   "source": [
    "### 4.3.1. Undersampling"
   ]
  },
  {
   "cell_type": "code",
   "execution_count": null,
   "metadata": {},
   "outputs": [],
   "source": [
    "dataOnlyScUnder_X_train, dataOnlyScUnder_Y_train = get_balance(dataOnlySc_X_train, dataOnlySc_Y_train, 'under', 1)"
   ]
  },
  {
   "cell_type": "code",
   "execution_count": null,
   "metadata": {},
   "outputs": [],
   "source": [
    "print_class_proportions(dataOnlyScUnder_Y_train)"
   ]
  },
  {
   "cell_type": "code",
   "execution_count": null,
   "metadata": {},
   "outputs": [],
   "source": [
    "print('Результат для произвольного K:')\n",
    "print_metrics(dataOnlyScUnder_X_train, dataOnlyScUnder_Y_train, dataOnlySc_X_test, dataOnlySc_Y_test, criteria='accuracy')"
   ]
  },
  {
   "cell_type": "code",
   "execution_count": null,
   "metadata": {},
   "outputs": [],
   "source": [
    "k_for_OnlyScUnder = search_K(dataOnlyScUnder_X_train, dataOnlyScUnder_Y_train, dataOnlySc_X_test, \\\n",
    "                              dataOnlySc_Y_test, criteria='accuracy')"
   ]
  },
  {
   "cell_type": "code",
   "execution_count": null,
   "metadata": {},
   "outputs": [],
   "source": [
    "print(k_for_OnlyScUnder)"
   ]
  },
  {
   "cell_type": "code",
   "execution_count": null,
   "metadata": {
    "scrolled": true
   },
   "outputs": [],
   "source": [
    "res_for_OnlyScUnder = print_metrics_for_neighbors(dataOnlyScUnder_X_train, dataOnlyScUnder_Y_train, \\\n",
    "                            dataOnlySc_X_test, dataOnlySc_Y_test, k_for_OnlyScUnder, criteria='accuracy')"
   ]
  },
  {
   "cell_type": "code",
   "execution_count": null,
   "metadata": {},
   "outputs": [],
   "source": [
    "resTrain_for_OnlyScUnder = print_metrics(dataOnlyScUnder_X_train, dataOnlyScUnder_Y_train, dataOnlyScUnder_X_train, \\\n",
    "                                         dataOnlyScUnder_Y_train, 'accuracy', k_for_OnlyScUnder)"
   ]
  },
  {
   "cell_type": "markdown",
   "metadata": {},
   "source": [
    "### 4.3.2. Oversampling"
   ]
  },
  {
   "cell_type": "code",
   "execution_count": null,
   "metadata": {},
   "outputs": [],
   "source": [
    "dataOnlyScOver_X_train, dataOnlyScOver_Y_train = get_balance(dataOnlySc_X_train, dataOnlySc_Y_train, 'over', 1)"
   ]
  },
  {
   "cell_type": "code",
   "execution_count": null,
   "metadata": {},
   "outputs": [],
   "source": [
    "print_class_proportions(dataOnlyScOver_Y_train)"
   ]
  },
  {
   "cell_type": "code",
   "execution_count": null,
   "metadata": {},
   "outputs": [],
   "source": [
    "print('Результат для произвольного K:')\n",
    "print_metrics(dataOnlyScOver_X_train, dataOnlyScOver_Y_train, dataOnlySc_X_test, dataOnlySc_Y_test, criteria='accuracy')"
   ]
  },
  {
   "cell_type": "code",
   "execution_count": null,
   "metadata": {},
   "outputs": [],
   "source": [
    "k_for_OnlyScOver = search_K(dataOnlyScOver_X_train, dataOnlyScOver_Y_train, dataOnlySc_X_test,\\\n",
    "                             dataOnlySc_Y_test, criteria='accuracy')"
   ]
  },
  {
   "cell_type": "code",
   "execution_count": null,
   "metadata": {},
   "outputs": [],
   "source": [
    "print(k_for_OnlyScOver)"
   ]
  },
  {
   "cell_type": "code",
   "execution_count": null,
   "metadata": {
    "scrolled": true
   },
   "outputs": [],
   "source": [
    "res_for_OnlyScOver = print_metrics_for_neighbors(dataOnlyScOver_X_train, dataOnlyScOver_Y_train,\\\n",
    "                            dataOnlySc_X_test, dataOnlySc_Y_test, k_for_OnlyScOver, criteria='accuracy')"
   ]
  },
  {
   "cell_type": "code",
   "execution_count": null,
   "metadata": {},
   "outputs": [],
   "source": [
    "resTrain_for_OnlyScOver = print_metrics(dataOnlyScOver_X_train, dataOnlyScOver_Y_train, dataOnlyScOver_X_train, \\\n",
    "                                        dataOnlyScOver_Y_train, 'accuracy', k_for_OnlyScOver)"
   ]
  },
  {
   "cell_type": "markdown",
   "metadata": {},
   "source": [
    "# 5. Итоги"
   ]
  },
  {
   "cell_type": "code",
   "execution_count": null,
   "metadata": {},
   "outputs": [],
   "source": [
    "lst_label = ['Average', 'OnlyAverage', 'Scores', 'OnlyScores']\n",
    "dc_optimal_k = {\n",
    "                  'Оптимальное k': [k_for_Ave, k_for_OnlyAve, k_for_Sc, k_for_OnlySc],\n",
    "                  'Оптимальное k under': [k_for_AveUnder, k_for_OnlyAveUnder, k_for_ScUnder, k_for_OnlyScUnder],\n",
    "                  'Оптимальное k over': [k_for_AveOver, k_for_OnlyAveOver, k_for_ScOver, k_for_OnlyScOver]\n",
    "                }"
   ]
  },
  {
   "cell_type": "markdown",
   "metadata": {},
   "source": [
    "## 5.1. K для тестового набора"
   ]
  },
  {
   "cell_type": "code",
   "execution_count": null,
   "metadata": {
    "scrolled": false
   },
   "outputs": [],
   "source": [
    "pd.DataFrame(dc_optimal_k, index=lst_label)"
   ]
  },
  {
   "cell_type": "markdown",
   "metadata": {},
   "source": [
    "## 5.2. Score для тестового набора"
   ]
  },
  {
   "cell_type": "code",
   "execution_count": null,
   "metadata": {},
   "outputs": [],
   "source": [
    "dc_max_score_test = {\n",
    "                  'Максимальное score': [res_for_Ave, res_for_OnlyAve, res_for_Sc, res_for_OnlySc],\n",
    "                  'Максимальное score under': [res_for_AveUnder, res_for_OnlyAveUnder, res_for_ScUnder, res_for_OnlyScUnder],\n",
    "                  'Максимальное score over': [res_for_AveOver, res_for_OnlyAveOver, res_for_ScOver, res_for_OnlyScOver]\n",
    "                }\n",
    "pd.DataFrame(dc_max_score_test, index=lst_label)## 5.1. K для тестового набора"
   ]
  },
  {
   "cell_type": "markdown",
   "metadata": {},
   "source": [
    "## 5.3. Score для обучающего набора"
   ]
  },
  {
   "cell_type": "code",
   "execution_count": null,
   "metadata": {
    "scrolled": true
   },
   "outputs": [],
   "source": [
    "dc_max_score_train = {\n",
    "                  'Максимальное score': [resTrain_for_Ave, resTrain_for_OnlyAve, resTrain_for_Sc, resTrain_for_OnlySc],\n",
    "                  'Максимальное score under': [resTrain_for_AveUnder, resTrain_for_OnlyAveUnder, resTrain_for_ScUnder, resTrain_for_OnlyScUnder],\n",
    "                  'Максимальное score over': [resTrain_for_AveOver, resTrain_for_OnlyAveOver, resTrain_for_ScOver, resTrain_for_OnlyScOver]\n",
    "                }\n",
    "pd.DataFrame(dc_max_score_train, index=lst_label)"
   ]
  },
  {
   "cell_type": "markdown",
   "metadata": {},
   "source": [
    "# 6. Кросс-валидация для модели с Average и категориями"
   ]
  },
  {
   "cell_type": "code",
   "execution_count": null,
   "metadata": {},
   "outputs": [],
   "source": [
    "SPLITS_DEFAULT = 5"
   ]
  },
  {
   "cell_type": "markdown",
   "metadata": {},
   "source": [
    "## 6.1. GridSearch"
   ]
  },
  {
   "cell_type": "code",
   "execution_count": null,
   "metadata": {},
   "outputs": [],
   "source": [
    "# перечисляем основные параметры для GridSearchCV\n",
    "estimator_dis = KNeighborsClassifier()\n",
    "grid_dis = {\"n_neighbors\":np.arange(1,100)}\n",
    "scoring_dis = 'balanced_accuracy'"
   ]
  },
  {
   "cell_type": "markdown",
   "metadata": {},
   "source": [
    "### 6.1.1. K-fold cross validation"
   ]
  },
  {
   "cell_type": "code",
   "execution_count": null,
   "metadata": {},
   "outputs": [],
   "source": [
    "def print_gridResults(grid):\n",
    "    print(f'Подобранный параметр: {grid.best_params_}')\n",
    "    print(f'Оценка при подобранном параметре: {grid.best_score_}')\n",
    "    return [grid.best_params_[\"n_neighbors\"], grid.best_score_]"
   ]
  },
  {
   "cell_type": "code",
   "execution_count": null,
   "metadata": {},
   "outputs": [],
   "source": [
    "cv_KFold_dis = StratifiedKFold(n_splits=SPLITS_DEFAULT)\n",
    "KFold_dis = GridSearchCV(estimator_dis, grid_dis, scoring=scoring_dis, cv=cv_KFold_dis)\n",
    "KFold_dis.fit(dataAve_X_train, dataAve_Y_train)\n",
    "grid_for_Ave = print_gridResults(KFold_dis)"
   ]
  },
  {
   "cell_type": "code",
   "execution_count": null,
   "metadata": {},
   "outputs": [],
   "source": [
    "t_grid_for_Ave = print_metrics(dataAve_X_train, dataAve_Y_train, dataAve_X_test, dataAve_Y_test, K=grid_for_Ave[0])"
   ]
  },
  {
   "cell_type": "markdown",
   "metadata": {},
   "source": [
    "### 6.1.2. Repeated K-fold cross validation"
   ]
  },
  {
   "cell_type": "code",
   "execution_count": null,
   "metadata": {},
   "outputs": [],
   "source": [
    "cv_RepeatedKFold_dis = RepeatedStratifiedKFold(n_splits=SPLITS_DEFAULT, n_repeats=2, random_state=0)\n",
    "RepeatedKFold_dis = GridSearchCV(estimator_dis, grid_dis, scoring=scoring_dis, cv=cv_RepeatedKFold_dis)\n",
    "RepeatedKFold_dis.fit(dataAve_X_train, dataAve_Y_train)\n",
    "Repeated_grid_for_Ave = print_gridResults(RepeatedKFold_dis)"
   ]
  },
  {
   "cell_type": "code",
   "execution_count": null,
   "metadata": {},
   "outputs": [],
   "source": [
    "t_Repeated_grid_for_Ave = print_metrics(dataAve_X_train, dataAve_Y_train, dataAve_X_test, dataAve_Y_test, \\\n",
    "                                         K=Repeated_grid_for_Ave[0])"
   ]
  },
  {
   "cell_type": "markdown",
   "metadata": {},
   "source": [
    "### 6.1.3. Shuffle Split cross validation"
   ]
  },
  {
   "cell_type": "code",
   "execution_count": null,
   "metadata": {},
   "outputs": [],
   "source": [
    "cv_ShuffleSplit_dis = ShuffleSplit(n_splits=SPLITS_DEFAULT, test_size=1/SPLITS_DEFAULT, random_state=0)\n",
    "ShuffleSplit_dis = GridSearchCV(estimator_dis, grid_dis, scoring=scoring_dis, cv=cv_ShuffleSplit_dis)\n",
    "ShuffleSplit_dis.fit(dataAve_X_train, dataAve_Y_train)\n",
    "ShuffleSplit_grid_for_Ave = print_gridResults(ShuffleSplit_dis)"
   ]
  },
  {
   "cell_type": "code",
   "execution_count": null,
   "metadata": {},
   "outputs": [],
   "source": [
    "t_ShuffleSplit_grid_for_Ave = print_metrics(dataAve_X_train, dataAve_Y_train, dataAve_X_test, dataAve_Y_test, \\\n",
    "                                            K=ShuffleSplit_grid_for_Ave[0])"
   ]
  },
  {
   "cell_type": "markdown",
   "metadata": {},
   "source": [
    "## 6.2. RandomizedGridSearch"
   ]
  },
  {
   "cell_type": "markdown",
   "metadata": {},
   "source": [
    "### 6.2.1. K-fold cross validation"
   ]
  },
  {
   "cell_type": "code",
   "execution_count": null,
   "metadata": {},
   "outputs": [],
   "source": [
    "grid_for_random = {\"n_neighbors\":randint(1,100)}\n",
    "n_iter_for_random = 30"
   ]
  },
  {
   "cell_type": "code",
   "execution_count": null,
   "metadata": {},
   "outputs": [],
   "source": [
    "Random_KFold_dis = RandomizedSearchCV(estimator_dis, grid_for_random, n_iter=n_iter_for_random, \\\n",
    "                                      scoring=scoring_dis, cv=cv_KFold_dis, random_state=0)\n",
    "Random_KFold_dis.fit(dataAve_X_train, dataAve_Y_train)\n",
    "random_grid_for_Ave = print_gridResults(Random_KFold_dis)"
   ]
  },
  {
   "cell_type": "code",
   "execution_count": null,
   "metadata": {
    "scrolled": true
   },
   "outputs": [],
   "source": [
    "t_random_grid_for_Ave = print_metrics(dataAve_X_train, dataAve_Y_train, dataAve_X_test, dataAve_Y_test, \\\n",
    "                                       K=random_grid_for_Ave[0])"
   ]
  },
  {
   "cell_type": "markdown",
   "metadata": {},
   "source": [
    "### 6.2.2. Repeated K-fold cross validation"
   ]
  },
  {
   "cell_type": "code",
   "execution_count": null,
   "metadata": {},
   "outputs": [],
   "source": [
    "RandomRepeated_KFold_dis = RandomizedSearchCV(estimator_dis, grid_for_random, n_iter=n_iter_for_random, \\\n",
    "                                      scoring=scoring_dis, cv=cv_RepeatedKFold_dis, random_state=0)\n",
    "RandomRepeated_KFold_dis.fit(dataAve_X_train, dataAve_Y_train)\n",
    "Repeated_random_grid_for_Ave = print_gridResults(RandomRepeated_KFold_dis)"
   ]
  },
  {
   "cell_type": "code",
   "execution_count": null,
   "metadata": {},
   "outputs": [],
   "source": [
    "t_Repeated_random_grid_for_Ave = print_metrics(dataAve_X_train, dataAve_Y_train, dataAve_X_test, dataAve_Y_test, \\\n",
    "                                               K=Repeated_random_grid_for_Ave[0])"
   ]
  },
  {
   "cell_type": "markdown",
   "metadata": {},
   "source": [
    "### 6.2.3. Shuffle Split cross validation"
   ]
  },
  {
   "cell_type": "code",
   "execution_count": null,
   "metadata": {},
   "outputs": [],
   "source": [
    "RandomShuffleSplit_dis = RandomizedSearchCV(estimator_dis, grid_for_random, n_iter=n_iter_for_random, \\\n",
    "                                      scoring=scoring_dis, cv=cv_ShuffleSplit_dis, random_state=0)\n",
    "RandomShuffleSplit_dis.fit(dataAve_X_train, dataAve_Y_train)\n",
    "ShuffleSplit_random_grid_for_Ave = print_gridResults(RandomShuffleSplit_dis)"
   ]
  },
  {
   "cell_type": "code",
   "execution_count": null,
   "metadata": {},
   "outputs": [],
   "source": [
    "t_ShuffleSplit_random_grid_for_Ave = print_metrics(dataAve_X_train, dataAve_Y_train, dataAve_X_test, dataAve_Y_test, \\\n",
    "                                                   K=ShuffleSplit_random_grid_for_Ave[0])"
   ]
  },
  {
   "cell_type": "markdown",
   "metadata": {},
   "source": [
    "# 7. Итоги кросс-валидации"
   ]
  },
  {
   "cell_type": "code",
   "execution_count": null,
   "metadata": {},
   "outputs": [],
   "source": [
    "lst_label_cv = ['K-fold', 'Repeated K-fold', 'Shuffle Split']\n",
    "dc_k_cv = {'Grid Search':[grid_for_Ave[0], Repeated_grid_for_Ave[0], ShuffleSplit_grid_for_Ave[0]],\\\n",
    "           'Random Grid Search':[random_grid_for_Ave[0], Repeated_random_grid_for_Ave[0], \\\n",
    "                                  ShuffleSplit_random_grid_for_Ave[0]]}\n",
    "dc_score_cv_cross = {'Grid Search':[grid_for_Ave[1], Repeated_grid_for_Ave[1], ShuffleSplit_grid_for_Ave[1]], \\\n",
    "                     'Random Grid Search':[random_grid_for_Ave[1], Repeated_random_grid_for_Ave[1], \\\n",
    "                                            ShuffleSplit_random_grid_for_Ave[1]]}\n",
    "dc_score_cv_test = {'Grid Search':[t_grid_for_Ave, t_Repeated_grid_for_Ave, t_ShuffleSplit_grid_for_Ave], \\\n",
    "                    'Random Grid Search':[t_random_grid_for_Ave, t_Repeated_random_grid_for_Ave, \\\n",
    "                                          t_ShuffleSplit_random_grid_for_Ave]}"
   ]
  },
  {
   "cell_type": "markdown",
   "metadata": {},
   "source": [
    "## 7.1. При произвольном K"
   ]
  },
  {
   "cell_type": "code",
   "execution_count": null,
   "metadata": {},
   "outputs": [],
   "source": [
    "print(f'Accuracy для тестового набора: {any_res_for_Ave} при k = {N_DEFAULT}')\n",
    "print(f'Accuracy для обучающего набора: {t_any_res_for_Ave} при k = {N_DEFAULT}')"
   ]
  },
  {
   "cell_type": "markdown",
   "metadata": {},
   "source": [
    "## 7.2. Подбор без кросс-валидации простым перебором K"
   ]
  },
  {
   "cell_type": "code",
   "execution_count": null,
   "metadata": {
    "scrolled": false
   },
   "outputs": [],
   "source": [
    "print(f'Accuracy для тестового набора: {res_for_Ave} при k = {k_for_Ave}')\n",
    "print(f'Accuracy для обучающего набора: {resTrain_for_Ave} при k = {k_for_Ave}')"
   ]
  },
  {
   "cell_type": "markdown",
   "metadata": {},
   "source": [
    "## 7.3. С кросс-валидацией и GridSearch"
   ]
  },
  {
   "cell_type": "code",
   "execution_count": null,
   "metadata": {},
   "outputs": [],
   "source": [
    "print('Параметр K:')\n",
    "pd.DataFrame(dc_k_cv, index=lst_label_cv)"
   ]
  },
  {
   "cell_type": "code",
   "execution_count": null,
   "metadata": {},
   "outputs": [],
   "source": [
    "print('Accuracy для кросс-валидации:')\n",
    "pd.DataFrame(dc_score_cv_cross, index=lst_label_cv)"
   ]
  },
  {
   "cell_type": "code",
   "execution_count": null,
   "metadata": {},
   "outputs": [],
   "source": [
    "print('Accuracy для тестового набора:')\n",
    "pd.DataFrame(dc_score_cv_test, index=lst_label_cv)"
   ]
  },
  {
   "cell_type": "code",
   "execution_count": null,
   "metadata": {},
   "outputs": [],
   "source": []
  }
 ],
 "metadata": {
  "kernelspec": {
   "display_name": "Python 3",
   "language": "python",
   "name": "python3"
  },
  "language_info": {
   "codemirror_mode": {
    "name": "ipython",
    "version": 3
   },
   "file_extension": ".py",
   "mimetype": "text/x-python",
   "name": "python",
   "nbconvert_exporter": "python",
   "pygments_lexer": "ipython3",
   "version": "3.8.5"
  }
 },
 "nbformat": 4,
 "nbformat_minor": 4
}
