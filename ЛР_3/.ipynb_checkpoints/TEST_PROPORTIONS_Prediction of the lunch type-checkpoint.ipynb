{
 "cells": [
  {
   "cell_type": "code",
   "execution_count": 290,
   "metadata": {},
   "outputs": [],
   "source": [
    "import numpy as np\n",
    "import pandas as pd\n",
    "import seaborn as sns\n",
    "import matplotlib.pyplot as plt\n",
    "%matplotlib inline \n",
    "sns.set(style=\"ticks\")\n",
    "\n",
    "from sklearn.preprocessing import LabelEncoder\n",
    "from sklearn.preprocessing import MinMaxScaler\n",
    "\n",
    "from sklearn.model_selection import train_test_split\n",
    "\n",
    "from sklearn.neighbors import KNeighborsClassifier\n",
    "\n",
    "from typing import Dict, Tuple\n",
    "\n",
    "from sklearn.metrics import accuracy_score, balanced_accuracy_score\n",
    "from sklearn.metrics import confusion_matrix\n",
    "\n",
    "from sklearn.model_selection import cross_validate, KFold, RepeatedKFold, ShuffleSplit\n",
    "from sklearn.model_selection import StratifiedKFold, RepeatedStratifiedKFold, StratifiedShuffleSplit\n",
    "from sklearn.model_selection import GridSearchCV, RandomizedSearchCV\n",
    "\n",
    "from scipy.stats import randint"
   ]
  },
  {
   "cell_type": "markdown",
   "metadata": {},
   "source": [
    "Будем использовать [датасет из первой лабораторной работы](https://www.kaggle.com/spscientist/students-performance-in-exams). Выполняя первую лабораторную работу, мы выяснили, что между признаками **math_score**, **reading_score**, **writing_score** существует корреляция, поэтому мы будем использовать агрегированное значение: среднее арифметическое от оценок - **Average_score**."
   ]
  },
  {
   "cell_type": "markdown",
   "metadata": {},
   "source": [
    "# 0. Подготовка"
   ]
  },
  {
   "cell_type": "code",
   "execution_count": 291,
   "metadata": {},
   "outputs": [],
   "source": [
    "data = pd.read_csv('data/StudentsPerformance.csv', sep=\",\")"
   ]
  },
  {
   "cell_type": "code",
   "execution_count": 292,
   "metadata": {},
   "outputs": [
    {
     "data": {
      "text/html": [
       "<div>\n",
       "<style scoped>\n",
       "    .dataframe tbody tr th:only-of-type {\n",
       "        vertical-align: middle;\n",
       "    }\n",
       "\n",
       "    .dataframe tbody tr th {\n",
       "        vertical-align: top;\n",
       "    }\n",
       "\n",
       "    .dataframe thead th {\n",
       "        text-align: right;\n",
       "    }\n",
       "</style>\n",
       "<table border=\"1\" class=\"dataframe\">\n",
       "  <thead>\n",
       "    <tr style=\"text-align: right;\">\n",
       "      <th></th>\n",
       "      <th>gender</th>\n",
       "      <th>race/ethnicity</th>\n",
       "      <th>parental level of education</th>\n",
       "      <th>lunch</th>\n",
       "      <th>test preparation course</th>\n",
       "      <th>math score</th>\n",
       "      <th>reading score</th>\n",
       "      <th>writing score</th>\n",
       "    </tr>\n",
       "  </thead>\n",
       "  <tbody>\n",
       "    <tr>\n",
       "      <th>0</th>\n",
       "      <td>female</td>\n",
       "      <td>group B</td>\n",
       "      <td>bachelor's degree</td>\n",
       "      <td>standard</td>\n",
       "      <td>none</td>\n",
       "      <td>72</td>\n",
       "      <td>72</td>\n",
       "      <td>74</td>\n",
       "    </tr>\n",
       "    <tr>\n",
       "      <th>1</th>\n",
       "      <td>female</td>\n",
       "      <td>group C</td>\n",
       "      <td>some college</td>\n",
       "      <td>standard</td>\n",
       "      <td>completed</td>\n",
       "      <td>69</td>\n",
       "      <td>90</td>\n",
       "      <td>88</td>\n",
       "    </tr>\n",
       "    <tr>\n",
       "      <th>2</th>\n",
       "      <td>female</td>\n",
       "      <td>group B</td>\n",
       "      <td>master's degree</td>\n",
       "      <td>standard</td>\n",
       "      <td>none</td>\n",
       "      <td>90</td>\n",
       "      <td>95</td>\n",
       "      <td>93</td>\n",
       "    </tr>\n",
       "    <tr>\n",
       "      <th>3</th>\n",
       "      <td>male</td>\n",
       "      <td>group A</td>\n",
       "      <td>associate's degree</td>\n",
       "      <td>free/reduced</td>\n",
       "      <td>none</td>\n",
       "      <td>47</td>\n",
       "      <td>57</td>\n",
       "      <td>44</td>\n",
       "    </tr>\n",
       "    <tr>\n",
       "      <th>4</th>\n",
       "      <td>male</td>\n",
       "      <td>group C</td>\n",
       "      <td>some college</td>\n",
       "      <td>standard</td>\n",
       "      <td>none</td>\n",
       "      <td>76</td>\n",
       "      <td>78</td>\n",
       "      <td>75</td>\n",
       "    </tr>\n",
       "  </tbody>\n",
       "</table>\n",
       "</div>"
      ],
      "text/plain": [
       "   gender race/ethnicity parental level of education         lunch  \\\n",
       "0  female        group B           bachelor's degree      standard   \n",
       "1  female        group C                some college      standard   \n",
       "2  female        group B             master's degree      standard   \n",
       "3    male        group A          associate's degree  free/reduced   \n",
       "4    male        group C                some college      standard   \n",
       "\n",
       "  test preparation course  math score  reading score  writing score  \n",
       "0                    none          72             72             74  \n",
       "1               completed          69             90             88  \n",
       "2                    none          90             95             93  \n",
       "3                    none          47             57             44  \n",
       "4                    none          76             78             75  "
      ]
     },
     "execution_count": 292,
     "metadata": {},
     "output_type": "execute_result"
    }
   ],
   "source": [
    "data.head()"
   ]
  },
  {
   "cell_type": "code",
   "execution_count": 293,
   "metadata": {},
   "outputs": [
    {
     "data": {
      "text/html": [
       "<div>\n",
       "<style scoped>\n",
       "    .dataframe tbody tr th:only-of-type {\n",
       "        vertical-align: middle;\n",
       "    }\n",
       "\n",
       "    .dataframe tbody tr th {\n",
       "        vertical-align: top;\n",
       "    }\n",
       "\n",
       "    .dataframe thead th {\n",
       "        text-align: right;\n",
       "    }\n",
       "</style>\n",
       "<table border=\"1\" class=\"dataframe\">\n",
       "  <thead>\n",
       "    <tr style=\"text-align: right;\">\n",
       "      <th></th>\n",
       "      <th>gender</th>\n",
       "      <th>race/ethnicity</th>\n",
       "      <th>parental level of education</th>\n",
       "      <th>lunch</th>\n",
       "      <th>test preparation course</th>\n",
       "      <th>math score</th>\n",
       "      <th>reading score</th>\n",
       "      <th>writing score</th>\n",
       "    </tr>\n",
       "  </thead>\n",
       "  <tbody>\n",
       "  </tbody>\n",
       "</table>\n",
       "</div>"
      ],
      "text/plain": [
       "Empty DataFrame\n",
       "Columns: [gender, race/ethnicity, parental level of education, lunch, test preparation course, math score, reading score, writing score]\n",
       "Index: []"
      ]
     },
     "execution_count": 293,
     "metadata": {},
     "output_type": "execute_result"
    }
   ],
   "source": [
    "data[data.duplicated(keep=False)]"
   ]
  },
  {
   "cell_type": "code",
   "execution_count": 294,
   "metadata": {
    "scrolled": true
   },
   "outputs": [
    {
     "data": {
      "text/html": [
       "<div>\n",
       "<style scoped>\n",
       "    .dataframe tbody tr th:only-of-type {\n",
       "        vertical-align: middle;\n",
       "    }\n",
       "\n",
       "    .dataframe tbody tr th {\n",
       "        vertical-align: top;\n",
       "    }\n",
       "\n",
       "    .dataframe thead th {\n",
       "        text-align: right;\n",
       "    }\n",
       "</style>\n",
       "<table border=\"1\" class=\"dataframe\">\n",
       "  <thead>\n",
       "    <tr style=\"text-align: right;\">\n",
       "      <th></th>\n",
       "      <th>gender</th>\n",
       "      <th>race/ethnicity</th>\n",
       "      <th>parental level of education</th>\n",
       "      <th>lunch</th>\n",
       "      <th>test preparation course</th>\n",
       "      <th>math score</th>\n",
       "      <th>reading score</th>\n",
       "      <th>writing score</th>\n",
       "    </tr>\n",
       "  </thead>\n",
       "  <tbody>\n",
       "    <tr>\n",
       "      <th>0</th>\n",
       "      <td>female</td>\n",
       "      <td>group B</td>\n",
       "      <td>bachelor's degree</td>\n",
       "      <td>standard</td>\n",
       "      <td>none</td>\n",
       "      <td>72</td>\n",
       "      <td>72</td>\n",
       "      <td>74</td>\n",
       "    </tr>\n",
       "    <tr>\n",
       "      <th>1</th>\n",
       "      <td>female</td>\n",
       "      <td>group C</td>\n",
       "      <td>some college</td>\n",
       "      <td>standard</td>\n",
       "      <td>completed</td>\n",
       "      <td>69</td>\n",
       "      <td>90</td>\n",
       "      <td>88</td>\n",
       "    </tr>\n",
       "    <tr>\n",
       "      <th>2</th>\n",
       "      <td>female</td>\n",
       "      <td>group B</td>\n",
       "      <td>master's degree</td>\n",
       "      <td>standard</td>\n",
       "      <td>none</td>\n",
       "      <td>90</td>\n",
       "      <td>95</td>\n",
       "      <td>93</td>\n",
       "    </tr>\n",
       "    <tr>\n",
       "      <th>3</th>\n",
       "      <td>male</td>\n",
       "      <td>group A</td>\n",
       "      <td>associate's degree</td>\n",
       "      <td>free/reduced</td>\n",
       "      <td>none</td>\n",
       "      <td>47</td>\n",
       "      <td>57</td>\n",
       "      <td>44</td>\n",
       "    </tr>\n",
       "    <tr>\n",
       "      <th>4</th>\n",
       "      <td>male</td>\n",
       "      <td>group C</td>\n",
       "      <td>some college</td>\n",
       "      <td>standard</td>\n",
       "      <td>none</td>\n",
       "      <td>76</td>\n",
       "      <td>78</td>\n",
       "      <td>75</td>\n",
       "    </tr>\n",
       "  </tbody>\n",
       "</table>\n",
       "</div>"
      ],
      "text/plain": [
       "   gender race/ethnicity parental level of education         lunch  \\\n",
       "0  female        group B           bachelor's degree      standard   \n",
       "1  female        group C                some college      standard   \n",
       "2  female        group B             master's degree      standard   \n",
       "3    male        group A          associate's degree  free/reduced   \n",
       "4    male        group C                some college      standard   \n",
       "\n",
       "  test preparation course  math score  reading score  writing score  \n",
       "0                    none          72             72             74  \n",
       "1               completed          69             90             88  \n",
       "2                    none          90             95             93  \n",
       "3                    none          47             57             44  \n",
       "4                    none          76             78             75  "
      ]
     },
     "execution_count": 294,
     "metadata": {},
     "output_type": "execute_result"
    }
   ],
   "source": [
    "data.head()"
   ]
  },
  {
   "cell_type": "markdown",
   "metadata": {},
   "source": [
    "Выполняем шаги для обеспечения готовности датасета к подаче его на вход алгоритма, которые были изучены нами во второй лабораторной работе"
   ]
  },
  {
   "cell_type": "code",
   "execution_count": 295,
   "metadata": {
    "scrolled": false
   },
   "outputs": [
    {
     "name": "stdout",
     "output_type": "stream",
     "text": [
      "<class 'pandas.core.frame.DataFrame'>\n",
      "RangeIndex: 1000 entries, 0 to 999\n",
      "Data columns (total 8 columns):\n",
      " #   Column                       Non-Null Count  Dtype \n",
      "---  ------                       --------------  ----- \n",
      " 0   gender                       1000 non-null   object\n",
      " 1   race/ethnicity               1000 non-null   object\n",
      " 2   parental level of education  1000 non-null   object\n",
      " 3   lunch                        1000 non-null   object\n",
      " 4   test preparation course      1000 non-null   object\n",
      " 5   math score                   1000 non-null   int64 \n",
      " 6   reading score                1000 non-null   int64 \n",
      " 7   writing score                1000 non-null   int64 \n",
      "dtypes: int64(3), object(5)\n",
      "memory usage: 62.6+ KB\n"
     ]
    }
   ],
   "source": [
    "data.info()"
   ]
  },
  {
   "cell_type": "code",
   "execution_count": 296,
   "metadata": {},
   "outputs": [
    {
     "data": {
      "text/plain": [
       "gender                         0\n",
       "race/ethnicity                 0\n",
       "parental level of education    0\n",
       "lunch                          0\n",
       "test preparation course        0\n",
       "math score                     0\n",
       "reading score                  0\n",
       "writing score                  0\n",
       "dtype: int64"
      ]
     },
     "execution_count": 296,
     "metadata": {},
     "output_type": "execute_result"
    }
   ],
   "source": [
    "data.isna().sum()"
   ]
  },
  {
   "cell_type": "markdown",
   "metadata": {},
   "source": [
    "Наш целевой признак - lunch."
   ]
  },
  {
   "cell_type": "code",
   "execution_count": 297,
   "metadata": {},
   "outputs": [],
   "source": [
    "le = LabelEncoder()\n",
    "data['lunch'] = le.fit_transform(data['lunch'])"
   ]
  },
  {
   "cell_type": "markdown",
   "metadata": {},
   "source": [
    "Для остальных нечисловых признаков выполним преобразования в числовые."
   ]
  },
  {
   "cell_type": "markdown",
   "metadata": {},
   "source": [
    "### Gender"
   ]
  },
  {
   "cell_type": "code",
   "execution_count": 298,
   "metadata": {},
   "outputs": [
    {
     "data": {
      "text/plain": [
       "array(['female', 'male'], dtype=object)"
      ]
     },
     "execution_count": 298,
     "metadata": {},
     "output_type": "execute_result"
    }
   ],
   "source": [
    "data['gender'].unique()"
   ]
  },
  {
   "cell_type": "code",
   "execution_count": 299,
   "metadata": {},
   "outputs": [],
   "source": [
    "data['gender'] = le.fit_transform(data['gender'])"
   ]
  },
  {
   "cell_type": "markdown",
   "metadata": {},
   "source": [
    "### Race/Ethnicity"
   ]
  },
  {
   "cell_type": "code",
   "execution_count": 300,
   "metadata": {},
   "outputs": [
    {
     "data": {
      "text/plain": [
       "array(['group B', 'group C', 'group A', 'group D', 'group E'],\n",
       "      dtype=object)"
      ]
     },
     "execution_count": 300,
     "metadata": {},
     "output_type": "execute_result"
    }
   ],
   "source": [
    "data['race/ethnicity'].unique()"
   ]
  },
  {
   "cell_type": "code",
   "execution_count": 301,
   "metadata": {},
   "outputs": [],
   "source": [
    "data = pd.get_dummies(data, columns = ['race/ethnicity'])"
   ]
  },
  {
   "cell_type": "markdown",
   "metadata": {},
   "source": [
    "### Parental level of education"
   ]
  },
  {
   "cell_type": "code",
   "execution_count": 302,
   "metadata": {},
   "outputs": [
    {
     "data": {
      "text/plain": [
       "array([\"bachelor's degree\", 'some college', \"master's degree\",\n",
       "       \"associate's degree\", 'high school', 'some high school'],\n",
       "      dtype=object)"
      ]
     },
     "execution_count": 302,
     "metadata": {},
     "output_type": "execute_result"
    }
   ],
   "source": [
    "data['parental level of education'].unique()"
   ]
  },
  {
   "cell_type": "code",
   "execution_count": 303,
   "metadata": {},
   "outputs": [],
   "source": [
    "data = pd.get_dummies(data, columns = ['parental level of education'])"
   ]
  },
  {
   "cell_type": "markdown",
   "metadata": {},
   "source": [
    "### Test preparation course"
   ]
  },
  {
   "cell_type": "code",
   "execution_count": 304,
   "metadata": {},
   "outputs": [
    {
     "data": {
      "text/plain": [
       "array(['none', 'completed'], dtype=object)"
      ]
     },
     "execution_count": 304,
     "metadata": {},
     "output_type": "execute_result"
    }
   ],
   "source": [
    "data['test preparation course'].unique()"
   ]
  },
  {
   "cell_type": "code",
   "execution_count": 305,
   "metadata": {},
   "outputs": [],
   "source": [
    "data['test preparation course'] = le.fit_transform(data['test preparation course'])"
   ]
  },
  {
   "cell_type": "markdown",
   "metadata": {},
   "source": [
    "### Average score"
   ]
  },
  {
   "cell_type": "markdown",
   "metadata": {},
   "source": [
    "Из 1-й лабораторной работы известно, что существует сильная корреляция между количественными признаками. Поэтому создадим новый DataFrame со средними оценками. Признак Average score отмасштабируем."
   ]
  },
  {
   "cell_type": "code",
   "execution_count": 306,
   "metadata": {},
   "outputs": [],
   "source": [
    "dataAve = data.copy()\n",
    "dataAve['Average_score'] = dataAve[['math score', 'reading score', 'writing score']].mean(axis=1)\n",
    "dataAve.drop(columns=['math score', 'reading score', 'writing score'], inplace=True)"
   ]
  },
  {
   "cell_type": "code",
   "execution_count": 307,
   "metadata": {},
   "outputs": [],
   "source": [
    "sc = MinMaxScaler()\n",
    "dataAve['Average_score'] = sc.fit_transform(dataAve[['Average_score']])"
   ]
  },
  {
   "cell_type": "code",
   "execution_count": 308,
   "metadata": {},
   "outputs": [
    {
     "data": {
      "text/html": [
       "<div>\n",
       "<style scoped>\n",
       "    .dataframe tbody tr th:only-of-type {\n",
       "        vertical-align: middle;\n",
       "    }\n",
       "\n",
       "    .dataframe tbody tr th {\n",
       "        vertical-align: top;\n",
       "    }\n",
       "\n",
       "    .dataframe thead th {\n",
       "        text-align: right;\n",
       "    }\n",
       "</style>\n",
       "<table border=\"1\" class=\"dataframe\">\n",
       "  <thead>\n",
       "    <tr style=\"text-align: right;\">\n",
       "      <th></th>\n",
       "      <th>gender</th>\n",
       "      <th>lunch</th>\n",
       "      <th>test preparation course</th>\n",
       "      <th>race/ethnicity_group A</th>\n",
       "      <th>race/ethnicity_group B</th>\n",
       "      <th>race/ethnicity_group C</th>\n",
       "      <th>race/ethnicity_group D</th>\n",
       "      <th>race/ethnicity_group E</th>\n",
       "      <th>parental level of education_associate's degree</th>\n",
       "      <th>parental level of education_bachelor's degree</th>\n",
       "      <th>parental level of education_high school</th>\n",
       "      <th>parental level of education_master's degree</th>\n",
       "      <th>parental level of education_some college</th>\n",
       "      <th>parental level of education_some high school</th>\n",
       "      <th>Average_score</th>\n",
       "    </tr>\n",
       "  </thead>\n",
       "  <tbody>\n",
       "    <tr>\n",
       "      <th>0</th>\n",
       "      <td>0</td>\n",
       "      <td>1</td>\n",
       "      <td>1</td>\n",
       "      <td>0</td>\n",
       "      <td>1</td>\n",
       "      <td>0</td>\n",
       "      <td>0</td>\n",
       "      <td>0</td>\n",
       "      <td>0</td>\n",
       "      <td>1</td>\n",
       "      <td>0</td>\n",
       "      <td>0</td>\n",
       "      <td>0</td>\n",
       "      <td>0</td>\n",
       "      <td>0.699634</td>\n",
       "    </tr>\n",
       "    <tr>\n",
       "      <th>1</th>\n",
       "      <td>0</td>\n",
       "      <td>1</td>\n",
       "      <td>0</td>\n",
       "      <td>0</td>\n",
       "      <td>0</td>\n",
       "      <td>1</td>\n",
       "      <td>0</td>\n",
       "      <td>0</td>\n",
       "      <td>0</td>\n",
       "      <td>0</td>\n",
       "      <td>0</td>\n",
       "      <td>0</td>\n",
       "      <td>1</td>\n",
       "      <td>0</td>\n",
       "      <td>0.805861</td>\n",
       "    </tr>\n",
       "    <tr>\n",
       "      <th>2</th>\n",
       "      <td>0</td>\n",
       "      <td>1</td>\n",
       "      <td>1</td>\n",
       "      <td>0</td>\n",
       "      <td>1</td>\n",
       "      <td>0</td>\n",
       "      <td>0</td>\n",
       "      <td>0</td>\n",
       "      <td>0</td>\n",
       "      <td>0</td>\n",
       "      <td>0</td>\n",
       "      <td>1</td>\n",
       "      <td>0</td>\n",
       "      <td>0</td>\n",
       "      <td>0.919414</td>\n",
       "    </tr>\n",
       "    <tr>\n",
       "      <th>3</th>\n",
       "      <td>1</td>\n",
       "      <td>0</td>\n",
       "      <td>1</td>\n",
       "      <td>1</td>\n",
       "      <td>0</td>\n",
       "      <td>0</td>\n",
       "      <td>0</td>\n",
       "      <td>0</td>\n",
       "      <td>1</td>\n",
       "      <td>0</td>\n",
       "      <td>0</td>\n",
       "      <td>0</td>\n",
       "      <td>0</td>\n",
       "      <td>0</td>\n",
       "      <td>0.443223</td>\n",
       "    </tr>\n",
       "    <tr>\n",
       "      <th>4</th>\n",
       "      <td>1</td>\n",
       "      <td>1</td>\n",
       "      <td>1</td>\n",
       "      <td>0</td>\n",
       "      <td>0</td>\n",
       "      <td>1</td>\n",
       "      <td>0</td>\n",
       "      <td>0</td>\n",
       "      <td>0</td>\n",
       "      <td>0</td>\n",
       "      <td>0</td>\n",
       "      <td>0</td>\n",
       "      <td>1</td>\n",
       "      <td>0</td>\n",
       "      <td>0.739927</td>\n",
       "    </tr>\n",
       "  </tbody>\n",
       "</table>\n",
       "</div>"
      ],
      "text/plain": [
       "   gender  lunch  test preparation course  race/ethnicity_group A  \\\n",
       "0       0      1                        1                       0   \n",
       "1       0      1                        0                       0   \n",
       "2       0      1                        1                       0   \n",
       "3       1      0                        1                       1   \n",
       "4       1      1                        1                       0   \n",
       "\n",
       "   race/ethnicity_group B  race/ethnicity_group C  race/ethnicity_group D  \\\n",
       "0                       1                       0                       0   \n",
       "1                       0                       1                       0   \n",
       "2                       1                       0                       0   \n",
       "3                       0                       0                       0   \n",
       "4                       0                       1                       0   \n",
       "\n",
       "   race/ethnicity_group E  parental level of education_associate's degree  \\\n",
       "0                       0                                               0   \n",
       "1                       0                                               0   \n",
       "2                       0                                               0   \n",
       "3                       0                                               1   \n",
       "4                       0                                               0   \n",
       "\n",
       "   parental level of education_bachelor's degree  \\\n",
       "0                                              1   \n",
       "1                                              0   \n",
       "2                                              0   \n",
       "3                                              0   \n",
       "4                                              0   \n",
       "\n",
       "   parental level of education_high school  \\\n",
       "0                                        0   \n",
       "1                                        0   \n",
       "2                                        0   \n",
       "3                                        0   \n",
       "4                                        0   \n",
       "\n",
       "   parental level of education_master's degree  \\\n",
       "0                                            0   \n",
       "1                                            0   \n",
       "2                                            1   \n",
       "3                                            0   \n",
       "4                                            0   \n",
       "\n",
       "   parental level of education_some college  \\\n",
       "0                                         0   \n",
       "1                                         1   \n",
       "2                                         0   \n",
       "3                                         0   \n",
       "4                                         1   \n",
       "\n",
       "   parental level of education_some high school  Average_score  \n",
       "0                                             0       0.699634  \n",
       "1                                             0       0.805861  \n",
       "2                                             0       0.919414  \n",
       "3                                             0       0.443223  \n",
       "4                                             0       0.739927  "
      ]
     },
     "execution_count": 308,
     "metadata": {},
     "output_type": "execute_result"
    }
   ],
   "source": [
    "dataAve.head()"
   ]
  },
  {
   "cell_type": "code",
   "execution_count": 309,
   "metadata": {
    "scrolled": false
   },
   "outputs": [
    {
     "name": "stdout",
     "output_type": "stream",
     "text": [
      "<class 'pandas.core.frame.DataFrame'>\n",
      "RangeIndex: 1000 entries, 0 to 999\n",
      "Data columns (total 15 columns):\n",
      " #   Column                                          Non-Null Count  Dtype  \n",
      "---  ------                                          --------------  -----  \n",
      " 0   gender                                          1000 non-null   int32  \n",
      " 1   lunch                                           1000 non-null   int32  \n",
      " 2   test preparation course                         1000 non-null   int32  \n",
      " 3   race/ethnicity_group A                          1000 non-null   uint8  \n",
      " 4   race/ethnicity_group B                          1000 non-null   uint8  \n",
      " 5   race/ethnicity_group C                          1000 non-null   uint8  \n",
      " 6   race/ethnicity_group D                          1000 non-null   uint8  \n",
      " 7   race/ethnicity_group E                          1000 non-null   uint8  \n",
      " 8   parental level of education_associate's degree  1000 non-null   uint8  \n",
      " 9   parental level of education_bachelor's degree   1000 non-null   uint8  \n",
      " 10  parental level of education_high school         1000 non-null   uint8  \n",
      " 11  parental level of education_master's degree     1000 non-null   uint8  \n",
      " 12  parental level of education_some college        1000 non-null   uint8  \n",
      " 13  parental level of education_some high school    1000 non-null   uint8  \n",
      " 14  Average_score                                   1000 non-null   float64\n",
      "dtypes: float64(1), int32(3), uint8(11)\n",
      "memory usage: 30.4 KB\n"
     ]
    }
   ],
   "source": [
    "dataAve.info()"
   ]
  },
  {
   "cell_type": "markdown",
   "metadata": {},
   "source": [
    "## Разделение выборки на обучающую и тестовую"
   ]
  },
  {
   "cell_type": "code",
   "execution_count": 310,
   "metadata": {},
   "outputs": [],
   "source": [
    "TEST_SIZE = 0.1"
   ]
  },
  {
   "cell_type": "code",
   "execution_count": 311,
   "metadata": {},
   "outputs": [],
   "source": [
    "dataAve_X = dataAve.drop(columns='lunch')\n",
    "dataAve_Y = dataAve['lunch']"
   ]
  },
  {
   "cell_type": "code",
   "execution_count": 312,
   "metadata": {},
   "outputs": [],
   "source": [
    "dataAve_X_train, dataAve_X_test, \\\n",
    "dataAve_Y_train, dataAve_Y_test = train_test_split(dataAve_X, dataAve_Y, test_size=TEST_SIZE, random_state=0)"
   ]
  },
  {
   "cell_type": "code",
   "execution_count": 313,
   "metadata": {},
   "outputs": [],
   "source": [
    "def class_proportions(array: np.ndarray) -> Dict[int, Tuple[int, float]]:\n",
    "    \"\"\"\n",
    "    Вычисляет пропорции классов\n",
    "    array - массив, содержащий метки классов\n",
    "    \"\"\"\n",
    "    # Получение меток классов и количества меток каждого класса \n",
    "    labels, counts = np.unique(array, return_counts=True)\n",
    "    # Превращаем количество меток в процент их встречаемости\n",
    "    # делим количество меток каждого класса на общее количество меток\n",
    "    counts_perc = counts/array.size\n",
    "    # Теперь sum(counts_perc)==1.0\n",
    "    # Создаем результирующий словарь,\n",
    "    # ключом словаря явлется метка класса, \n",
    "    # а значением словаря процент встречаемости метки\n",
    "    res = dict()\n",
    "    for label, count2 in zip(labels, zip(counts, counts_perc)):\n",
    "        res[label] = count2\n",
    "    return res\n",
    "\n",
    "def print_class_proportions(array: np.ndarray):\n",
    "    \"\"\"\n",
    "    Вывод пропорций классов\n",
    "    \"\"\"\n",
    "    proportions = class_proportions(array)\n",
    "    if len(proportions)>0:\n",
    "        print('Метка \\t Количество \\t Процент встречаемости')\n",
    "    for i in proportions:\n",
    "        val, val_perc = proportions[i]\n",
    "        val_perc_100 = round(val_perc * 100, 2)\n",
    "        print('{} \\t {} \\t \\t {}%'.format(i, val, val_perc_100))"
   ]
  },
  {
   "cell_type": "code",
   "execution_count": 314,
   "metadata": {
    "scrolled": true
   },
   "outputs": [
    {
     "name": "stdout",
     "output_type": "stream",
     "text": [
      "Метка \t Количество \t Процент встречаемости\n",
      "0 \t 318 \t \t 35.33%\n",
      "1 \t 582 \t \t 64.67%\n"
     ]
    }
   ],
   "source": [
    "print_class_proportions(dataAve_Y_train)"
   ]
  },
  {
   "cell_type": "code",
   "execution_count": 315,
   "metadata": {},
   "outputs": [
    {
     "name": "stdout",
     "output_type": "stream",
     "text": [
      "Метка \t Количество \t Процент встречаемости\n",
      "0 \t 37 \t \t 37.0%\n",
      "1 \t 63 \t \t 63.0%\n"
     ]
    }
   ],
   "source": [
    "print_class_proportions(dataAve_Y_test)"
   ]
  },
  {
   "cell_type": "code",
   "execution_count": 316,
   "metadata": {},
   "outputs": [
    {
     "name": "stdout",
     "output_type": "stream",
     "text": [
      "Метка \t Количество \t Процент встречаемости\n",
      "0 \t 355 \t \t 35.5%\n",
      "1 \t 645 \t \t 64.5%\n"
     ]
    }
   ],
   "source": [
    "print_class_proportions(dataAve['lunch'])"
   ]
  },
  {
   "cell_type": "markdown",
   "metadata": {},
   "source": [
    "# 1. Обучение модели с Average и категориями"
   ]
  },
  {
   "cell_type": "markdown",
   "metadata": {},
   "source": [
    "## 1.1. Обучение с произвольным K"
   ]
  },
  {
   "cell_type": "code",
   "execution_count": 317,
   "metadata": {},
   "outputs": [],
   "source": [
    "N_DEFAULT = 5 # произвольное K"
   ]
  },
  {
   "cell_type": "code",
   "execution_count": 318,
   "metadata": {},
   "outputs": [],
   "source": [
    "def get_predict(X_train, Y_train, X_test, n=N_DEFAULT):\n",
    "    knc = KNeighborsClassifier(n_neighbors=n)\n",
    "    knc.fit(X_train, Y_train)\n",
    "    return knc.predict(X_test)"
   ]
  },
  {
   "cell_type": "code",
   "execution_count": 319,
   "metadata": {},
   "outputs": [],
   "source": [
    "def print_metrics(Y_test, target, criteria='balanced_accuracy'):\n",
    "    ret = 0\n",
    "    if criteria=='balanced_accuracy':\n",
    "        ret = balanced_accuracy_score(Y_test, target)\n",
    "        print(f'Сбалансированная оценка: {ret}')\n",
    "    elif criteria=='accuracy':\n",
    "        ret = accuracy_score(Y_test, target)\n",
    "        print(f'Обычная оценка: {ret}')\n",
    "    else:\n",
    "        raise IOError('Неверный критерий. Ожидается \"balanced_accuracy\" или \"accuracy\"')\n",
    "    print(f'Матрица ошибок:\\n {confusion_matrix(Y_test, target)}')\n",
    "    return ret"
   ]
  },
  {
   "cell_type": "code",
   "execution_count": 320,
   "metadata": {},
   "outputs": [],
   "source": [
    "targetAve_test = get_predict(dataAve_X_train, dataAve_Y_train, dataAve_X_test)\n",
    "targetAve_train = get_predict(dataAve_X_train, dataAve_Y_train, dataAve_X_train)"
   ]
  },
  {
   "cell_type": "code",
   "execution_count": 321,
   "metadata": {
    "scrolled": true
   },
   "outputs": [
    {
     "name": "stdout",
     "output_type": "stream",
     "text": [
      "Сбалансированная оценка: 0.5272415272415272\n",
      "Матрица ошибок:\n",
      " [[12 25]\n",
      " [17 46]]\n"
     ]
    }
   ],
   "source": [
    "any_res_for_Ave = print_metrics(dataAve_Y_test, targetAve_test)"
   ]
  },
  {
   "cell_type": "code",
   "execution_count": 322,
   "metadata": {},
   "outputs": [
    {
     "name": "stdout",
     "output_type": "stream",
     "text": [
      "Сбалансированная оценка: 0.6762789340595214\n",
      "Матрица ошибок:\n",
      " [[152 166]\n",
      " [ 73 509]]\n"
     ]
    }
   ],
   "source": [
    "t_any_res_for_Ave = print_metrics(dataAve_Y_train, targetAve_train)"
   ]
  },
  {
   "cell_type": "markdown",
   "metadata": {},
   "source": [
    "## 1.2. Поиск оптимального K"
   ]
  },
  {
   "cell_type": "code",
   "execution_count": 323,
   "metadata": {},
   "outputs": [],
   "source": [
    "def search_K(X_train, Y_train, X_test, Y_test, criteria='balanced_accuracy'):\n",
    "    knc_dict = {'k':[], 'score_test':[], 'score_train':[]}\n",
    "    optimal_k = 1\n",
    "    bas_max = 0\n",
    "    if criteria == 'balanced_accuracy':\n",
    "        for i in range(1, 150):\n",
    "            knc = KNeighborsClassifier(n_neighbors=i)\n",
    "            knc.fit(X_train, Y_train)\n",
    "            knc_dict['k'].append(i)\n",
    "            bas_test = balanced_accuracy_score(Y_test, knc.predict(X_test))\n",
    "            if bas_test > bas_max:\n",
    "                bas_max = bas_test\n",
    "                optimal_k = i\n",
    "            knc_dict['score_test'].append(bas_test)\n",
    "            knc_dict['score_train'].append(balanced_accuracy_score(Y_train, knc.predict(X_train)))\n",
    "        estimate_K = pd.DataFrame(knc_dict)\n",
    "    elif criteria == 'accuracy':\n",
    "        for i in range(1, 150):\n",
    "            knc = KNeighborsClassifier(n_neighbors=i)\n",
    "            knc.fit(X_train, Y_train)\n",
    "            knc_dict['k'].append(i)\n",
    "            bas_test = accuracy_score(Y_test, knc.predict(X_test))\n",
    "            if bas_test > bas_max:\n",
    "                bas_max = bas_test\n",
    "                optimal_k = i\n",
    "            knc_dict['score_test'].append(bas_test)\n",
    "            knc_dict['score_train'].append(accuracy_score(Y_train, knc.predict(X_train)))\n",
    "        estimate_K = pd.DataFrame(knc_dict)\n",
    "    else:\n",
    "        raise IOError('Неверный критерий. Ожидается \"balanced_accuracy\" или \"accuracy\".')\n",
    "    \n",
    "    fig, ax = plt.subplots(2,1,figsize=(7,10))\n",
    "    ax[0].plot(estimate_K.k, estimate_K.score_test)\n",
    "    ax[0].title.set_text(f'{criteria} for test data')\n",
    "    ax[0].set_xlabel('k')\n",
    "    ax[0].set_ylabel('score_test')\n",
    "    ax[1].plot(estimate_K.k, estimate_K.score_train)\n",
    "    ax[1].title.set_text(f'{criteria} for train data')\n",
    "    ax[1].set_xlabel('k')\n",
    "    ax[1].set_ylabel('score_train')\n",
    "    plt.show()\n",
    "    return optimal_k"
   ]
  },
  {
   "cell_type": "code",
   "execution_count": 324,
   "metadata": {
    "scrolled": false
   },
   "outputs": [
    {
     "data": {
      "image/png": "[encoded data removed]",
      "text/plain": [
       "<Figure size 504x720 with 2 Axes>"
      ]
     },
     "metadata": {},
     "output_type": "display_data"
    }
   ],
   "source": [
    "k_for_Ave = search_K(dataAve_X_train, dataAve_Y_train, dataAve_X_test, dataAve_Y_test)"
   ]
  },
  {
   "cell_type": "code",
   "execution_count": 325,
   "metadata": {},
   "outputs": [
    {
     "name": "stdout",
     "output_type": "stream",
     "text": [
      "6\n"
     ]
    }
   ],
   "source": [
    "print(k_for_Ave)"
   ]
  },
  {
   "cell_type": "code",
   "execution_count": 326,
   "metadata": {},
   "outputs": [],
   "source": [
    "def print_metrics_for_neighbors(X_train, Y_train, X_test, Y_test, k, criteria='balanced_accuracy'):\n",
    "    print(f'ДЛЯ K = {k}')\n",
    "    res = print_metrics(Y_test, get_predict(X_train, Y_train, X_test, k), criteria)\n",
    "    if k != 1:\n",
    "        print(f'\\nДЛЯ K = {k-1}')\n",
    "        print_metrics(Y_test, get_predict(X_train, Y_train, X_test, k-1), criteria)\n",
    "    print(f'\\nДЛЯ K = {k+1}')\n",
    "    print_metrics(Y_test, get_predict(X_train, Y_train, X_test, k+1), criteria)\n",
    "    return res"
   ]
  },
  {
   "cell_type": "code",
   "execution_count": 327,
   "metadata": {
    "scrolled": true
   },
   "outputs": [
    {
     "name": "stdout",
     "output_type": "stream",
     "text": [
      "ДЛЯ K = 6\n",
      "Сбалансированная оценка: 0.5383955383955383\n",
      "Матрица ошибок:\n",
      " [[14 23]\n",
      " [19 44]]\n",
      "\n",
      "ДЛЯ K = 5\n",
      "Сбалансированная оценка: 0.5272415272415272\n",
      "Матрица ошибок:\n",
      " [[12 25]\n",
      " [17 46]]\n",
      "\n",
      "ДЛЯ K = 7\n",
      "Сбалансированная оценка: 0.48112398112398114\n",
      "Матрица ошибок:\n",
      " [[ 8 29]\n",
      " [16 47]]\n"
     ]
    }
   ],
   "source": [
    "res_for_Ave = print_metrics_for_neighbors(dataAve_X_train, dataAve_Y_train, dataAve_X_test, dataAve_Y_test, k_for_Ave)"
   ]
  },
  {
   "cell_type": "code",
   "execution_count": 328,
   "metadata": {},
   "outputs": [
    {
     "name": "stdout",
     "output_type": "stream",
     "text": [
      "Сбалансированная оценка: 0.6955034688452311\n",
      "Матрица ошибок:\n",
      " [[191 127]\n",
      " [122 460]]\n"
     ]
    }
   ],
   "source": [
    "resTrain_for_Ave = print_metrics(dataAve_Y_train, get_predict(dataAve_X_train, dataAve_Y_train, dataAve_X_train, k_for_Ave))"
   ]
  },
  {
   "cell_type": "markdown",
   "metadata": {},
   "source": [
    "## 1.3 Балансирование обучающего набора"
   ]
  },
  {
   "cell_type": "code",
   "execution_count": 329,
   "metadata": {},
   "outputs": [],
   "source": [
    "from imblearn.under_sampling import RandomUnderSampler\n",
    "from imblearn.over_sampling import RandomOverSampler"
   ]
  },
  {
   "cell_type": "code",
   "execution_count": 330,
   "metadata": {},
   "outputs": [],
   "source": [
    "def get_balance(X_train, Y_train, method, strategy):\n",
    "    if method=='under':\n",
    "        rus = RandomUnderSampler(random_state=0, sampling_strategy=strategy)\n",
    "        return rus.fit_resample(X_train, Y_train)\n",
    "    elif method=='over':\n",
    "        ros = RandomOverSampler(random_state=0, sampling_strategy=strategy)\n",
    "        return ros.fit_resample(X_train, Y_train)\n",
    "    else:\n",
    "        raise IOError('Неверный метод. Ожидается \"under\" или \"over\".')"
   ]
  },
  {
   "cell_type": "markdown",
   "metadata": {},
   "source": [
    "### 1.3.1. Undersampling"
   ]
  },
  {
   "cell_type": "code",
   "execution_count": 331,
   "metadata": {},
   "outputs": [],
   "source": [
    "dataAveUnder_X_train, dataAveUnder_Y_train = get_balance(dataAve_X_train, dataAve_Y_train, 'under', 1)"
   ]
  },
  {
   "cell_type": "code",
   "execution_count": 332,
   "metadata": {},
   "outputs": [
    {
     "name": "stdout",
     "output_type": "stream",
     "text": [
      "Метка \t Количество \t Процент встречаемости\n",
      "0 \t 318 \t \t 50.0%\n",
      "1 \t 318 \t \t 50.0%\n"
     ]
    }
   ],
   "source": [
    "print_class_proportions(dataAveUnder_Y_train)"
   ]
  },
  {
   "cell_type": "code",
   "execution_count": 333,
   "metadata": {},
   "outputs": [
    {
     "name": "stdout",
     "output_type": "stream",
     "text": [
      "Результат для произвольного K:\n",
      "Обычная оценка: 0.54\n",
      "Матрица ошибок:\n",
      " [[19 18]\n",
      " [28 35]]\n"
     ]
    },
    {
     "data": {
      "text/plain": [
       "0.54"
      ]
     },
     "execution_count": 333,
     "metadata": {},
     "output_type": "execute_result"
    }
   ],
   "source": [
    "print('Результат для произвольного K:')\n",
    "print_metrics(dataAve_Y_test, get_predict(dataAveUnder_X_train, dataAveUnder_Y_train, dataAve_X_test), criteria='accuracy')"
   ]
  },
  {
   "cell_type": "code",
   "execution_count": 334,
   "metadata": {},
   "outputs": [
    {
     "data": {
      "image/png": "[encoded data removed]",
      "text/plain": [
       "<Figure size 504x720 with 2 Axes>"
      ]
     },
     "metadata": {},
     "output_type": "display_data"
    }
   ],
   "source": [
    "k_for_AveUnder = search_K(dataAveUnder_X_train, dataAveUnder_Y_train, dataAve_X_test, dataAve_Y_test, criteria='accuracy')"
   ]
  },
  {
   "cell_type": "code",
   "execution_count": 335,
   "metadata": {},
   "outputs": [
    {
     "name": "stdout",
     "output_type": "stream",
     "text": [
      "43\n"
     ]
    }
   ],
   "source": [
    "print(k_for_AveUnder)"
   ]
  },
  {
   "cell_type": "code",
   "execution_count": 336,
   "metadata": {
    "scrolled": true
   },
   "outputs": [
    {
     "name": "stdout",
     "output_type": "stream",
     "text": [
      "ДЛЯ K = 43\n",
      "Обычная оценка: 0.64\n",
      "Матрица ошибок:\n",
      " [[21 16]\n",
      " [20 43]]\n",
      "\n",
      "ДЛЯ K = 42\n",
      "Обычная оценка: 0.63\n",
      "Матрица ошибок:\n",
      " [[23 14]\n",
      " [23 40]]\n",
      "\n",
      "ДЛЯ K = 44\n",
      "Обычная оценка: 0.62\n",
      "Матрица ошибок:\n",
      " [[22 15]\n",
      " [23 40]]\n"
     ]
    }
   ],
   "source": [
    "res_for_AveUnder = print_metrics_for_neighbors(dataAveUnder_X_train, dataAveUnder_Y_train, \\\n",
    "                            dataAve_X_test, dataAve_Y_test, k_for_AveUnder, criteria='accuracy')"
   ]
  },
  {
   "cell_type": "code",
   "execution_count": 337,
   "metadata": {},
   "outputs": [
    {
     "name": "stdout",
     "output_type": "stream",
     "text": [
      "Сбалансированная оценка: 0.6116352201257862\n",
      "Матрица ошибок:\n",
      " [[179 139]\n",
      " [108 210]]\n"
     ]
    }
   ],
   "source": [
    "resTrain_for_AveUnder = print_metrics(dataAveUnder_Y_train, get_predict(dataAveUnder_X_train, dataAveUnder_Y_train, \\\n",
    "                                                                        dataAveUnder_X_train, k_for_AveUnder))"
   ]
  },
  {
   "cell_type": "markdown",
   "metadata": {},
   "source": [
    "### 1.3.2. Oversampling"
   ]
  },
  {
   "cell_type": "code",
   "execution_count": 338,
   "metadata": {},
   "outputs": [],
   "source": [
    "dataAveOver_X_train, dataAveOver_Y_train = get_balance(dataAve_X_train, dataAve_Y_train, 'over', 1)"
   ]
  },
  {
   "cell_type": "code",
   "execution_count": 339,
   "metadata": {},
   "outputs": [
    {
     "name": "stdout",
     "output_type": "stream",
     "text": [
      "Метка \t Количество \t Процент встречаемости\n",
      "0 \t 582 \t \t 50.0%\n",
      "1 \t 582 \t \t 50.0%\n"
     ]
    }
   ],
   "source": [
    "print_class_proportions(dataAveOver_Y_train)"
   ]
  },
  {
   "cell_type": "code",
   "execution_count": 340,
   "metadata": {},
   "outputs": [
    {
     "name": "stdout",
     "output_type": "stream",
     "text": [
      "Результат для произвольного K:\n",
      "Обычная оценка: 0.55\n",
      "Матрица ошибок:\n",
      " [[18 19]\n",
      " [26 37]]\n"
     ]
    },
    {
     "data": {
      "text/plain": [
       "0.55"
      ]
     },
     "execution_count": 340,
     "metadata": {},
     "output_type": "execute_result"
    }
   ],
   "source": [
    "print('Результат для произвольного K:')\n",
    "print_metrics(dataAve_Y_test, get_predict(dataAveOver_X_train, dataAveOver_Y_train, dataAve_X_test), criteria='accuracy')"
   ]
  },
  {
   "cell_type": "code",
   "execution_count": 341,
   "metadata": {},
   "outputs": [
    {
     "data": {
      "image/png": "[encoded data removed]",
      "text/plain": [
       "<Figure size 504x720 with 2 Axes>"
      ]
     },
     "metadata": {},
     "output_type": "display_data"
    }
   ],
   "source": [
    "k_for_AveOver = search_K(dataAveOver_X_train, dataAveOver_Y_train, dataAve_X_test, dataAve_Y_test, criteria='accuracy')"
   ]
  },
  {
   "cell_type": "code",
   "execution_count": 342,
   "metadata": {},
   "outputs": [
    {
     "name": "stdout",
     "output_type": "stream",
     "text": [
      "73\n"
     ]
    }
   ],
   "source": [
    "print(k_for_AveOver)"
   ]
  },
  {
   "cell_type": "code",
   "execution_count": 343,
   "metadata": {
    "scrolled": true
   },
   "outputs": [
    {
     "name": "stdout",
     "output_type": "stream",
     "text": [
      "ДЛЯ K = 73\n",
      "Обычная оценка: 0.7\n",
      "Матрица ошибок:\n",
      " [[21 16]\n",
      " [14 49]]\n",
      "\n",
      "ДЛЯ K = 72\n",
      "Обычная оценка: 0.68\n",
      "Матрица ошибок:\n",
      " [[23 14]\n",
      " [18 45]]\n",
      "\n",
      "ДЛЯ K = 74\n",
      "Обычная оценка: 0.68\n",
      "Матрица ошибок:\n",
      " [[22 15]\n",
      " [17 46]]\n"
     ]
    }
   ],
   "source": [
    "res_for_AveOver = print_metrics_for_neighbors(dataAveOver_X_train, dataAveOver_Y_train,\\\n",
    "                            dataAve_X_test, dataAve_Y_test, k_for_AveOver, criteria='accuracy')"
   ]
  },
  {
   "cell_type": "code",
   "execution_count": 344,
   "metadata": {},
   "outputs": [
    {
     "name": "stdout",
     "output_type": "stream",
     "text": [
      "Сбалансированная оценка: 0.615979381443299\n",
      "Матрица ошибок:\n",
      " [[342 240]\n",
      " [207 375]]\n"
     ]
    }
   ],
   "source": [
    "resTrain_for_AveOver = print_metrics(dataAveOver_Y_train, get_predict(dataAveOver_X_train, dataAveOver_Y_train, \\\n",
    "                                                                        dataAveOver_X_train, k_for_AveOver))"
   ]
  },
  {
   "cell_type": "markdown",
   "metadata": {},
   "source": [
    "# 2. Обучение модели только с Average"
   ]
  },
  {
   "cell_type": "markdown",
   "metadata": {},
   "source": [
    "## 2.0. Подготовка"
   ]
  },
  {
   "cell_type": "code",
   "execution_count": 345,
   "metadata": {},
   "outputs": [],
   "source": [
    "dataOnlyAve_X = dataAve[['Average_score']]\n",
    "dataOnlyAve_Y = dataAve['lunch']\n",
    "dataOnlyAve_X_train, dataOnlyAve_X_test, \\\n",
    "dataOnlyAve_Y_train, dataOnlyAve_Y_test = train_test_split(dataOnlyAve_X, dataOnlyAve_Y, test_size=TEST_SIZE, random_state=0)"
   ]
  },
  {
   "cell_type": "markdown",
   "metadata": {},
   "source": [
    "## 2.1. Обучение с произвольным K"
   ]
  },
  {
   "cell_type": "code",
   "execution_count": 346,
   "metadata": {},
   "outputs": [],
   "source": [
    "targetOnlyAve_test = get_predict(dataOnlyAve_X_train, dataOnlyAve_Y_train, dataOnlyAve_X_test)"
   ]
  },
  {
   "cell_type": "code",
   "execution_count": 347,
   "metadata": {},
   "outputs": [
    {
     "name": "stdout",
     "output_type": "stream",
     "text": [
      "Сбалансированная оценка: 0.5836550836550837\n",
      "Матрица ошибок:\n",
      " [[15 22]\n",
      " [15 48]]\n"
     ]
    },
    {
     "data": {
      "text/plain": [
       "0.5836550836550837"
      ]
     },
     "execution_count": 347,
     "metadata": {},
     "output_type": "execute_result"
    }
   ],
   "source": [
    "print_metrics(dataOnlyAve_Y_test, targetOnlyAve_test)"
   ]
  },
  {
   "cell_type": "markdown",
   "metadata": {},
   "source": [
    "## 2.2. Поиск оптимального K"
   ]
  },
  {
   "cell_type": "code",
   "execution_count": 348,
   "metadata": {
    "scrolled": false
   },
   "outputs": [
    {
     "data": {
      "image/png": "[encoded data removed]",
      "text/plain": [
       "<Figure size 504x720 with 2 Axes>"
      ]
     },
     "metadata": {},
     "output_type": "display_data"
    }
   ],
   "source": [
    "k_for_OnlyAve = search_K(dataOnlyAve_X_train, dataOnlyAve_Y_train, dataOnlyAve_X_test, dataOnlyAve_Y_test)"
   ]
  },
  {
   "cell_type": "code",
   "execution_count": 349,
   "metadata": {},
   "outputs": [
    {
     "name": "stdout",
     "output_type": "stream",
     "text": [
      "22\n"
     ]
    }
   ],
   "source": [
    "print(k_for_OnlyAve)"
   ]
  },
  {
   "cell_type": "code",
   "execution_count": 350,
   "metadata": {
    "scrolled": false
   },
   "outputs": [
    {
     "name": "stdout",
     "output_type": "stream",
     "text": [
      "ДЛЯ K = 22\n",
      "Сбалансированная оценка: 0.6154011154011154\n",
      "Матрица ошибок:\n",
      " [[15 22]\n",
      " [11 52]]\n",
      "\n",
      "ДЛЯ K = 21\n",
      "Сбалансированная оценка: 0.6042471042471043\n",
      "Матрица ошибок:\n",
      " [[13 24]\n",
      " [ 9 54]]\n",
      "\n",
      "ДЛЯ K = 23\n",
      "Сбалансированная оценка: 0.5907335907335907\n",
      "Матрица ошибок:\n",
      " [[12 25]\n",
      " [ 9 54]]\n"
     ]
    }
   ],
   "source": [
    "res_for_OnlyAve = print_metrics_for_neighbors(dataOnlyAve_X_train, dataOnlyAve_Y_train, \\\n",
    "                            dataOnlyAve_X_test, dataOnlyAve_Y_test, k_for_OnlyAve)"
   ]
  },
  {
   "cell_type": "code",
   "execution_count": 351,
   "metadata": {},
   "outputs": [
    {
     "name": "stdout",
     "output_type": "stream",
     "text": [
      "Сбалансированная оценка: 0.6063671140504441\n",
      "Матрица ошибок:\n",
      " [[113 205]\n",
      " [ 83 499]]\n"
     ]
    }
   ],
   "source": [
    "resTrain_for_OnlyAve = print_metrics(dataOnlyAve_Y_train, get_predict(dataOnlyAve_X_train, dataOnlyAve_Y_train, \\\n",
    "                                                                        dataOnlyAve_X_train, k_for_OnlyAve))"
   ]
  },
  {
   "cell_type": "markdown",
   "metadata": {},
   "source": [
    "## 2.3 Балансирование обучающего набора"
   ]
  },
  {
   "cell_type": "markdown",
   "metadata": {},
   "source": [
    "### 2.3.1. Undersampling"
   ]
  },
  {
   "cell_type": "code",
   "execution_count": 352,
   "metadata": {},
   "outputs": [],
   "source": [
    "dataOnlyAveUnder_X_train, dataOnlyAveUnder_Y_train = get_balance(dataOnlyAve_X_train, dataOnlyAve_Y_train, 'under', 1)"
   ]
  },
  {
   "cell_type": "code",
   "execution_count": 353,
   "metadata": {},
   "outputs": [
    {
     "name": "stdout",
     "output_type": "stream",
     "text": [
      "Метка \t Количество \t Процент встречаемости\n",
      "0 \t 318 \t \t 50.0%\n",
      "1 \t 318 \t \t 50.0%\n"
     ]
    }
   ],
   "source": [
    "print_class_proportions(dataOnlyAveUnder_Y_train)"
   ]
  },
  {
   "cell_type": "code",
   "execution_count": 354,
   "metadata": {},
   "outputs": [
    {
     "name": "stdout",
     "output_type": "stream",
     "text": [
      "Результат для произвольного K:\n",
      "Обычная оценка: 0.56\n",
      "Матрица ошибок:\n",
      " [[27 10]\n",
      " [34 29]]\n"
     ]
    },
    {
     "data": {
      "text/plain": [
       "0.56"
      ]
     },
     "execution_count": 354,
     "metadata": {},
     "output_type": "execute_result"
    }
   ],
   "source": [
    "print('Результат для произвольного K:')\n",
    "print_metrics(dataOnlyAve_Y_test, get_predict(dataOnlyAveUnder_X_train, dataOnlyAveUnder_Y_train, \\\n",
    "                                              dataOnlyAve_X_test), criteria='accuracy')"
   ]
  },
  {
   "cell_type": "code",
   "execution_count": 355,
   "metadata": {},
   "outputs": [
    {
     "data": {
      "image/png": "[encoded data removed]",
      "text/plain": [
       "<Figure size 504x720 with 2 Axes>"
      ]
     },
     "metadata": {},
     "output_type": "display_data"
    }
   ],
   "source": [
    "k_for_OnlyAveUnder = search_K(dataOnlyAveUnder_X_train, dataOnlyAveUnder_Y_train, dataOnlyAve_X_test, \\\n",
    "                              dataOnlyAve_Y_test, criteria='accuracy')"
   ]
  },
  {
   "cell_type": "code",
   "execution_count": 356,
   "metadata": {},
   "outputs": [
    {
     "name": "stdout",
     "output_type": "stream",
     "text": [
      "78\n"
     ]
    }
   ],
   "source": [
    "print(k_for_OnlyAveUnder)"
   ]
  },
  {
   "cell_type": "code",
   "execution_count": 357,
   "metadata": {
    "scrolled": false
   },
   "outputs": [
    {
     "name": "stdout",
     "output_type": "stream",
     "text": [
      "ДЛЯ K = 78\n",
      "Обычная оценка: 0.69\n",
      "Матрица ошибок:\n",
      " [[26 11]\n",
      " [20 43]]\n",
      "\n",
      "ДЛЯ K = 77\n",
      "Обычная оценка: 0.68\n",
      "Матрица ошибок:\n",
      " [[25 12]\n",
      " [20 43]]\n",
      "\n",
      "ДЛЯ K = 79\n",
      "Обычная оценка: 0.68\n",
      "Матрица ошибок:\n",
      " [[24 13]\n",
      " [19 44]]\n"
     ]
    }
   ],
   "source": [
    "res_for_OnlyAveUnder = print_metrics_for_neighbors(dataOnlyAveUnder_X_train, dataOnlyAveUnder_Y_train, \\\n",
    "                            dataOnlyAve_X_test, dataOnlyAve_Y_test, k_for_OnlyAveUnder, criteria='accuracy')"
   ]
  },
  {
   "cell_type": "code",
   "execution_count": 358,
   "metadata": {},
   "outputs": [
    {
     "name": "stdout",
     "output_type": "stream",
     "text": [
      "Сбалансированная оценка: 0.621069182389937\n",
      "Матрица ошибок:\n",
      " [[176 142]\n",
      " [ 99 219]]\n"
     ]
    }
   ],
   "source": [
    "resTrain_for_OnlyAveUnder = print_metrics(dataOnlyAveUnder_Y_train, \\\n",
    "                                          get_predict(dataOnlyAveUnder_X_train, dataOnlyAveUnder_Y_train, \\\n",
    "                                                      dataOnlyAveUnder_X_train, k_for_OnlyAveUnder))"
   ]
  },
  {
   "cell_type": "markdown",
   "metadata": {},
   "source": [
    "### 2.3.2. Oversampling"
   ]
  },
  {
   "cell_type": "code",
   "execution_count": 359,
   "metadata": {},
   "outputs": [],
   "source": [
    "dataOnlyAveOver_X_train, dataOnlyAveOver_Y_train = get_balance(dataOnlyAve_X_train, dataOnlyAve_Y_train, 'over', 1)"
   ]
  },
  {
   "cell_type": "code",
   "execution_count": 360,
   "metadata": {},
   "outputs": [
    {
     "name": "stdout",
     "output_type": "stream",
     "text": [
      "Метка \t Количество \t Процент встречаемости\n",
      "0 \t 582 \t \t 50.0%\n",
      "1 \t 582 \t \t 50.0%\n"
     ]
    }
   ],
   "source": [
    "print_class_proportions(dataOnlyAveOver_Y_train)"
   ]
  },
  {
   "cell_type": "code",
   "execution_count": 361,
   "metadata": {},
   "outputs": [
    {
     "name": "stdout",
     "output_type": "stream",
     "text": [
      "Результат для произвольного K:\n",
      "Обычная оценка: 0.59\n",
      "Матрица ошибок:\n",
      " [[19 18]\n",
      " [23 40]]\n"
     ]
    },
    {
     "data": {
      "text/plain": [
       "0.59"
      ]
     },
     "execution_count": 361,
     "metadata": {},
     "output_type": "execute_result"
    }
   ],
   "source": [
    "print('Результат для произвольного K:')\n",
    "print_metrics(dataOnlyAve_Y_test, get_predict(dataOnlyAveOver_X_train, dataOnlyAveOver_Y_train, \\\n",
    "                                              dataOnlyAve_X_test), criteria='accuracy')"
   ]
  },
  {
   "cell_type": "code",
   "execution_count": 362,
   "metadata": {},
   "outputs": [
    {
     "data": {
      "image/png": "[encoded data removed]",
      "text/plain": [
       "<Figure size 504x720 with 2 Axes>"
      ]
     },
     "metadata": {},
     "output_type": "display_data"
    }
   ],
   "source": [
    "k_for_OnlyAveOver = search_K(dataOnlyAveOver_X_train, dataOnlyAveOver_Y_train, dataOnlyAve_X_test,\\\n",
    "                             dataOnlyAve_Y_test, criteria='accuracy')"
   ]
  },
  {
   "cell_type": "code",
   "execution_count": 363,
   "metadata": {},
   "outputs": [
    {
     "name": "stdout",
     "output_type": "stream",
     "text": [
      "149\n"
     ]
    }
   ],
   "source": [
    "print(k_for_OnlyAveOver)"
   ]
  },
  {
   "cell_type": "code",
   "execution_count": 364,
   "metadata": {
    "scrolled": false
   },
   "outputs": [
    {
     "name": "stdout",
     "output_type": "stream",
     "text": [
      "ДЛЯ K = 149\n",
      "Обычная оценка: 0.66\n",
      "Матрица ошибок:\n",
      " [[23 14]\n",
      " [20 43]]\n",
      "\n",
      "ДЛЯ K = 148\n",
      "Обычная оценка: 0.64\n",
      "Матрица ошибок:\n",
      " [[23 14]\n",
      " [22 41]]\n",
      "\n",
      "ДЛЯ K = 150\n",
      "Обычная оценка: 0.65\n",
      "Матрица ошибок:\n",
      " [[23 14]\n",
      " [21 42]]\n"
     ]
    }
   ],
   "source": [
    "res_for_OnlyAveOver = print_metrics_for_neighbors(dataOnlyAveOver_X_train, dataOnlyAveOver_Y_train,\\\n",
    "                            dataOnlyAve_X_test, dataOnlyAve_Y_test, k_for_OnlyAveOver, criteria='accuracy')"
   ]
  },
  {
   "cell_type": "code",
   "execution_count": 365,
   "metadata": {},
   "outputs": [
    {
     "name": "stdout",
     "output_type": "stream",
     "text": [
      "Сбалансированная оценка: 0.6237113402061856\n",
      "Матрица ошибок:\n",
      " [[320 262]\n",
      " [176 406]]\n"
     ]
    }
   ],
   "source": [
    "resTrain_for_OnlyAveOver = print_metrics(dataOnlyAveOver_Y_train, \\\n",
    "                                          get_predict(dataOnlyAveOver_X_train, dataOnlyAveOver_Y_train, \\\n",
    "                                                      dataOnlyAveOver_X_train, k_for_OnlyAveOver))"
   ]
  },
  {
   "cell_type": "markdown",
   "metadata": {},
   "source": [
    "# 3. Обучение модели с \"3 marks\" и категориями"
   ]
  },
  {
   "cell_type": "markdown",
   "metadata": {},
   "source": [
    "## 3.0. Подготовка"
   ]
  },
  {
   "cell_type": "code",
   "execution_count": 366,
   "metadata": {},
   "outputs": [],
   "source": [
    "dataSc = data.copy()\n",
    "dataSc['math score'] = sc.fit_transform(dataSc[['math score']])\n",
    "dataSc['reading score'] = sc.fit_transform(dataSc[['reading score']])\n",
    "dataSc['writing score'] = sc.fit_transform(dataSc[['writing score']])\n",
    "dataSc_X = dataSc.drop(columns='lunch')\n",
    "dataSc_Y = dataSc['lunch']\n",
    "dataSc_X_train, dataSc_X_test, \\\n",
    "dataSc_Y_train, dataSc_Y_test = train_test_split(dataSc_X, dataSc_Y, test_size=TEST_SIZE, random_state=0)"
   ]
  },
  {
   "cell_type": "markdown",
   "metadata": {},
   "source": [
    "## 3.1. Обучение с произвольным K"
   ]
  },
  {
   "cell_type": "code",
   "execution_count": 367,
   "metadata": {},
   "outputs": [],
   "source": [
    "targetSc_test = get_predict(dataSc_X_train, dataSc_Y_train, dataSc_X_test)"
   ]
  },
  {
   "cell_type": "code",
   "execution_count": 368,
   "metadata": {},
   "outputs": [
    {
     "name": "stdout",
     "output_type": "stream",
     "text": [
      "Сбалансированная оценка: 0.5407550407550408\n",
      "Матрица ошибок:\n",
      " [[13 24]\n",
      " [17 46]]\n"
     ]
    },
    {
     "data": {
      "text/plain": [
       "0.5407550407550408"
      ]
     },
     "execution_count": 368,
     "metadata": {},
     "output_type": "execute_result"
    }
   ],
   "source": [
    "print_metrics(dataSc_Y_test, targetSc_test)"
   ]
  },
  {
   "cell_type": "markdown",
   "metadata": {},
   "source": [
    "## 3.2. Поиск оптимального K"
   ]
  },
  {
   "cell_type": "code",
   "execution_count": 369,
   "metadata": {
    "scrolled": false
   },
   "outputs": [
    {
     "data": {
      "image/png": "[encoded data removed]",
      "text/plain": [
       "<Figure size 504x720 with 2 Axes>"
      ]
     },
     "metadata": {},
     "output_type": "display_data"
    }
   ],
   "source": [
    "k_for_Sc = search_K(dataSc_X_train, dataSc_Y_train, dataSc_X_test, dataSc_Y_test)"
   ]
  },
  {
   "cell_type": "code",
   "execution_count": 370,
   "metadata": {},
   "outputs": [
    {
     "name": "stdout",
     "output_type": "stream",
     "text": [
      "5\n"
     ]
    }
   ],
   "source": [
    "print(k_for_Sc)"
   ]
  },
  {
   "cell_type": "code",
   "execution_count": 371,
   "metadata": {
    "scrolled": true
   },
   "outputs": [
    {
     "name": "stdout",
     "output_type": "stream",
     "text": [
      "ДЛЯ K = 5\n",
      "Сбалансированная оценка: 0.5407550407550408\n",
      "Матрица ошибок:\n",
      " [[13 24]\n",
      " [17 46]]\n",
      "\n",
      "ДЛЯ K = 4\n",
      "Сбалансированная оценка: 0.5321750321750323\n",
      "Матрица ошибок:\n",
      " [[20 17]\n",
      " [30 33]]\n",
      "\n",
      "ДЛЯ K = 6\n",
      "Сбалансированная оценка: 0.536036036036036\n",
      "Матрица ошибок:\n",
      " [[15 22]\n",
      " [21 42]]\n"
     ]
    }
   ],
   "source": [
    "res_for_Sc = print_metrics_for_neighbors(dataSc_X_train, dataSc_Y_train, \\\n",
    "                            dataSc_X_test, dataSc_Y_test, k_for_Sc)"
   ]
  },
  {
   "cell_type": "code",
   "execution_count": 372,
   "metadata": {},
   "outputs": [
    {
     "name": "stdout",
     "output_type": "stream",
     "text": [
      "Сбалансированная оценка: 0.6841405692796473\n",
      "Матрица ошибок:\n",
      " [[157 161]\n",
      " [ 73 509]]\n"
     ]
    }
   ],
   "source": [
    "resTrain_for_Sc = print_metrics(dataSc_Y_train, get_predict(dataSc_X_train, dataSc_Y_train, \\\n",
    "                                                                        dataSc_X_train, k_for_Sc))"
   ]
  },
  {
   "cell_type": "markdown",
   "metadata": {},
   "source": [
    "## 3.3 Балансирование обучающего набора"
   ]
  },
  {
   "cell_type": "markdown",
   "metadata": {},
   "source": [
    "### 3.3.1. Undersampling"
   ]
  },
  {
   "cell_type": "code",
   "execution_count": 373,
   "metadata": {},
   "outputs": [],
   "source": [
    "dataScUnder_X_train, dataScUnder_Y_train = get_balance(dataSc_X_train, dataSc_Y_train, 'under', 1)"
   ]
  },
  {
   "cell_type": "code",
   "execution_count": 374,
   "metadata": {},
   "outputs": [
    {
     "name": "stdout",
     "output_type": "stream",
     "text": [
      "Метка \t Количество \t Процент встречаемости\n",
      "0 \t 318 \t \t 50.0%\n",
      "1 \t 318 \t \t 50.0%\n"
     ]
    }
   ],
   "source": [
    "print_class_proportions(dataScUnder_Y_train)"
   ]
  },
  {
   "cell_type": "code",
   "execution_count": 375,
   "metadata": {},
   "outputs": [
    {
     "name": "stdout",
     "output_type": "stream",
     "text": [
      "Результат для произвольного K:\n",
      "Обычная оценка: 0.55\n",
      "Матрица ошибок:\n",
      " [[21 16]\n",
      " [29 34]]\n"
     ]
    },
    {
     "data": {
      "text/plain": [
       "0.55"
      ]
     },
     "execution_count": 375,
     "metadata": {},
     "output_type": "execute_result"
    }
   ],
   "source": [
    "print('Результат для произвольного K:')\n",
    "print_metrics(dataSc_Y_test, get_predict(dataScUnder_X_train, dataScUnder_Y_train, \\\n",
    "                                              dataSc_X_test), criteria='accuracy')"
   ]
  },
  {
   "cell_type": "code",
   "execution_count": 376,
   "metadata": {},
   "outputs": [
    {
     "data": {
      "image/png": "[encoded data removed]",
      "text/plain": [
       "<Figure size 504x720 with 2 Axes>"
      ]
     },
     "metadata": {},
     "output_type": "display_data"
    }
   ],
   "source": [
    "k_for_ScUnder = search_K(dataScUnder_X_train, dataScUnder_Y_train, dataSc_X_test, \\\n",
    "                              dataSc_Y_test, criteria='accuracy')"
   ]
  },
  {
   "cell_type": "code",
   "execution_count": 377,
   "metadata": {},
   "outputs": [
    {
     "name": "stdout",
     "output_type": "stream",
     "text": [
      "43\n"
     ]
    }
   ],
   "source": [
    "print(k_for_ScUnder)"
   ]
  },
  {
   "cell_type": "code",
   "execution_count": 378,
   "metadata": {
    "scrolled": true
   },
   "outputs": [
    {
     "name": "stdout",
     "output_type": "stream",
     "text": [
      "ДЛЯ K = 43\n",
      "Обычная оценка: 0.7\n",
      "Матрица ошибок:\n",
      " [[22 15]\n",
      " [15 48]]\n",
      "\n",
      "ДЛЯ K = 42\n",
      "Обычная оценка: 0.63\n",
      "Матрица ошибок:\n",
      " [[22 15]\n",
      " [22 41]]\n",
      "\n",
      "ДЛЯ K = 44\n",
      "Обычная оценка: 0.65\n",
      "Матрица ошибок:\n",
      " [[22 15]\n",
      " [20 43]]\n"
     ]
    }
   ],
   "source": [
    "res_for_ScUnder = print_metrics_for_neighbors(dataScUnder_X_train, dataScUnder_Y_train, \\\n",
    "                            dataSc_X_test, dataSc_Y_test, k_for_ScUnder, criteria='accuracy')"
   ]
  },
  {
   "cell_type": "code",
   "execution_count": 379,
   "metadata": {},
   "outputs": [
    {
     "name": "stdout",
     "output_type": "stream",
     "text": [
      "Сбалансированная оценка: 0.6194968553459119\n",
      "Матрица ошибок:\n",
      " [[175 143]\n",
      " [ 99 219]]\n"
     ]
    }
   ],
   "source": [
    "resTrain_for_ScUnder = print_metrics(dataScUnder_Y_train, \\\n",
    "                                          get_predict(dataScUnder_X_train, dataScUnder_Y_train, \\\n",
    "                                                      dataScUnder_X_train, k_for_ScUnder))"
   ]
  },
  {
   "cell_type": "markdown",
   "metadata": {},
   "source": [
    "### 3.3.2. Oversampling"
   ]
  },
  {
   "cell_type": "code",
   "execution_count": 380,
   "metadata": {},
   "outputs": [],
   "source": [
    "dataScOver_X_train, dataScOver_Y_train = get_balance(dataSc_X_train, dataSc_Y_train, 'over', 1)"
   ]
  },
  {
   "cell_type": "code",
   "execution_count": 381,
   "metadata": {},
   "outputs": [
    {
     "name": "stdout",
     "output_type": "stream",
     "text": [
      "Метка \t Количество \t Процент встречаемости\n",
      "0 \t 582 \t \t 50.0%\n",
      "1 \t 582 \t \t 50.0%\n"
     ]
    }
   ],
   "source": [
    "print_class_proportions(dataScOver_Y_train)"
   ]
  },
  {
   "cell_type": "code",
   "execution_count": 382,
   "metadata": {},
   "outputs": [
    {
     "name": "stdout",
     "output_type": "stream",
     "text": [
      "Результат для произвольного K:\n",
      "Обычная оценка: 0.56\n",
      "Матрица ошибок:\n",
      " [[19 18]\n",
      " [26 37]]\n"
     ]
    },
    {
     "data": {
      "text/plain": [
       "0.56"
      ]
     },
     "execution_count": 382,
     "metadata": {},
     "output_type": "execute_result"
    }
   ],
   "source": [
    "print('Результат для произвольного K:')\n",
    "print_metrics(dataSc_Y_test, get_predict(dataScOver_X_train, dataScOver_Y_train, \\\n",
    "                                              dataSc_X_test), criteria='accuracy')"
   ]
  },
  {
   "cell_type": "code",
   "execution_count": 383,
   "metadata": {},
   "outputs": [
    {
     "data": {
      "image/png": "[encoded data removed]",
      "text/plain": [
       "<Figure size 504x720 with 2 Axes>"
      ]
     },
     "metadata": {},
     "output_type": "display_data"
    }
   ],
   "source": [
    "k_for_ScOver = search_K(dataScOver_X_train, dataScOver_Y_train, dataSc_X_test,\\\n",
    "                             dataSc_Y_test, criteria='accuracy')"
   ]
  },
  {
   "cell_type": "code",
   "execution_count": 384,
   "metadata": {},
   "outputs": [
    {
     "name": "stdout",
     "output_type": "stream",
     "text": [
      "69\n"
     ]
    }
   ],
   "source": [
    "print(k_for_ScOver)"
   ]
  },
  {
   "cell_type": "code",
   "execution_count": 385,
   "metadata": {
    "scrolled": true
   },
   "outputs": [
    {
     "name": "stdout",
     "output_type": "stream",
     "text": [
      "ДЛЯ K = 69\n",
      "Обычная оценка: 0.7\n",
      "Матрица ошибок:\n",
      " [[22 15]\n",
      " [15 48]]\n",
      "\n",
      "ДЛЯ K = 68\n",
      "Обычная оценка: 0.67\n",
      "Матрица ошибок:\n",
      " [[22 15]\n",
      " [18 45]]\n",
      "\n",
      "ДЛЯ K = 70\n",
      "Обычная оценка: 0.69\n",
      "Матрица ошибок:\n",
      " [[22 15]\n",
      " [16 47]]\n"
     ]
    }
   ],
   "source": [
    "res_for_ScOver = print_metrics_for_neighbors(dataScOver_X_train, dataScOver_Y_train,\\\n",
    "                            dataSc_X_test, dataSc_Y_test, k_for_ScOver, criteria='accuracy')"
   ]
  },
  {
   "cell_type": "code",
   "execution_count": 386,
   "metadata": {},
   "outputs": [
    {
     "name": "stdout",
     "output_type": "stream",
     "text": [
      "Сбалансированная оценка: 0.6048109965635738\n",
      "Матрица ошибок:\n",
      " [[351 231]\n",
      " [229 353]]\n"
     ]
    }
   ],
   "source": [
    "resTrain_for_ScOver = print_metrics(dataScOver_Y_train, \\\n",
    "                                          get_predict(dataScOver_X_train, dataScOver_Y_train, \\\n",
    "                                                      dataScOver_X_train, k_for_ScOver))"
   ]
  },
  {
   "cell_type": "markdown",
   "metadata": {},
   "source": [
    "# 4. Обучение модели только с \"3 marks\""
   ]
  },
  {
   "cell_type": "markdown",
   "metadata": {},
   "source": [
    "## 4.0. Подготовка"
   ]
  },
  {
   "cell_type": "code",
   "execution_count": 387,
   "metadata": {},
   "outputs": [],
   "source": [
    "dataOnlySc_X = dataSc[['math score', 'reading score', 'writing score']]\n",
    "dataOnlySc_Y = dataSc['lunch']\n",
    "dataOnlySc_X_train, dataOnlySc_X_test, \\\n",
    "dataOnlySc_Y_train, dataOnlySc_Y_test = train_test_split(dataOnlySc_X, dataOnlySc_Y, test_size=TEST_SIZE, random_state=0)"
   ]
  },
  {
   "cell_type": "markdown",
   "metadata": {},
   "source": [
    "## 4.1. Обучение с произвольным K"
   ]
  },
  {
   "cell_type": "code",
   "execution_count": 388,
   "metadata": {},
   "outputs": [],
   "source": [
    "targetOnlySc_test = get_predict(dataOnlySc_X_train, dataOnlySc_Y_train, dataOnlySc_X_test)"
   ]
  },
  {
   "cell_type": "code",
   "execution_count": 389,
   "metadata": {},
   "outputs": [
    {
     "name": "stdout",
     "output_type": "stream",
     "text": [
      "Сбалансированная оценка: 0.5622050622050623\n",
      "Матрица ошибок:\n",
      " [[14 23]\n",
      " [16 47]]\n"
     ]
    },
    {
     "data": {
      "text/plain": [
       "0.5622050622050623"
      ]
     },
     "execution_count": 389,
     "metadata": {},
     "output_type": "execute_result"
    }
   ],
   "source": [
    "print_metrics(dataOnlySc_Y_test, targetOnlySc_test)"
   ]
  },
  {
   "cell_type": "markdown",
   "metadata": {},
   "source": [
    "## 4.2. Поиск оптимального K"
   ]
  },
  {
   "cell_type": "code",
   "execution_count": 390,
   "metadata": {
    "scrolled": false
   },
   "outputs": [
    {
     "data": {
      "image/png": "[encoded data removed]",
      "text/plain": [
       "<Figure size 504x720 with 2 Axes>"
      ]
     },
     "metadata": {},
     "output_type": "display_data"
    }
   ],
   "source": [
    "k_for_OnlySc = search_K(dataOnlySc_X_train, dataOnlySc_Y_train, dataOnlySc_X_test, dataOnlySc_Y_test)"
   ]
  },
  {
   "cell_type": "code",
   "execution_count": 391,
   "metadata": {},
   "outputs": [
    {
     "name": "stdout",
     "output_type": "stream",
     "text": [
      "19\n"
     ]
    }
   ],
   "source": [
    "print(k_for_OnlySc)"
   ]
  },
  {
   "cell_type": "code",
   "execution_count": 392,
   "metadata": {
    "scrolled": true
   },
   "outputs": [
    {
     "name": "stdout",
     "output_type": "stream",
     "text": [
      "ДЛЯ K = 19\n",
      "Сбалансированная оценка: 0.6177606177606177\n",
      "Матрица ошибок:\n",
      " [[14 23]\n",
      " [ 9 54]]\n",
      "\n",
      "ДЛЯ K = 18\n",
      "Сбалансированная оценка: 0.5915915915915916\n",
      "Матрица ошибок:\n",
      " [[15 22]\n",
      " [14 49]]\n",
      "\n",
      "ДЛЯ K = 20\n",
      "Сбалансированная оценка: 0.6074646074646075\n",
      "Матрица ошибок:\n",
      " [[15 22]\n",
      " [12 51]]\n"
     ]
    }
   ],
   "source": [
    "res_for_OnlySc = print_metrics_for_neighbors(dataOnlySc_X_train, dataOnlySc_Y_train, \\\n",
    "                            dataOnlySc_X_test, dataOnlySc_Y_test, k_for_OnlySc)"
   ]
  },
  {
   "cell_type": "code",
   "execution_count": 393,
   "metadata": {},
   "outputs": [
    {
     "name": "stdout",
     "output_type": "stream",
     "text": [
      "Сбалансированная оценка: 0.6411366141477015\n",
      "Матрица ошибок:\n",
      " [[122 196]\n",
      " [ 59 523]]\n"
     ]
    }
   ],
   "source": [
    "resTrain_for_OnlySc = print_metrics(dataOnlySc_Y_train, get_predict(dataOnlySc_X_train, dataOnlySc_Y_train, \\\n",
    "                                                                        dataOnlySc_X_train, k_for_OnlySc))"
   ]
  },
  {
   "cell_type": "markdown",
   "metadata": {},
   "source": [
    "## 4.3 Балансирование обучающего набора"
   ]
  },
  {
   "cell_type": "markdown",
   "metadata": {},
   "source": [
    "### 4.3.1. Undersampling"
   ]
  },
  {
   "cell_type": "code",
   "execution_count": 394,
   "metadata": {},
   "outputs": [],
   "source": [
    "dataOnlyScUnder_X_train, dataOnlyScUnder_Y_train = get_balance(dataOnlySc_X_train, dataOnlySc_Y_train, 'under', 1)"
   ]
  },
  {
   "cell_type": "code",
   "execution_count": 395,
   "metadata": {},
   "outputs": [
    {
     "name": "stdout",
     "output_type": "stream",
     "text": [
      "Метка \t Количество \t Процент встречаемости\n",
      "0 \t 318 \t \t 50.0%\n",
      "1 \t 318 \t \t 50.0%\n"
     ]
    }
   ],
   "source": [
    "print_class_proportions(dataOnlyScUnder_Y_train)"
   ]
  },
  {
   "cell_type": "code",
   "execution_count": 396,
   "metadata": {},
   "outputs": [
    {
     "name": "stdout",
     "output_type": "stream",
     "text": [
      "Результат для произвольного K:\n",
      "Обычная оценка: 0.59\n",
      "Матрица ошибок:\n",
      " [[20 17]\n",
      " [24 39]]\n"
     ]
    },
    {
     "data": {
      "text/plain": [
       "0.59"
      ]
     },
     "execution_count": 396,
     "metadata": {},
     "output_type": "execute_result"
    }
   ],
   "source": [
    "print('Результат для произвольного K:')\n",
    "print_metrics(dataOnlySc_Y_test, get_predict(dataOnlyScUnder_X_train, dataOnlyScUnder_Y_train, \\\n",
    "                                              dataOnlySc_X_test), criteria='accuracy')"
   ]
  },
  {
   "cell_type": "code",
   "execution_count": 397,
   "metadata": {},
   "outputs": [
    {
     "data": {
      "image/png": "[encoded data removed]",
      "text/plain": [
       "<Figure size 504x720 with 2 Axes>"
      ]
     },
     "metadata": {},
     "output_type": "display_data"
    }
   ],
   "source": [
    "k_for_OnlyScUnder = search_K(dataOnlyScUnder_X_train, dataOnlyScUnder_Y_train, dataOnlySc_X_test, \\\n",
    "                              dataOnlySc_Y_test, criteria='accuracy')"
   ]
  },
  {
   "cell_type": "code",
   "execution_count": 398,
   "metadata": {},
   "outputs": [
    {
     "name": "stdout",
     "output_type": "stream",
     "text": [
      "129\n"
     ]
    }
   ],
   "source": [
    "print(k_for_OnlyScUnder)"
   ]
  },
  {
   "cell_type": "code",
   "execution_count": 399,
   "metadata": {
    "scrolled": true
   },
   "outputs": [
    {
     "name": "stdout",
     "output_type": "stream",
     "text": [
      "ДЛЯ K = 129\n",
      "Обычная оценка: 0.72\n",
      "Матрица ошибок:\n",
      " [[24 13]\n",
      " [15 48]]\n",
      "\n",
      "ДЛЯ K = 128\n",
      "Обычная оценка: 0.7\n",
      "Матрица ошибок:\n",
      " [[24 13]\n",
      " [17 46]]\n",
      "\n",
      "ДЛЯ K = 130\n",
      "Обычная оценка: 0.72\n",
      "Матрица ошибок:\n",
      " [[24 13]\n",
      " [15 48]]\n"
     ]
    }
   ],
   "source": [
    "res_for_OnlyScUnder = print_metrics_for_neighbors(dataOnlyScUnder_X_train, dataOnlyScUnder_Y_train, \\\n",
    "                            dataOnlySc_X_test, dataOnlySc_Y_test, k_for_OnlyScUnder, criteria='accuracy')"
   ]
  },
  {
   "cell_type": "code",
   "execution_count": 400,
   "metadata": {},
   "outputs": [
    {
     "name": "stdout",
     "output_type": "stream",
     "text": [
      "Сбалансированная оценка: 0.6336477987421383\n",
      "Матрица ошибок:\n",
      " [[173 145]\n",
      " [ 88 230]]\n"
     ]
    }
   ],
   "source": [
    "resTrain_for_OnlyScUnder = print_metrics(dataOnlyScUnder_Y_train, \\\n",
    "                                          get_predict(dataOnlyScUnder_X_train, dataOnlyScUnder_Y_train, \\\n",
    "                                                      dataOnlyScUnder_X_train, k_for_OnlyScUnder))"
   ]
  },
  {
   "cell_type": "markdown",
   "metadata": {},
   "source": [
    "### 4.3.2. Oversampling"
   ]
  },
  {
   "cell_type": "code",
   "execution_count": 401,
   "metadata": {},
   "outputs": [],
   "source": [
    "dataOnlyScOver_X_train, dataOnlyScOver_Y_train = get_balance(dataOnlySc_X_train, dataOnlySc_Y_train, 'over', 1)"
   ]
  },
  {
   "cell_type": "code",
   "execution_count": 402,
   "metadata": {},
   "outputs": [
    {
     "name": "stdout",
     "output_type": "stream",
     "text": [
      "Метка \t Количество \t Процент встречаемости\n",
      "0 \t 582 \t \t 50.0%\n",
      "1 \t 582 \t \t 50.0%\n"
     ]
    }
   ],
   "source": [
    "print_class_proportions(dataOnlyScOver_Y_train)"
   ]
  },
  {
   "cell_type": "code",
   "execution_count": 403,
   "metadata": {},
   "outputs": [
    {
     "name": "stdout",
     "output_type": "stream",
     "text": [
      "Результат для произвольного K:\n",
      "Обычная оценка: 0.57\n",
      "Матрица ошибок:\n",
      " [[20 17]\n",
      " [26 37]]\n"
     ]
    },
    {
     "data": {
      "text/plain": [
       "0.57"
      ]
     },
     "execution_count": 403,
     "metadata": {},
     "output_type": "execute_result"
    }
   ],
   "source": [
    "print('Результат для произвольного K:')\n",
    "print_metrics(dataOnlySc_Y_test, get_predict(dataOnlyScOver_X_train, dataOnlyScOver_Y_train, \\\n",
    "                                              dataOnlySc_X_test), criteria='accuracy')"
   ]
  },
  {
   "cell_type": "code",
   "execution_count": 404,
   "metadata": {},
   "outputs": [
    {
     "data": {
      "image/png": "[encoded data removed]",
      "text/plain": [
       "<Figure size 504x720 with 2 Axes>"
      ]
     },
     "metadata": {},
     "output_type": "display_data"
    }
   ],
   "source": [
    "k_for_OnlyScOver = search_K(dataOnlyScOver_X_train, dataOnlyScOver_Y_train, dataOnlySc_X_test,\\\n",
    "                             dataOnlySc_Y_test, criteria='accuracy')"
   ]
  },
  {
   "cell_type": "code",
   "execution_count": 405,
   "metadata": {},
   "outputs": [
    {
     "name": "stdout",
     "output_type": "stream",
     "text": [
      "59\n"
     ]
    }
   ],
   "source": [
    "print(k_for_OnlyScOver)"
   ]
  },
  {
   "cell_type": "code",
   "execution_count": 406,
   "metadata": {
    "scrolled": false
   },
   "outputs": [
    {
     "name": "stdout",
     "output_type": "stream",
     "text": [
      "ДЛЯ K = 59\n",
      "Обычная оценка: 0.69\n",
      "Матрица ошибок:\n",
      " [[24 13]\n",
      " [18 45]]\n",
      "\n",
      "ДЛЯ K = 58\n",
      "Обычная оценка: 0.68\n",
      "Матрица ошибок:\n",
      " [[25 12]\n",
      " [20 43]]\n",
      "\n",
      "ДЛЯ K = 60\n",
      "Обычная оценка: 0.67\n",
      "Матрица ошибок:\n",
      " [[24 13]\n",
      " [20 43]]\n"
     ]
    }
   ],
   "source": [
    "res_for_OnlyScOver = print_metrics_for_neighbors(dataOnlyScOver_X_train, dataOnlyScOver_Y_train,\\\n",
    "                            dataOnlySc_X_test, dataOnlySc_Y_test, k_for_OnlyScOver, criteria='accuracy')"
   ]
  },
  {
   "cell_type": "code",
   "execution_count": 407,
   "metadata": {},
   "outputs": [
    {
     "name": "stdout",
     "output_type": "stream",
     "text": [
      "Сбалансированная оценка: 0.6589347079037801\n",
      "Матрица ошибок:\n",
      " [[359 223]\n",
      " [174 408]]\n"
     ]
    }
   ],
   "source": [
    "resTrain_for_OnlyScOver = print_metrics(dataOnlyScOver_Y_train, \\\n",
    "                                          get_predict(dataOnlyScOver_X_train, dataOnlyScOver_Y_train, \\\n",
    "                                                      dataOnlyScOver_X_train, k_for_OnlyScOver))"
   ]
  },
  {
   "cell_type": "markdown",
   "metadata": {},
   "source": [
    "# 5. Итоги"
   ]
  },
  {
   "cell_type": "code",
   "execution_count": 408,
   "metadata": {},
   "outputs": [],
   "source": [
    "lst_label = ['Average', 'OnlyAverage', 'Scores', 'OnlyScores']\n",
    "dc_optimal_k = {\n",
    "                  'Оптимальное k': [k_for_Ave, k_for_OnlyAve, k_for_Sc, k_for_OnlySc],\n",
    "                  'Оптимальное k under': [k_for_AveUnder, k_for_OnlyAveUnder, k_for_ScUnder, k_for_OnlyScUnder],\n",
    "                  'Оптимальное k over': [k_for_AveOver, k_for_OnlyAveOver, k_for_ScOver, k_for_OnlyScOver]\n",
    "                }"
   ]
  },
  {
   "cell_type": "markdown",
   "metadata": {},
   "source": [
    "## 5.1. K для тестового набора"
   ]
  },
  {
   "cell_type": "code",
   "execution_count": 409,
   "metadata": {
    "scrolled": false
   },
   "outputs": [
    {
     "data": {
      "text/html": [
       "<div>\n",
       "<style scoped>\n",
       "    .dataframe tbody tr th:only-of-type {\n",
       "        vertical-align: middle;\n",
       "    }\n",
       "\n",
       "    .dataframe tbody tr th {\n",
       "        vertical-align: top;\n",
       "    }\n",
       "\n",
       "    .dataframe thead th {\n",
       "        text-align: right;\n",
       "    }\n",
       "</style>\n",
       "<table border=\"1\" class=\"dataframe\">\n",
       "  <thead>\n",
       "    <tr style=\"text-align: right;\">\n",
       "      <th></th>\n",
       "      <th>Оптимальное k</th>\n",
       "      <th>Оптимальное k under</th>\n",
       "      <th>Оптимальное k over</th>\n",
       "    </tr>\n",
       "  </thead>\n",
       "  <tbody>\n",
       "    <tr>\n",
       "      <th>Average</th>\n",
       "      <td>6</td>\n",
       "      <td>43</td>\n",
       "      <td>73</td>\n",
       "    </tr>\n",
       "    <tr>\n",
       "      <th>OnlyAverage</th>\n",
       "      <td>22</td>\n",
       "      <td>78</td>\n",
       "      <td>149</td>\n",
       "    </tr>\n",
       "    <tr>\n",
       "      <th>Scores</th>\n",
       "      <td>5</td>\n",
       "      <td>43</td>\n",
       "      <td>69</td>\n",
       "    </tr>\n",
       "    <tr>\n",
       "      <th>OnlyScores</th>\n",
       "      <td>19</td>\n",
       "      <td>129</td>\n",
       "      <td>59</td>\n",
       "    </tr>\n",
       "  </tbody>\n",
       "</table>\n",
       "</div>"
      ],
      "text/plain": [
       "             Оптимальное k  Оптимальное k under  Оптимальное k over\n",
       "Average                  6                   43                  73\n",
       "OnlyAverage             22                   78                 149\n",
       "Scores                   5                   43                  69\n",
       "OnlyScores              19                  129                  59"
      ]
     },
     "execution_count": 409,
     "metadata": {},
     "output_type": "execute_result"
    }
   ],
   "source": [
    "pd.DataFrame(dc_optimal_k, index=lst_label)"
   ]
  },
  {
   "cell_type": "markdown",
   "metadata": {},
   "source": [
    "## 5.2. Score для тестового набора"
   ]
  },
  {
   "cell_type": "code",
   "execution_count": 410,
   "metadata": {},
   "outputs": [
    {
     "data": {
      "text/html": [
       "<div>\n",
       "<style scoped>\n",
       "    .dataframe tbody tr th:only-of-type {\n",
       "        vertical-align: middle;\n",
       "    }\n",
       "\n",
       "    .dataframe tbody tr th {\n",
       "        vertical-align: top;\n",
       "    }\n",
       "\n",
       "    .dataframe thead th {\n",
       "        text-align: right;\n",
       "    }\n",
       "</style>\n",
       "<table border=\"1\" class=\"dataframe\">\n",
       "  <thead>\n",
       "    <tr style=\"text-align: right;\">\n",
       "      <th></th>\n",
       "      <th>Максимальное score</th>\n",
       "      <th>Максимальное score under</th>\n",
       "      <th>Максимальное score over</th>\n",
       "    </tr>\n",
       "  </thead>\n",
       "  <tbody>\n",
       "    <tr>\n",
       "      <th>Average</th>\n",
       "      <td>0.538396</td>\n",
       "      <td>0.64</td>\n",
       "      <td>0.70</td>\n",
       "    </tr>\n",
       "    <tr>\n",
       "      <th>OnlyAverage</th>\n",
       "      <td>0.615401</td>\n",
       "      <td>0.69</td>\n",
       "      <td>0.66</td>\n",
       "    </tr>\n",
       "    <tr>\n",
       "      <th>Scores</th>\n",
       "      <td>0.540755</td>\n",
       "      <td>0.70</td>\n",
       "      <td>0.70</td>\n",
       "    </tr>\n",
       "    <tr>\n",
       "      <th>OnlyScores</th>\n",
       "      <td>0.617761</td>\n",
       "      <td>0.72</td>\n",
       "      <td>0.69</td>\n",
       "    </tr>\n",
       "  </tbody>\n",
       "</table>\n",
       "</div>"
      ],
      "text/plain": [
       "             Максимальное score  Максимальное score under  \\\n",
       "Average                0.538396                      0.64   \n",
       "OnlyAverage            0.615401                      0.69   \n",
       "Scores                 0.540755                      0.70   \n",
       "OnlyScores             0.617761                      0.72   \n",
       "\n",
       "             Максимальное score over  \n",
       "Average                         0.70  \n",
       "OnlyAverage                     0.66  \n",
       "Scores                          0.70  \n",
       "OnlyScores                      0.69  "
      ]
     },
     "execution_count": 410,
     "metadata": {},
     "output_type": "execute_result"
    }
   ],
   "source": [
    "dc_max_score_test = {\n",
    "                  'Максимальное score': [res_for_Ave, res_for_OnlyAve, res_for_Sc, res_for_OnlySc],\n",
    "                  'Максимальное score under': [res_for_AveUnder, res_for_OnlyAveUnder, res_for_ScUnder, res_for_OnlyScUnder],\n",
    "                  'Максимальное score over': [res_for_AveOver, res_for_OnlyAveOver, res_for_ScOver, res_for_OnlyScOver]\n",
    "                }\n",
    "pd.DataFrame(dc_max_score_test, index=lst_label)## 5.1. K для тестового набора"
   ]
  },
  {
   "cell_type": "markdown",
   "metadata": {},
   "source": [
    "## 5.3. Score для обучающего набора"
   ]
  },
  {
   "cell_type": "code",
   "execution_count": 411,
   "metadata": {
    "scrolled": true
   },
   "outputs": [
    {
     "data": {
      "text/html": [
       "<div>\n",
       "<style scoped>\n",
       "    .dataframe tbody tr th:only-of-type {\n",
       "        vertical-align: middle;\n",
       "    }\n",
       "\n",
       "    .dataframe tbody tr th {\n",
       "        vertical-align: top;\n",
       "    }\n",
       "\n",
       "    .dataframe thead th {\n",
       "        text-align: right;\n",
       "    }\n",
       "</style>\n",
       "<table border=\"1\" class=\"dataframe\">\n",
       "  <thead>\n",
       "    <tr style=\"text-align: right;\">\n",
       "      <th></th>\n",
       "      <th>Максимальное score</th>\n",
       "      <th>Максимальное score under</th>\n",
       "      <th>Максимальное score over</th>\n",
       "    </tr>\n",
       "  </thead>\n",
       "  <tbody>\n",
       "    <tr>\n",
       "      <th>Average</th>\n",
       "      <td>0.695503</td>\n",
       "      <td>0.611635</td>\n",
       "      <td>0.615979</td>\n",
       "    </tr>\n",
       "    <tr>\n",
       "      <th>OnlyAverage</th>\n",
       "      <td>0.606367</td>\n",
       "      <td>0.621069</td>\n",
       "      <td>0.623711</td>\n",
       "    </tr>\n",
       "    <tr>\n",
       "      <th>Scores</th>\n",
       "      <td>0.684141</td>\n",
       "      <td>0.619497</td>\n",
       "      <td>0.604811</td>\n",
       "    </tr>\n",
       "    <tr>\n",
       "      <th>OnlyScores</th>\n",
       "      <td>0.641137</td>\n",
       "      <td>0.633648</td>\n",
       "      <td>0.658935</td>\n",
       "    </tr>\n",
       "  </tbody>\n",
       "</table>\n",
       "</div>"
      ],
      "text/plain": [
       "             Максимальное score  Максимальное score under  \\\n",
       "Average                0.695503                  0.611635   \n",
       "OnlyAverage            0.606367                  0.621069   \n",
       "Scores                 0.684141                  0.619497   \n",
       "OnlyScores             0.641137                  0.633648   \n",
       "\n",
       "             Максимальное score over  \n",
       "Average                     0.615979  \n",
       "OnlyAverage                 0.623711  \n",
       "Scores                      0.604811  \n",
       "OnlyScores                  0.658935  "
      ]
     },
     "execution_count": 411,
     "metadata": {},
     "output_type": "execute_result"
    }
   ],
   "source": [
    "dc_max_score_train = {\n",
    "                  'Максимальное score': [resTrain_for_Ave, resTrain_for_OnlyAve, resTrain_for_Sc, resTrain_for_OnlySc],\n",
    "                  'Максимальное score under': [resTrain_for_AveUnder, resTrain_for_OnlyAveUnder, resTrain_for_ScUnder, resTrain_for_OnlyScUnder],\n",
    "                  'Максимальное score over': [resTrain_for_AveOver, resTrain_for_OnlyAveOver, resTrain_for_ScOver, resTrain_for_OnlyScOver]\n",
    "                }\n",
    "pd.DataFrame(dc_max_score_train, index=lst_label)"
   ]
  },
  {
   "cell_type": "markdown",
   "metadata": {},
   "source": [
    "# 6. Кросс-валидация для модели с Average и категориями"
   ]
  },
  {
   "cell_type": "code",
   "execution_count": 412,
   "metadata": {},
   "outputs": [],
   "source": [
    "SPLITS_DEFAULT = 10"
   ]
  },
  {
   "cell_type": "markdown",
   "metadata": {},
   "source": [
    "## 6.1. GridSearch"
   ]
  },
  {
   "cell_type": "code",
   "execution_count": 413,
   "metadata": {},
   "outputs": [],
   "source": [
    "# перечисляем основные параметры для GridSearchCV\n",
    "estimator_dis = KNeighborsClassifier()\n",
    "grid_dis = {\"n_neighbors\":np.arange(1,100)}\n",
    "scoring_dis = 'balanced_accuracy'"
   ]
  },
  {
   "cell_type": "markdown",
   "metadata": {},
   "source": [
    "### 6.1.1. K-fold cross validation"
   ]
  },
  {
   "cell_type": "code",
   "execution_count": 414,
   "metadata": {},
   "outputs": [],
   "source": [
    "def print_gridResults(grid):\n",
    "    print(f'Подобранный параметр: {grid.best_params_}')\n",
    "    print(f'Оценка при подобранном параметре: {grid.best_score_}')\n",
    "    return [grid.best_params_[\"n_neighbors\"], grid.best_score_]"
   ]
  },
  {
   "cell_type": "code",
   "execution_count": 415,
   "metadata": {},
   "outputs": [
    {
     "name": "stdout",
     "output_type": "stream",
     "text": [
      "Подобранный параметр: {'n_neighbors': 4}\n",
      "Оценка при подобранном параметре: 0.5329555497162572\n"
     ]
    }
   ],
   "source": [
    "cv_KFold_dis = StratifiedKFold(n_splits=SPLITS_DEFAULT)\n",
    "KFold_dis = GridSearchCV(estimator_dis, grid_dis, scoring=scoring_dis, cv=cv_KFold_dis)\n",
    "KFold_dis.fit(dataAve_X_train, dataAve_Y_train)\n",
    "grid_for_Ave = print_gridResults(KFold_dis)"
   ]
  },
  {
   "cell_type": "code",
   "execution_count": 416,
   "metadata": {},
   "outputs": [
    {
     "name": "stdout",
     "output_type": "stream",
     "text": [
      "Сбалансированная оценка: 0.5186615186615187\n",
      "Матрица ошибок:\n",
      " [[19 18]\n",
      " [30 33]]\n"
     ]
    }
   ],
   "source": [
    "t_grid_for_Ave = print_metrics(dataAve_Y_test, get_predict(dataAve_X_train, dataAve_Y_train, dataAve_X_test, grid_for_Ave[0]))"
   ]
  },
  {
   "cell_type": "markdown",
   "metadata": {},
   "source": [
    "### 6.1.2. Repeated K-fold cross validation"
   ]
  },
  {
   "cell_type": "code",
   "execution_count": 417,
   "metadata": {},
   "outputs": [
    {
     "name": "stdout",
     "output_type": "stream",
     "text": [
      "Подобранный параметр: {'n_neighbors': 4}\n",
      "Оценка при подобранном параметре: 0.532250420075979\n"
     ]
    }
   ],
   "source": [
    "cv_RepeatedKFold_dis = RepeatedStratifiedKFold(n_splits=SPLITS_DEFAULT, n_repeats=2, random_state=0)\n",
    "RepeatedKFold_dis = GridSearchCV(estimator_dis, grid_dis, scoring=scoring_dis, cv=cv_RepeatedKFold_dis)\n",
    "RepeatedKFold_dis.fit(dataAve_X_train, dataAve_Y_train)\n",
    "Repeated_grid_for_Ave = print_gridResults(RepeatedKFold_dis)"
   ]
  },
  {
   "cell_type": "code",
   "execution_count": 418,
   "metadata": {},
   "outputs": [
    {
     "name": "stdout",
     "output_type": "stream",
     "text": [
      "Сбалансированная оценка: 0.5186615186615187\n",
      "Матрица ошибок:\n",
      " [[19 18]\n",
      " [30 33]]\n"
     ]
    }
   ],
   "source": [
    "t_Repeated_grid_for_Ave = print_metrics(dataAve_Y_test, get_predict(dataAve_X_train, dataAve_Y_train, \\\n",
    "                                                                dataAve_X_test, Repeated_grid_for_Ave[0]))"
   ]
  },
  {
   "cell_type": "markdown",
   "metadata": {},
   "source": [
    "### 6.1.3. Shuffle Split cross validation"
   ]
  },
  {
   "cell_type": "code",
   "execution_count": 419,
   "metadata": {},
   "outputs": [
    {
     "name": "stdout",
     "output_type": "stream",
     "text": [
      "Подобранный параметр: {'n_neighbors': 4}\n",
      "Оценка при подобранном параметре: 0.546397938435865\n"
     ]
    }
   ],
   "source": [
    "cv_ShuffleSplit_dis = ShuffleSplit(n_splits=SPLITS_DEFAULT, test_size=1/SPLITS_DEFAULT, random_state=0)\n",
    "ShuffleSplit_dis = GridSearchCV(estimator_dis, grid_dis, scoring=scoring_dis, cv=cv_ShuffleSplit_dis)\n",
    "ShuffleSplit_dis.fit(dataAve_X_train, dataAve_Y_train)\n",
    "ShuffleSplit_grid_for_Ave = print_gridResults(ShuffleSplit_dis)"
   ]
  },
  {
   "cell_type": "code",
   "execution_count": 420,
   "metadata": {},
   "outputs": [
    {
     "name": "stdout",
     "output_type": "stream",
     "text": [
      "Сбалансированная оценка: 0.5186615186615187\n",
      "Матрица ошибок:\n",
      " [[19 18]\n",
      " [30 33]]\n"
     ]
    }
   ],
   "source": [
    "t_ShuffleSplit_grid_for_Ave = print_metrics(dataAve_Y_test, get_predict(dataAve_X_train, dataAve_Y_train, \\\n",
    "                                                                        dataAve_X_test, ShuffleSplit_grid_for_Ave[0]))"
   ]
  },
  {
   "cell_type": "markdown",
   "metadata": {},
   "source": [
    "## 6.2. RandomizedGridSearch"
   ]
  },
  {
   "cell_type": "markdown",
   "metadata": {},
   "source": [
    "### 6.2.1. K-fold cross validation"
   ]
  },
  {
   "cell_type": "code",
   "execution_count": 421,
   "metadata": {},
   "outputs": [],
   "source": [
    "grid_for_random = {\"n_neighbors\":randint(1,100)}\n",
    "n_iter_for_random = 20"
   ]
  },
  {
   "cell_type": "code",
   "execution_count": 422,
   "metadata": {},
   "outputs": [
    {
     "name": "stdout",
     "output_type": "stream",
     "text": [
      "Подобранный параметр: {'n_neighbors': 40}\n",
      "Оценка при подобранном параметре: 0.5093072163515016\n"
     ]
    }
   ],
   "source": [
    "Random_KFold_dis = RandomizedSearchCV(estimator_dis, grid_for_random, n_iter=n_iter_for_random, \\\n",
    "                                      scoring=scoring_dis, cv=cv_KFold_dis, random_state=0)\n",
    "Random_KFold_dis.fit(dataAve_X_train, dataAve_Y_train)\n",
    "random_grid_for_Ave = print_gridResults(Random_KFold_dis)"
   ]
  },
  {
   "cell_type": "code",
   "execution_count": 423,
   "metadata": {
    "scrolled": true
   },
   "outputs": [
    {
     "name": "stdout",
     "output_type": "stream",
     "text": [
      "Сбалансированная оценка: 0.5135135135135135\n",
      "Матрица ошибок:\n",
      " [[ 1 36]\n",
      " [ 0 63]]\n"
     ]
    }
   ],
   "source": [
    "t_random_grid_for_Ave = print_metrics(dataAve_Y_test, get_predict(dataAve_X_train, dataAve_Y_train, \\\n",
    "                                                                  dataAve_X_test, random_grid_for_Ave[0]))"
   ]
  },
  {
   "cell_type": "markdown",
   "metadata": {},
   "source": [
    "### 6.2.2. Repeated K-fold cross validation"
   ]
  },
  {
   "cell_type": "code",
   "execution_count": 424,
   "metadata": {},
   "outputs": [
    {
     "name": "stdout",
     "output_type": "stream",
     "text": [
      "Подобранный параметр: {'n_neighbors': 10}\n",
      "Оценка при подобранном параметре: 0.5118418711468486\n"
     ]
    }
   ],
   "source": [
    "RandomRepeated_KFold_dis = RandomizedSearchCV(estimator_dis, grid_for_random, n_iter=n_iter_for_random, \\\n",
    "                                      scoring=scoring_dis, cv=cv_RepeatedKFold_dis, random_state=0)\n",
    "RandomRepeated_KFold_dis.fit(dataAve_X_train, dataAve_Y_train)\n",
    "Repeated_random_grid_for_Ave = print_gridResults(RandomRepeated_KFold_dis)"
   ]
  },
  {
   "cell_type": "code",
   "execution_count": 425,
   "metadata": {},
   "outputs": [
    {
     "name": "stdout",
     "output_type": "stream",
     "text": [
      "Сбалансированная оценка: 0.48348348348348347\n",
      "Матрица ошибок:\n",
      " [[ 7 30]\n",
      " [14 49]]\n"
     ]
    }
   ],
   "source": [
    "t_Repeated_random_grid_for_Ave = print_metrics(dataAve_Y_test, get_predict(dataAve_X_train, dataAve_Y_train, \\\n",
    "                                                                           dataAve_X_test, Repeated_random_grid_for_Ave[0]))"
   ]
  },
  {
   "cell_type": "markdown",
   "metadata": {},
   "source": [
    "### 6.2.3. Shuffle Split cross validation"
   ]
  },
  {
   "cell_type": "code",
   "execution_count": 426,
   "metadata": {},
   "outputs": [
    {
     "name": "stdout",
     "output_type": "stream",
     "text": [
      "Подобранный параметр: {'n_neighbors': 10}\n",
      "Оценка при подобранном параметре: 0.5058134859221516\n"
     ]
    }
   ],
   "source": [
    "RandomShuffleSplit_dis = RandomizedSearchCV(estimator_dis, grid_for_random, n_iter=n_iter_for_random, \\\n",
    "                                      scoring=scoring_dis, cv=cv_ShuffleSplit_dis, random_state=0)\n",
    "RandomShuffleSplit_dis.fit(dataAve_X_train, dataAve_Y_train)\n",
    "ShuffleSplit_random_grid_for_Ave = print_gridResults(RandomShuffleSplit_dis)"
   ]
  },
  {
   "cell_type": "code",
   "execution_count": 427,
   "metadata": {},
   "outputs": [
    {
     "name": "stdout",
     "output_type": "stream",
     "text": [
      "Сбалансированная оценка: 0.48348348348348347\n",
      "Матрица ошибок:\n",
      " [[ 7 30]\n",
      " [14 49]]\n"
     ]
    }
   ],
   "source": [
    "t_ShuffleSplit_random_grid_for_Ave = print_metrics(dataAve_Y_test, get_predict(dataAve_X_train, dataAve_Y_train, \\\n",
    "                                                                           dataAve_X_test, ShuffleSplit_random_grid_for_Ave[0]))"
   ]
  },
  {
   "cell_type": "markdown",
   "metadata": {},
   "source": [
    "# 7. Итоги кросс-валидации"
   ]
  },
  {
   "cell_type": "code",
   "execution_count": 428,
   "metadata": {},
   "outputs": [],
   "source": [
    "lst_label_cv = ['K-fold', 'Repeated K-fold', 'Shuffle Split']\n",
    "dc_k_cv = {'Grid Search':[grid_for_Ave[0], Repeated_grid_for_Ave[0], ShuffleSplit_grid_for_Ave[0]],\\\n",
    "           'Random Grid Search':[random_grid_for_Ave[0], Repeated_random_grid_for_Ave[0], \\\n",
    "                                  ShuffleSplit_random_grid_for_Ave[0]]}\n",
    "dc_score_cv_cross = {'Grid Search':[grid_for_Ave[1], Repeated_grid_for_Ave[1], ShuffleSplit_grid_for_Ave[1]], \\\n",
    "                     'Random Grid Search':[random_grid_for_Ave[1], Repeated_random_grid_for_Ave[1], \\\n",
    "                                            ShuffleSplit_random_grid_for_Ave[1]]}\n",
    "dc_score_cv_test = {'Grid Search':[t_grid_for_Ave, t_Repeated_grid_for_Ave, t_ShuffleSplit_grid_for_Ave], \\\n",
    "                    'Random Grid Search':[t_random_grid_for_Ave, t_Repeated_random_grid_for_Ave, \\\n",
    "                                          t_ShuffleSplit_random_grid_for_Ave]}"
   ]
  },
  {
   "cell_type": "markdown",
   "metadata": {},
   "source": [
    "## 7.1. При произвольном K"
   ]
  },
  {
   "cell_type": "code",
   "execution_count": 429,
   "metadata": {},
   "outputs": [
    {
     "name": "stdout",
     "output_type": "stream",
     "text": [
      "Accuracy для тестового набора: 0.5272415272415272 при k = 5\n",
      "Accuracy для обучающего набора: 0.6762789340595214 при k = 5\n"
     ]
    }
   ],
   "source": [
    "print(f'Accuracy для тестового набора: {any_res_for_Ave} при k = {N_DEFAULT}')\n",
    "print(f'Accuracy для обучающего набора: {t_any_res_for_Ave} при k = {N_DEFAULT}')"
   ]
  },
  {
   "cell_type": "markdown",
   "metadata": {},
   "source": [
    "## 7.2. Подбор без кросс-валидации простым перебором K"
   ]
  },
  {
   "cell_type": "code",
   "execution_count": 430,
   "metadata": {
    "scrolled": false
   },
   "outputs": [
    {
     "name": "stdout",
     "output_type": "stream",
     "text": [
      "Accuracy для тестового набора: 0.5383955383955383 при k = 6\n",
      "Accuracy для обучающего набора: 0.6955034688452311 при k = 6\n"
     ]
    }
   ],
   "source": [
    "print(f'Accuracy для тестового набора: {res_for_Ave} при k = {k_for_Ave}')\n",
    "print(f'Accuracy для обучающего набора: {resTrain_for_Ave} при k = {k_for_Ave}')"
   ]
  },
  {
   "cell_type": "markdown",
   "metadata": {},
   "source": [
    "## 7.3. С кросс-валидацией и GridSearch"
   ]
  },
  {
   "cell_type": "code",
   "execution_count": 431,
   "metadata": {},
   "outputs": [
    {
     "name": "stdout",
     "output_type": "stream",
     "text": [
      "Параметр K:\n"
     ]
    },
    {
     "data": {
      "text/html": [
       "<div>\n",
       "<style scoped>\n",
       "    .dataframe tbody tr th:only-of-type {\n",
       "        vertical-align: middle;\n",
       "    }\n",
       "\n",
       "    .dataframe tbody tr th {\n",
       "        vertical-align: top;\n",
       "    }\n",
       "\n",
       "    .dataframe thead th {\n",
       "        text-align: right;\n",
       "    }\n",
       "</style>\n",
       "<table border=\"1\" class=\"dataframe\">\n",
       "  <thead>\n",
       "    <tr style=\"text-align: right;\">\n",
       "      <th></th>\n",
       "      <th>Grid Search</th>\n",
       "      <th>Random Grid Search</th>\n",
       "    </tr>\n",
       "  </thead>\n",
       "  <tbody>\n",
       "    <tr>\n",
       "      <th>K-fold</th>\n",
       "      <td>4</td>\n",
       "      <td>40</td>\n",
       "    </tr>\n",
       "    <tr>\n",
       "      <th>Repeated K-fold</th>\n",
       "      <td>4</td>\n",
       "      <td>10</td>\n",
       "    </tr>\n",
       "    <tr>\n",
       "      <th>Shuffle Split</th>\n",
       "      <td>4</td>\n",
       "      <td>10</td>\n",
       "    </tr>\n",
       "  </tbody>\n",
       "</table>\n",
       "</div>"
      ],
      "text/plain": [
       "                 Grid Search  Random Grid Search\n",
       "K-fold                     4                  40\n",
       "Repeated K-fold            4                  10\n",
       "Shuffle Split              4                  10"
      ]
     },
     "execution_count": 431,
     "metadata": {},
     "output_type": "execute_result"
    }
   ],
   "source": [
    "print('Параметр K:')\n",
    "pd.DataFrame(dc_k_cv, index=lst_label_cv)"
   ]
  },
  {
   "cell_type": "code",
   "execution_count": 432,
   "metadata": {},
   "outputs": [
    {
     "name": "stdout",
     "output_type": "stream",
     "text": [
      "Accuracy для кросс-валидации:\n"
     ]
    },
    {
     "data": {
      "text/html": [
       "<div>\n",
       "<style scoped>\n",
       "    .dataframe tbody tr th:only-of-type {\n",
       "        vertical-align: middle;\n",
       "    }\n",
       "\n",
       "    .dataframe tbody tr th {\n",
       "        vertical-align: top;\n",
       "    }\n",
       "\n",
       "    .dataframe thead th {\n",
       "        text-align: right;\n",
       "    }\n",
       "</style>\n",
       "<table border=\"1\" class=\"dataframe\">\n",
       "  <thead>\n",
       "    <tr style=\"text-align: right;\">\n",
       "      <th></th>\n",
       "      <th>Grid Search</th>\n",
       "      <th>Random Grid Search</th>\n",
       "    </tr>\n",
       "  </thead>\n",
       "  <tbody>\n",
       "    <tr>\n",
       "      <th>K-fold</th>\n",
       "      <td>0.532956</td>\n",
       "      <td>0.509307</td>\n",
       "    </tr>\n",
       "    <tr>\n",
       "      <th>Repeated K-fold</th>\n",
       "      <td>0.532250</td>\n",
       "      <td>0.511842</td>\n",
       "    </tr>\n",
       "    <tr>\n",
       "      <th>Shuffle Split</th>\n",
       "      <td>0.546398</td>\n",
       "      <td>0.505813</td>\n",
       "    </tr>\n",
       "  </tbody>\n",
       "</table>\n",
       "</div>"
      ],
      "text/plain": [
       "                 Grid Search  Random Grid Search\n",
       "K-fold              0.532956            0.509307\n",
       "Repeated K-fold     0.532250            0.511842\n",
       "Shuffle Split       0.546398            0.505813"
      ]
     },
     "execution_count": 432,
     "metadata": {},
     "output_type": "execute_result"
    }
   ],
   "source": [
    "print('Accuracy для кросс-валидации:')\n",
    "pd.DataFrame(dc_score_cv_cross, index=lst_label_cv)"
   ]
  },
  {
   "cell_type": "code",
   "execution_count": 433,
   "metadata": {},
   "outputs": [
    {
     "name": "stdout",
     "output_type": "stream",
     "text": [
      "Accuracy для тестового набора:\n"
     ]
    },
    {
     "data": {
      "text/html": [
       "<div>\n",
       "<style scoped>\n",
       "    .dataframe tbody tr th:only-of-type {\n",
       "        vertical-align: middle;\n",
       "    }\n",
       "\n",
       "    .dataframe tbody tr th {\n",
       "        vertical-align: top;\n",
       "    }\n",
       "\n",
       "    .dataframe thead th {\n",
       "        text-align: right;\n",
       "    }\n",
       "</style>\n",
       "<table border=\"1\" class=\"dataframe\">\n",
       "  <thead>\n",
       "    <tr style=\"text-align: right;\">\n",
       "      <th></th>\n",
       "      <th>Grid Search</th>\n",
       "      <th>Random Grid Search</th>\n",
       "    </tr>\n",
       "  </thead>\n",
       "  <tbody>\n",
       "    <tr>\n",
       "      <th>K-fold</th>\n",
       "      <td>0.518662</td>\n",
       "      <td>0.513514</td>\n",
       "    </tr>\n",
       "    <tr>\n",
       "      <th>Repeated K-fold</th>\n",
       "      <td>0.518662</td>\n",
       "      <td>0.483483</td>\n",
       "    </tr>\n",
       "    <tr>\n",
       "      <th>Shuffle Split</th>\n",
       "      <td>0.518662</td>\n",
       "      <td>0.483483</td>\n",
       "    </tr>\n",
       "  </tbody>\n",
       "</table>\n",
       "</div>"
      ],
      "text/plain": [
       "                 Grid Search  Random Grid Search\n",
       "K-fold              0.518662            0.513514\n",
       "Repeated K-fold     0.518662            0.483483\n",
       "Shuffle Split       0.518662            0.483483"
      ]
     },
     "execution_count": 433,
     "metadata": {},
     "output_type": "execute_result"
    }
   ],
   "source": [
    "print('Accuracy для тестового набора:')\n",
    "pd.DataFrame(dc_score_cv_test, index=lst_label_cv)"
   ]
  },
  {
   "cell_type": "markdown",
   "metadata": {},
   "source": [
    "## <span style=\"color:red; background:yellow\">Возникло переобучение?</span>"
   ]
  },
  {
   "cell_type": "markdown",
   "metadata": {},
   "source": [
    "## <span style=\"color:red; background:yellow\">Возникло недообучение?</span>"
   ]
  }
 ],
 "metadata": {
  "kernelspec": {
   "display_name": "Python 3",
   "language": "python",
   "name": "python3"
  },
  "language_info": {
   "codemirror_mode": {
    "name": "ipython",
    "version": 3
   },
   "file_extension": ".py",
   "mimetype": "text/x-python",
   "name": "python",
   "nbconvert_exporter": "python",
   "pygments_lexer": "ipython3",
   "version": "3.8.5"
  }
 },
 "nbformat": 4,
 "nbformat_minor": 4
}
